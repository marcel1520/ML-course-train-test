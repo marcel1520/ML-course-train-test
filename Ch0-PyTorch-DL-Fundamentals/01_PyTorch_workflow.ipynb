{
  "cells": [
    {
      "cell_type": "markdown",
      "metadata": {},
      "source": [
        "#  01 PyTorch workflow"
      ]
    },
    {
      "cell_type": "code",
      "execution_count": 1,
      "metadata": {
        "colab": {
          "base_uri": "https://localhost:8080/"
        },
        "id": "Y9VXCvYqqxUU",
        "outputId": "13fe5fc4-fac1-41df-d406-5136c6c813f9"
      },
      "outputs": [
        {
          "data": {
            "text/plain": [
              "{1: 'data (prepare and load)',\n",
              " 2: 'build model',\n",
              " 3: 'fitting the model to data (training)',\n",
              " 4: 'making predictions and evaluating model (inference)',\n",
              " 5: 'saving and loading a model',\n",
              " 6: 'putting it all together'}"
            ]
          },
          "execution_count": 1,
          "metadata": {},
          "output_type": "execute_result"
        }
      ],
      "source": [
        "what_we_are_covering = {1: 'data (prepare and load)',\n",
        "                        2: 'build model',\n",
        "                        3: 'fitting the model to data (training)',\n",
        "                        4: 'making predictions and evaluating model (inference)',\n",
        "                        5: 'saving and loading a model',\n",
        "                        6: 'putting it all together'}\n",
        "what_we_are_covering"
      ]
    },
    {
      "cell_type": "markdown",
      "metadata": {
        "id": "0aND9kGWsT4N"
      },
      "source": [
        "https://docs.pytorch.org/docs/stable/nn.html"
      ]
    },
    {
      "cell_type": "code",
      "execution_count": 2,
      "metadata": {
        "colab": {
          "base_uri": "https://localhost:8080/",
          "height": 35
        },
        "id": "UutAjUa7sAl2",
        "outputId": "cd7e443e-625c-438a-f651-d0672bf9f7cd"
      },
      "outputs": [
        {
          "data": {
            "text/plain": [
              "'2.0.0'"
            ]
          },
          "execution_count": 2,
          "metadata": {},
          "output_type": "execute_result"
        }
      ],
      "source": [
        "import torch\n",
        "from torch import nn # contains all of pytorches building blocks\n",
        "import matplotlib.pyplot as plt\n",
        "\n",
        "# ckeck pytorch version\n",
        "torch.__version__"
      ]
    },
    {
      "cell_type": "markdown",
      "metadata": {
        "id": "8ocsh-eEX3ZI"
      },
      "source": [
        "## 1. Data (preparing and loading)\n",
        "\n",
        "* Excel spreadsheet\n",
        "* Images of any kind\n",
        "* Videos\n",
        "* Audio like songs or podcasts\n",
        "* DNA\n",
        "* Text\n",
        "\n",
        "Machine learning as a game of two parts\n",
        "\n",
        "1. Get data into a numerical representation\n",
        "2. Build a model to learn patterns in that numerical representation\n",
        "\n",
        "creating data using the linear regression formula\n",
        "\n",
        "using a linear regression formula to make a straight line with known parameters"
      ]
    },
    {
      "cell_type": "code",
      "execution_count": 3,
      "metadata": {
        "colab": {
          "base_uri": "https://localhost:8080/"
        },
        "id": "GJ3VLOIgYY9X",
        "outputId": "6849880a-5b8c-4125-f20e-805b2545205b"
      },
      "outputs": [
        {
          "data": {
            "text/plain": [
              "(tensor([[0.0000],\n",
              "         [0.0200],\n",
              "         [0.0400],\n",
              "         [0.0600],\n",
              "         [0.0800],\n",
              "         [0.1000],\n",
              "         [0.1200],\n",
              "         [0.1400],\n",
              "         [0.1600],\n",
              "         [0.1800]]),\n",
              " tensor([[0.3000],\n",
              "         [0.3140],\n",
              "         [0.3280],\n",
              "         [0.3420],\n",
              "         [0.3560],\n",
              "         [0.3700],\n",
              "         [0.3840],\n",
              "         [0.3980],\n",
              "         [0.4120],\n",
              "         [0.4260]]))"
            ]
          },
          "execution_count": 3,
          "metadata": {},
          "output_type": "execute_result"
        }
      ],
      "source": [
        "# create known parameters\n",
        "\n",
        "weight = 0.7\n",
        "bias = 0.3\n",
        "\n",
        "start = 0\n",
        "end = 1\n",
        "step = 0.02\n",
        "X = torch.arange(start, end, step).unsqueeze(dim=1)\n",
        "y = weight * X + bias\n",
        "\n",
        "X[:10], y[:10]"
      ]
    },
    {
      "cell_type": "code",
      "execution_count": 4,
      "metadata": {
        "colab": {
          "base_uri": "https://localhost:8080/"
        },
        "id": "wyYb1kb7b4h2",
        "outputId": "d5249d0f-3428-44f6-916b-b1f3196af808"
      },
      "outputs": [
        {
          "data": {
            "text/plain": [
              "(50, 50)"
            ]
          },
          "execution_count": 4,
          "metadata": {},
          "output_type": "execute_result"
        }
      ],
      "source": [
        "len(X), len(y)"
      ]
    },
    {
      "cell_type": "markdown",
      "metadata": {
        "id": "r4UdISkBb8Fe"
      },
      "source": [
        "### splitting data into training and test sets, validation set is not always used (important concept in machine learning)\n",
        "\n",
        "generalisation -> the ability for a machine learning model to perform well on data it has not seen before"
      ]
    },
    {
      "cell_type": "code",
      "execution_count": 5,
      "metadata": {
        "colab": {
          "base_uri": "https://localhost:8080/"
        },
        "id": "p0ZB-w5QdHYZ",
        "outputId": "d3f85f51-0f4a-4913-bc8a-a2881094cdfe"
      },
      "outputs": [
        {
          "data": {
            "text/plain": [
              "(40, 40, 10, 10)"
            ]
          },
          "execution_count": 5,
          "metadata": {},
          "output_type": "execute_result"
        }
      ],
      "source": [
        "# create train - test split\n",
        "train_split = int(0.8 * len(X))\n",
        "X_train, y_train = X[:train_split], y[:train_split]\n",
        "X_test, y_test = X[train_split:], y[train_split:]\n",
        "\n",
        "len(X_train), len(y_train), len(X_test), len(y_test)"
      ]
    },
    {
      "cell_type": "markdown",
      "metadata": {
        "id": "S9mgeynNd9FI"
      },
      "source": [
        "# Visualizing data\n",
        "\n",
        "https://matplotlib.org/stable/api/_as_gen/matplotlib.pyplot.scatter.html"
      ]
    },
    {
      "cell_type": "code",
      "execution_count": 6,
      "metadata": {
        "id": "AsfGq-JefRA3"
      },
      "outputs": [],
      "source": [
        "def plot_prediction(train_data=X_train,\n",
        "                    train_labels=y_train,\n",
        "                    test_data=X_test,\n",
        "                    test_labels=y_test,\n",
        "                    predictions=None):\n",
        "  \"\"\"\n",
        "  Plots traing data, test data, and compares predictions.\n",
        "  \"\"\"\n",
        "  plt.figure(figsize=(10, 7))\n",
        "\n",
        "  plt.scatter(train_data, train_labels, c=\"b\", s=4, label=\"Training data\")\n",
        "\n",
        "  plt.scatter(test_data, test_labels, c='g', s=4, label='Testing data')\n",
        "\n",
        "  if predictions is not None:\n",
        "      plt.scatter(test_data, predictions, c='r', s=4, label='Predictions')\n",
        "\n",
        "      plt.legend(prop={\"size\": 14});"
      ]
    },
    {
      "cell_type": "code",
      "execution_count": 7,
      "metadata": {
        "colab": {
          "base_uri": "https://localhost:8080/",
          "height": 599
        },
        "id": "Lr51ODjghHgV",
        "outputId": "04270bf1-2179-4d83-a921-82b55b3f746b"
      },
      "outputs": [
        {
          "data": {
            "image/png": "[encoded data removed]",
            "text/plain": [
              "<Figure size 1000x700 with 1 Axes>"
            ]
          },
          "metadata": {},
          "output_type": "display_data"
        }
      ],
      "source": [
        "plot_prediction();"
      ]
    },
    {
      "cell_type": "markdown",
      "metadata": {
        "id": "YyTbIA3Gh2cf"
      },
      "source": [
        "## 2. Building pytorch model\n",
        "\n",
        "https://docs.pytorch.org/docs/stable/generated/torch.nn.Module.html\n",
        "\n",
        "- start with random values (weight, bias)\n",
        "\n",
        "- look at training data and adjust the random values to better represent the ideal values (weight and bias that were used to create the model)\n",
        "\n",
        "main algorithms -> 1. gradient descent 2. backpropagation"
      ]
    },
    {
      "cell_type": "code",
      "execution_count": 8,
      "metadata": {
        "id": "mpzXVg0khfiJ"
      },
      "outputs": [],
      "source": [
        "import torch\n",
        "from torch import nn\n",
        "# create a linear regression model class\n",
        "class LinearRegressionModel(nn.Module): # inheriting from nn.Module\n",
        "  def __init__(self):\n",
        "    super().__init__()\n",
        "    self.weights = nn.Parameter(torch.randn(1, # start with a random weight and try to adjust it to the ideal weight\n",
        "                                            requires_grad=True,\n",
        "                                            dtype=torch.float))\n",
        "    self.bias = nn.Parameter(torch.randn(1, # start with a random bas and try to adjust it to the ideal bias\n",
        "                                         requires_grad=True,\n",
        "                                         dtype=torch.float))\n",
        "\n",
        "  # forward method to define the computation in the model\n",
        "  def forward(self, x: torch.Tensor) -> torch.Tensor: # x is the input data\n",
        "    return self.weights * x + self.bias # formula for the linear regression"
      ]
    },
    {
      "cell_type": "markdown",
      "metadata": {
        "id": "cWRnZfcvpA51"
      },
      "source": [
        "https://machinelearningmastery.com/implementing-gradient-descent-in-pytorch/\n",
        "\n",
        "https://medium.com/@noel.benji/breaking-down-backpropagation-in-pytorch-3762ea107d3a\n",
        "\n",
        "https://docs.pytorch.org/docs/stable/generated/torch.nn.Module.html\n",
        "\n",
        "https://docs.pytorch.org/tutorials/beginner/basics/intro.html\n"
      ]
    },
    {
      "cell_type": "markdown",
      "metadata": {
        "id": "ffxrdMJVqETA"
      },
      "source": [
        "### PyTorch model building essentials\n",
        "\n",
        "* torch.nn - contains all the building blocks for computational graphs\n",
        "\n",
        "* torch.nn.Parameter - what parameters the model should try and learn\n",
        "\n",
        "* torch.nn.Module - The base class for all neural network modules, if subclassed forward() sholud be overwritten (like in the example above)\n",
        "\n",
        "* torch.optin - for optimizers in pytorch, will help with gradient descent\n",
        "\n",
        "* def forward() - all nn.Module subclasses require to overwrite forward"
      ]
    },
    {
      "cell_type": "markdown",
      "metadata": {
        "id": "vz3TUsqvtoZF"
      },
      "source": [
        "libraries for main steps\n",
        "1. Get data ready -> torchvision.transforms, torch.utils.data.Dataset,\n",
        "  torch.utils.data.DataLoader\n",
        "\n",
        "2."
      ]
    },
    {
      "cell_type": "code",
      "execution_count": 9,
      "metadata": {
        "colab": {
          "base_uri": "https://localhost:8080/"
        },
        "id": "c92J7ltUuBtk",
        "outputId": "81a32e72-9a2d-4ea7-9d7f-4228cd8ad289"
      },
      "outputs": [
        {
          "data": {
            "text/plain": [
              "{'getting_data_ready': ['torchvision.transforms',\n",
              "  'torch.utils.data.Dataset',\n",
              "  'torch.utils.data.DataLoader'],\n",
              " 'pre_trained_models': ['torch.nn',\n",
              "  'torch.nn.Module',\n",
              "  'torchvision.models',\n",
              "  'torch.optim'],\n",
              " 'fit_model_to_data_predicting': [],\n",
              " 'evaluation': ['torchmetrics'],\n",
              " 'improving': ['torch.utils.tensorboard'],\n",
              " 'save_and_reload': []}"
            ]
          },
          "execution_count": 9,
          "metadata": {},
          "output_type": "execute_result"
        }
      ],
      "source": [
        "libraries = {\n",
        "    'getting_data_ready': ['torchvision.transforms', 'torch.utils.data.Dataset', 'torch.utils.data.DataLoader'],\n",
        "    'pre_trained_models': ['torch.nn', 'torch.nn.Module', 'torchvision.models', 'torch.optim'],\n",
        "    'fit_model_to_data_predicting': [],\n",
        "    'evaluation': ['torchmetrics'],\n",
        "    'improving': ['torch.utils.tensorboard'],\n",
        "    'save_and_reload': []\n",
        "}\n",
        "\n",
        "libraries"
      ]
    },
    {
      "cell_type": "code",
      "execution_count": 10,
      "metadata": {
        "colab": {
          "base_uri": "https://localhost:8080/"
        },
        "id": "guPzGm7jva1p",
        "outputId": "7eb6d606-07f8-4adf-f4c7-4296a298d5a0"
      },
      "outputs": [
        {
          "data": {
            "text/plain": [
              "[Parameter containing:\n",
              " tensor([0.3367], requires_grad=True),\n",
              " Parameter containing:\n",
              " tensor([0.1288], requires_grad=True)]"
            ]
          },
          "execution_count": 10,
          "metadata": {},
          "output_type": "execute_result"
        }
      ],
      "source": [
        "# create a random seed\n",
        "torch.manual_seed(42)\n",
        "\n",
        "# create instance (subclass od nn.Module)\n",
        "model_0 = LinearRegressionModel()\n",
        "\n",
        "list(model_0.parameters())"
      ]
    },
    {
      "cell_type": "code",
      "execution_count": 11,
      "metadata": {
        "colab": {
          "base_uri": "https://localhost:8080/"
        },
        "id": "RYsQvraLwuYg",
        "outputId": "28888a2a-5144-4007-b26a-49597fa3f0e8"
      },
      "outputs": [
        {
          "data": {
            "text/plain": [
              "OrderedDict([('weights', tensor([0.3367])), ('bias', tensor([0.1288]))])"
            ]
          },
          "execution_count": 11,
          "metadata": {},
          "output_type": "execute_result"
        }
      ],
      "source": [
        "# list named parameters\n",
        "model_0.state_dict()"
      ]
    },
    {
      "cell_type": "markdown",
      "metadata": {
        "id": "nfX7drAWw_bm"
      },
      "source": [
        "## through training the weight and bias values should be as close to the ones that were originally defined"
      ]
    },
    {
      "cell_type": "code",
      "execution_count": 12,
      "metadata": {
        "colab": {
          "base_uri": "https://localhost:8080/"
        },
        "id": "5IcY44UaxK-Y",
        "outputId": "f1c557ca-154d-4161-e7a0-c99f66f26c73"
      },
      "outputs": [
        {
          "data": {
            "text/plain": [
              "(0.7, 0.3)"
            ]
          },
          "execution_count": 12,
          "metadata": {},
          "output_type": "execute_result"
        }
      ],
      "source": [
        "weight, bias"
      ]
    },
    {
      "cell_type": "markdown",
      "metadata": {
        "id": "TAkr6DXpxw6I"
      },
      "source": [
        "### making predictions using torch.inference_mode()\n",
        "\n",
        "checking the model for how well it predicts y_test and x_test\n",
        "\n",
        "data will be run throught the forward() method"
      ]
    },
    {
      "cell_type": "code",
      "execution_count": 13,
      "metadata": {
        "colab": {
          "base_uri": "https://localhost:8080/"
        },
        "id": "f0lkFlMtyfZy",
        "outputId": "2b1f69ef-3c1d-4450-ac43-94056746c3f3"
      },
      "outputs": [
        {
          "data": {
            "text/plain": [
              "(tensor([[0.8000],\n",
              "         [0.8200],\n",
              "         [0.8400],\n",
              "         [0.8600],\n",
              "         [0.8800],\n",
              "         [0.9000],\n",
              "         [0.9200],\n",
              "         [0.9400],\n",
              "         [0.9600],\n",
              "         [0.9800]]),\n",
              " tensor([[0.8600],\n",
              "         [0.8740],\n",
              "         [0.8880],\n",
              "         [0.9020],\n",
              "         [0.9160],\n",
              "         [0.9300],\n",
              "         [0.9440],\n",
              "         [0.9580],\n",
              "         [0.9720],\n",
              "         [0.9860]]))"
            ]
          },
          "execution_count": 13,
          "metadata": {},
          "output_type": "execute_result"
        }
      ],
      "source": [
        "X_test, y_test # optimal model will take in X_test values and predict exactly the y_test values"
      ]
    },
    {
      "cell_type": "code",
      "execution_count": 14,
      "metadata": {
        "colab": {
          "base_uri": "https://localhost:8080/"
        },
        "id": "_6IAgTii0kcl",
        "outputId": "57eab557-570f-4414-c535-ffb442f324b4"
      },
      "outputs": [
        {
          "data": {
            "text/plain": [
              "tensor([[0.3982],\n",
              "        [0.4049],\n",
              "        [0.4116],\n",
              "        [0.4184],\n",
              "        [0.4251],\n",
              "        [0.4318],\n",
              "        [0.4386],\n",
              "        [0.4453],\n",
              "        [0.4520],\n",
              "        [0.4588]], grad_fn=<AddBackward0>)"
            ]
          },
          "execution_count": 14,
          "metadata": {},
          "output_type": "execute_result"
        }
      ],
      "source": [
        "y_preds = model_0(X_test)\n",
        "y_preds"
      ]
    },
    {
      "cell_type": "markdown",
      "metadata": {
        "id": "2U5n2iQm1M7-"
      },
      "source": [
        "https://docs.pytorch.org/docs/stable/generated/torch.autograd.grad_mode.inference_mode.html"
      ]
    },
    {
      "cell_type": "code",
      "execution_count": 15,
      "metadata": {
        "colab": {
          "base_uri": "https://localhost:8080/"
        },
        "id": "QpP5UiF5yUxm",
        "outputId": "196722b1-7e83-46fb-bac6-6c8d01fcc39b"
      },
      "outputs": [
        {
          "data": {
            "text/plain": [
              "tensor([[0.3982],\n",
              "        [0.4049],\n",
              "        [0.4116],\n",
              "        [0.4184],\n",
              "        [0.4251],\n",
              "        [0.4318],\n",
              "        [0.4386],\n",
              "        [0.4453],\n",
              "        [0.4520],\n",
              "        [0.4588]])"
            ]
          },
          "execution_count": 15,
          "metadata": {},
          "output_type": "execute_result"
        }
      ],
      "source": [
        "# make predictions with model\n",
        "with torch.inference_mode(): # turns off gradient tracking, lacking the grad function, makes the code faster at this point\n",
        "  y_preds = model_0(X_test)\n",
        "\n",
        "y_preds\n"
      ]
    },
    {
      "cell_type": "code",
      "execution_count": 16,
      "metadata": {
        "colab": {
          "base_uri": "https://localhost:8080/"
        },
        "id": "UE0Vsj9T1b3T",
        "outputId": "a65b8d31-7bda-4f67-8678-d50602134b09"
      },
      "outputs": [
        {
          "data": {
            "text/plain": [
              "tensor([[0.3982],\n",
              "        [0.4049],\n",
              "        [0.4116],\n",
              "        [0.4184],\n",
              "        [0.4251],\n",
              "        [0.4318],\n",
              "        [0.4386],\n",
              "        [0.4453],\n",
              "        [0.4520],\n",
              "        [0.4588]])"
            ]
          },
          "execution_count": 16,
          "metadata": {},
          "output_type": "execute_result"
        }
      ],
      "source": [
        "with torch.no_grad(): # using the no_grad functions instead of inference ... according to twitter conversation inference is preferred\n",
        "  y_preds = model_0(X_test)\n",
        "y_preds"
      ]
    },
    {
      "cell_type": "code",
      "execution_count": 17,
      "metadata": {
        "colab": {
          "base_uri": "https://localhost:8080/"
        },
        "id": "0hKrC2JzzWi9",
        "outputId": "506fa05c-3a3c-4c58-f9a5-fd58e01ef13c"
      },
      "outputs": [
        {
          "data": {
            "text/plain": [
              "tensor([[0.8600],\n",
              "        [0.8740],\n",
              "        [0.8880],\n",
              "        [0.9020],\n",
              "        [0.9160],\n",
              "        [0.9300],\n",
              "        [0.9440],\n",
              "        [0.9580],\n",
              "        [0.9720],\n",
              "        [0.9860]])"
            ]
          },
          "execution_count": 17,
          "metadata": {},
          "output_type": "execute_result"
        }
      ],
      "source": [
        "y_test"
      ]
    },
    {
      "cell_type": "code",
      "execution_count": 18,
      "metadata": {
        "colab": {
          "base_uri": "https://localhost:8080/",
          "height": 599
        },
        "id": "yLLo88T6zYVK",
        "outputId": "fe419d61-cccc-4b7d-c6c3-223e5d7d13d9"
      },
      "outputs": [
        {
          "data": {
            "image/png": "[encoded data removed]",
            "text/plain": [
              "<Figure size 1000x700 with 1 Axes>"
            ]
          },
          "metadata": {},
          "output_type": "display_data"
        }
      ],
      "source": [
        "plot_prediction(predictions=y_preds)"
      ]
    },
    {
      "cell_type": "markdown",
      "metadata": {
        "id": "Jk0ccwxgMCLI"
      },
      "source": [
        "## idea of training for a model to move from unknown parameters to known parameters\n",
        "\n",
        "## from a poor representation of the data to good representation\n",
        "\n",
        "## measure how the predictions of model is to use a loss function\n",
        "\n",
        "- loss function may also be called cost function or criterion in other cases\n",
        "\n",
        "- **Loss function:** a function to measure how wrong the models predictions are compared to the ideal output\n",
        "\n",
        "- **optimizer:** takes into account the loss of a model and adjusts the parameters (e.g. weight, bias) to improve the loss function\n",
        "\n",
        "- for pytorch a **training loop** and a **testing loop** is needed\n",
        "\n",
        "https://docs.pytorch.org/docs/stable/nn.html#loss-functions\n"
      ]
    },
    {
      "cell_type": "code",
      "execution_count": 19,
      "metadata": {
        "colab": {
          "base_uri": "https://localhost:8080/"
        },
        "id": "uBlqYnkENaAV",
        "outputId": "38ca8091-7105-4f62-deee-1761d951a746"
      },
      "outputs": [
        {
          "data": {
            "text/plain": [
              "[Parameter containing:\n",
              " tensor([0.3367], requires_grad=True),\n",
              " Parameter containing:\n",
              " tensor([0.1288], requires_grad=True)]"
            ]
          },
          "execution_count": 19,
          "metadata": {},
          "output_type": "execute_result"
        }
      ],
      "source": [
        "list(model_0.parameters())"
      ]
    },
    {
      "cell_type": "markdown",
      "metadata": {
        "id": "qHO4ViREPkY3"
      },
      "source": [
        "https://docs.pytorch.org/docs/stable/optim.html"
      ]
    },
    {
      "cell_type": "code",
      "execution_count": 20,
      "metadata": {
        "colab": {
          "base_uri": "https://localhost:8080/"
        },
        "id": "TXvp7J96Nf-7",
        "outputId": "f535dbdb-126b-4377-959e-c5273f4dc8fa"
      },
      "outputs": [
        {
          "data": {
            "text/plain": [
              "OrderedDict([('weights', tensor([0.3367])), ('bias', tensor([0.1288]))])"
            ]
          },
          "execution_count": 20,
          "metadata": {},
          "output_type": "execute_result"
        }
      ],
      "source": [
        "model_0.state_dict()"
      ]
    },
    {
      "cell_type": "code",
      "execution_count": 21,
      "metadata": {
        "id": "0r-UCDxSPBzU"
      },
      "outputs": [],
      "source": [
        "# setup for a loss function\n",
        "loss_fn = nn.L1Loss()\n",
        "\n",
        "# setup for optimizer -> stochastic gradient descent\n",
        "optimizer = torch.optim.SGD(params=model_0.parameters(), # params are the parameters which want to be optimized\n",
        "                            lr=0.01)  # lesarning rate important hyper parameter set by yourself,\n",
        "                                      # the smaller the learning rate the smaller the change in the parameter\n",
        "                                      # -> 0.01 changes to 2nd decimal position of the input value\n",
        "                                      # and the other way around\n"
      ]
    },
    {
      "cell_type": "markdown",
      "metadata": {
        "id": "ijBebGR3Rs8X"
      },
      "source": [
        "### building a training loop and a testing loop in pytorch\n",
        "\n",
        "0. loop through the data multiple times\n",
        "1. forward pass (involves date moving through forward function) to mak epredictions on data - also called forward propagation\n",
        "2. calculate the loss (compare forward pass predictions to ground truth labels)\n",
        "3. optimizer zero grad\n",
        "4. loss backward - moves backwards through the network to calculate the gradients of each parameter with respect to the loss (**backpropagation**)\n",
        "5. optimizer step - use the optimizer to adjust model parameters to try and improve the loss (**gradient descent**)"
      ]
    },
    {
      "cell_type": "code",
      "execution_count": 22,
      "metadata": {
        "colab": {
          "base_uri": "https://localhost:8080/"
        },
        "id": "5xNzkEULVIA2",
        "outputId": "519f4e3e-16b8-46a1-c2e4-b3edf76f5b43"
      },
      "outputs": [
        {
          "data": {
            "text/plain": [
              "[Parameter containing:\n",
              " tensor([0.3367], requires_grad=True),\n",
              " Parameter containing:\n",
              " tensor([0.1288], requires_grad=True)]"
            ]
          },
          "execution_count": 22,
          "metadata": {},
          "output_type": "execute_result"
        }
      ],
      "source": [
        "list(model_0.parameters())"
      ]
    },
    {
      "cell_type": "code",
      "execution_count": 23,
      "metadata": {
        "colab": {
          "base_uri": "https://localhost:8080/"
        },
        "id": "KTuxn2reRwlb",
        "outputId": "1899c4f4-c213-467e-967f-6fb6080f03a4"
      },
      "outputs": [
        {
          "name": "stdout",
          "output_type": "stream",
          "text": [
            "Epoch: 0 / Loss: 0.31288138031959534 / Test Loss: 0.48106518387794495\n",
            "Epoch: 10 / Loss: 0.1976713240146637 / Test Loss: 0.3463551998138428\n",
            "Epoch: 20 / Loss: 0.08908725529909134 / Test Loss: 0.21729660034179688\n",
            "Epoch: 30 / Loss: 0.053148526698350906 / Test Loss: 0.14464017748832703\n",
            "Epoch: 40 / Loss: 0.04543796554207802 / Test Loss: 0.11360953003168106\n",
            "Epoch: 50 / Loss: 0.04167863354086876 / Test Loss: 0.09919948130846024\n",
            "Epoch: 60 / Loss: 0.03818932920694351 / Test Loss: 0.08886633068323135\n",
            "Epoch: 70 / Loss: 0.03476089984178543 / Test Loss: 0.0805937647819519\n",
            "Epoch: 80 / Loss: 0.03132382780313492 / Test Loss: 0.07232122868299484\n",
            "Epoch: 90 / Loss: 0.02788739837706089 / Test Loss: 0.06473556160926819\n",
            "Epoch: 100 / Loss: 0.024458957836031914 / Test Loss: 0.05646304413676262\n",
            "Epoch: 110 / Loss: 0.021020207554101944 / Test Loss: 0.04819049686193466\n",
            "Epoch: 120 / Loss: 0.01758546568453312 / Test Loss: 0.04060482233762741\n",
            "Epoch: 130 / Loss: 0.014155393466353416 / Test Loss: 0.03233227878808975\n",
            "Epoch: 140 / Loss: 0.010716589167714119 / Test Loss: 0.024059748277068138\n",
            "Epoch: 150 / Loss: 0.0072835334576666355 / Test Loss: 0.016474086791276932\n",
            "Epoch: 160 / Loss: 0.0038517764769494534 / Test Loss: 0.008201557211577892\n",
            "Epoch: 170 / Loss: 0.008932482451200485 / Test Loss: 0.005023092031478882\n",
            "Epoch: 180 / Loss: 0.008932482451200485 / Test Loss: 0.005023092031478882\n",
            "Epoch: 190 / Loss: 0.008932482451200485 / Test Loss: 0.005023092031478882\n"
          ]
        }
      ],
      "source": [
        "# an epoch is one loop through the data (epoch is hyper parameter, self set)\n",
        "epochs = 200\n",
        "\n",
        "# track difference values\n",
        "epoch_count = []\n",
        "loss_values = []\n",
        "test_loss_values = []\n",
        "\n",
        "### training\n",
        "# 0. looping\n",
        "for epoch in range(epochs):\n",
        "  # set the model to training mode\n",
        "  model_0.train() # sets all parameters that require gradients\n",
        "\n",
        "  # 1. Forward pass\n",
        "  y_pred = model_0(X_train)\n",
        "\n",
        "  # 2. calculate the loss\n",
        "  loss = loss_fn(y_pred, y_train)\n",
        "\n",
        "  # 3. optimizer zero graph\n",
        "  optimizer.zero_grad() # starts each loop iteration fresh\n",
        "\n",
        "  # 4. perform back propagation on the loss with respect to model parameters\n",
        "  loss.backward()\n",
        "\n",
        "  # 5. step the optimizer (perform gradient descent)\n",
        "  optimizer.step()\n",
        "\n",
        "  model_0.eval() # also different settings which are not needed for evaluation/testing (dropout/batch norm layers)\n",
        "  with torch.inference_mode(): # turns off gradient tracking\n",
        "  #with torch.no_grad(): # also valid but more widley used in older code\n",
        "    # 1. do the forward pass\n",
        "    test_pred = model_0(X_test)\n",
        "\n",
        "    # 2. calculate te loss\n",
        "    test_loss = loss_fn(test_pred, y_test)\n",
        "\n",
        "  if epoch % 10 == 0:\n",
        "    epoch_count.append(epoch)\n",
        "    loss_values.append(loss)\n",
        "    test_loss_values.append(test_loss)\n",
        "    print(f\"Epoch: {epoch} / Loss: {loss} / Test Loss: {test_loss}\")"
      ]
    },
    {
      "cell_type": "markdown",
      "metadata": {
        "id": "FBGEpC9c17zf"
      },
      "source": [
        "1. created empty lists for storing values of importance\n",
        "2. model.eval() let the model know what we want to do, hence evaluate -> turns off functionality which is not needed\n",
        "3. activate torch.inference_mode() to disable functionality such as gradient tracking, use inference mode makes the model evaluate faster\n",
        "4. passing the test data through the model -> will call the implemented forward method\n",
        "5. calculate the loss value, how wrong the models predictions on the test dataset\n",
        "6. display information outputs per number of epochs, can be customized depending on the number of epochs being run"
      ]
    },
    {
      "cell_type": "code",
      "execution_count": 24,
      "metadata": {
        "colab": {
          "base_uri": "https://localhost:8080/",
          "height": 472
        },
        "id": "3hqih-hGyi6v",
        "outputId": "31b8f5de-cea7-46b3-abee-590356267504"
      },
      "outputs": [
        {
          "data": {
            "image/png": "[encoded data removed]",
            "text/plain": [
              "<Figure size 640x480 with 1 Axes>"
            ]
          },
          "metadata": {},
          "output_type": "display_data"
        }
      ],
      "source": [
        "import numpy as np\n",
        "# plot the loss curves\n",
        "plt.plot(epoch_count, np.array(torch.tensor(loss_values).numpy()), label='Train loss')\n",
        "plt.plot(epoch_count, test_loss_values, label='Test loss')\n",
        "plt.title('Training and Test loss curves')\n",
        "plt.ylabel('Loss')\n",
        "plt.xlabel('Epochs')\n",
        "plt.legend();"
      ]
    },
    {
      "cell_type": "code",
      "execution_count": 25,
      "metadata": {
        "id": "4htsfFg0A5yP"
      },
      "outputs": [],
      "source": [
        "with torch.inference_mode():\n",
        "  y_preds_new = model_0(X_test)"
      ]
    },
    {
      "cell_type": "markdown",
      "metadata": {
        "id": "JuPAagbr7QEq"
      },
      "source": [
        "Function: pass the data through a model for a number of epochs\n",
        "\n",
        "1. pass the data through the model, performed by the forward() method, refere to LinearReggresionModel\n",
        "\n",
        "2. calculate the loss value (how worng the models predictions are)\n",
        "\n",
        "3. zero the optimizer gradients (they accumulate every epoch, zero them to start fresh each forward pass)\n",
        "\n",
        "4. perform backpropagation on the loss function (compute the gradient of every parameter with ... requires_grad=True)\n",
        "\n",
        "5. step the optimizer to update the models parameters with respect to the gradients calculated by looss.backward()"
      ]
    },
    {
      "cell_type": "code",
      "execution_count": 26,
      "metadata": {
        "colab": {
          "base_uri": "https://localhost:8080/"
        },
        "id": "RQ-4agpC_I3Z",
        "outputId": "cc305bb3-3f2a-48b4-d3e3-0785ca2a7eeb"
      },
      "outputs": [
        {
          "data": {
            "text/plain": [
              "OrderedDict([('weights', tensor([0.6990])), ('bias', tensor([0.3093]))])"
            ]
          },
          "execution_count": 26,
          "metadata": {},
          "output_type": "execute_result"
        }
      ],
      "source": [
        "model_0.state_dict()"
      ]
    },
    {
      "cell_type": "code",
      "execution_count": 27,
      "metadata": {
        "colab": {
          "base_uri": "https://localhost:8080/"
        },
        "id": "EvHdg9vd_kXK",
        "outputId": "71fc82ed-9cb9-4fec-9095-e345e438b844"
      },
      "outputs": [
        {
          "data": {
            "text/plain": [
              "(0.7, 0.3)"
            ]
          },
          "execution_count": 27,
          "metadata": {},
          "output_type": "execute_result"
        }
      ],
      "source": [
        "weight, bias"
      ]
    },
    {
      "cell_type": "code",
      "execution_count": 28,
      "metadata": {
        "colab": {
          "base_uri": "https://localhost:8080/",
          "height": 599
        },
        "id": "Y9muOAr-AliJ",
        "outputId": "2d29a5db-efdd-440c-a041-a9461babd853"
      },
      "outputs": [
        {
          "data": {
            "image/png": "[encoded data removed]",
            "text/plain": [
              "<Figure size 1000x700 with 1 Axes>"
            ]
          },
          "metadata": {},
          "output_type": "display_data"
        }
      ],
      "source": [
        "plot_prediction(predictions=y_preds)"
      ]
    },
    {
      "cell_type": "code",
      "execution_count": 29,
      "metadata": {
        "colab": {
          "base_uri": "https://localhost:8080/",
          "height": 599
        },
        "id": "yqAgkFIQBWgA",
        "outputId": "922844c8-5a13-4db0-ab90-ad04e7bb53d8"
      },
      "outputs": [
        {
          "data": {
            "image/png": "[encoded data removed]",
            "text/plain": [
              "<Figure size 1000x700 with 1 Axes>"
            ]
          },
          "metadata": {},
          "output_type": "display_data"
        }
      ],
      "source": [
        "plot_prediction(predictions=y_preds_new)"
      ]
    },
    {
      "cell_type": "markdown",
      "metadata": {
        "id": "KXevXcsW5H8i"
      },
      "source": [
        "# saving a model in PyTorch\n",
        "\n",
        "3 methods to know for saving and oading models in PyTorch\n",
        "\n",
        "1. torch.save() - allows saving pytorch object in python pickle format\n",
        "2. torch.load() - allows loading a saved pytorch object\n",
        "3. torch.nn.Module.load_state_dict() - allows to load a models saved state dictionary\n",
        "\n",
        "https://docs.pytorch.org/tutorials/beginner/saving_loading_models.html"
      ]
    },
    {
      "cell_type": "code",
      "execution_count": 30,
      "metadata": {
        "colab": {
          "base_uri": "https://localhost:8080/"
        },
        "id": "dRTTrFK45wxg",
        "outputId": "8d95b536-2b81-4645-f5bd-13bbdd9b461e"
      },
      "outputs": [
        {
          "name": "stdout",
          "output_type": "stream",
          "text": [
            "OrderedDict([('weights', tensor([0.6990])), ('bias', tensor([0.3093]))])\n"
          ]
        },
        {
          "data": {
            "text/plain": [
              "[Parameter containing:\n",
              " tensor([0.6990], requires_grad=True),\n",
              " Parameter containing:\n",
              " tensor([0.3093], requires_grad=True)]"
            ]
          },
          "execution_count": 30,
          "metadata": {},
          "output_type": "execute_result"
        }
      ],
      "source": [
        "print(model_0.state_dict())\n",
        "list(model_0.parameters())"
      ]
    },
    {
      "cell_type": "code",
      "execution_count": 31,
      "metadata": {
        "colab": {
          "base_uri": "https://localhost:8080/"
        },
        "id": "GmUsrslJ7ByY",
        "outputId": "6c5ea9a6-0257-40f1-fcba-8e62fb3544db"
      },
      "outputs": [
        {
          "name": "stdout",
          "output_type": "stream",
          "text": [
            "Saving model to: models/01_pytorch_workflow_model_0.pth\n"
          ]
        }
      ],
      "source": [
        "# saving the pytorch model\n",
        "from pathlib import Path\n",
        "\n",
        "# 1. create models directory\n",
        "MODEL_PATH = Path('models')\n",
        "MODEL_PATH.mkdir(parents=True, exist_ok=True)\n",
        "\n",
        "# 2. create model save path\n",
        "MODEL_NAME = '01_pytorch_workflow_model_0.pth'\n",
        "MODEL_SAVE_PATH = MODEL_PATH / MODEL_NAME\n",
        "\n",
        "# 3. save the model state dict\n",
        "print(f\"Saving model to: {MODEL_SAVE_PATH}\")\n",
        "torch.save(obj=model_0.state_dict(),\n",
        "           f=MODEL_SAVE_PATH)"
      ]
    },
    {
      "cell_type": "code",
      "execution_count": 32,
      "metadata": {
        "colab": {
          "base_uri": "https://localhost:8080/"
        },
        "id": "ktBUJDJ589c3",
        "outputId": "d17a18ca-8ec9-4848-fb22-44c1c31de407"
      },
      "outputs": [
        {
          "name": "stdout",
          "output_type": "stream",
          "text": [
            "total 8\n",
            "-rw-r--r--@ 1 marcelmann  staff  1207 Jul  8 22:46 01_pytorch_workflow_model_0.pth\n"
          ]
        }
      ],
      "source": [
        "!ls -l models"
      ]
    },
    {
      "cell_type": "markdown",
      "metadata": {
        "id": "-RWntYHk9kWJ"
      },
      "source": [
        "# loading a pytorch model"
      ]
    },
    {
      "cell_type": "code",
      "execution_count": 33,
      "metadata": {
        "colab": {
          "base_uri": "https://localhost:8080/"
        },
        "id": "fl2HJ0FD9ZiN",
        "outputId": "78b78b45-7cd1-4dea-bf35-cb04f37170db"
      },
      "outputs": [
        {
          "name": "stdout",
          "output_type": "stream",
          "text": [
            "state dict values of the model instance before updating with the loaded values: OrderedDict([('weights', tensor([0.3367])), ('bias', tensor([0.1288]))])\n"
          ]
        },
        {
          "data": {
            "text/plain": [
              "<All keys matched successfully>"
            ]
          },
          "execution_count": 33,
          "metadata": {},
          "output_type": "execute_result"
        }
      ],
      "source": [
        "torch.manual_seed(42)\n",
        "# to load in a saved state_dict a new instance of the model class has to be created\n",
        "loaded_model_0 = LinearRegressionModel()\n",
        "print(f\"state dict values of the model instance before updating with the loaded values: {loaded_model_0.state_dict()}\")\n",
        "\n",
        "# load the saved state_dict of model_0 which will update the new instance with updated parameters\n",
        "loaded_model_0.load_state_dict(torch.load(f=MODEL_SAVE_PATH))"
      ]
    },
    {
      "cell_type": "code",
      "execution_count": 34,
      "metadata": {
        "colab": {
          "base_uri": "https://localhost:8080/"
        },
        "id": "EMwLlWgU_Y6M",
        "outputId": "409eda0b-d3e9-4300-eabb-0635e43d01cb"
      },
      "outputs": [
        {
          "name": "stdout",
          "output_type": "stream",
          "text": [
            "state dict values after the load of the updated values: OrderedDict([('weights', tensor([0.6990])), ('bias', tensor([0.3093]))])\n"
          ]
        }
      ],
      "source": [
        "print(f\"state dict values after the load of the updated values: {loaded_model_0.state_dict()}\")"
      ]
    },
    {
      "cell_type": "code",
      "execution_count": 35,
      "metadata": {
        "colab": {
          "base_uri": "https://localhost:8080/"
        },
        "id": "4fgpMHueAwel",
        "outputId": "11e89400-edff-4fbd-930f-2c707852edf3"
      },
      "outputs": [
        {
          "data": {
            "text/plain": [
              "tensor([[0.8685],\n",
              "        [0.8825],\n",
              "        [0.8965],\n",
              "        [0.9105],\n",
              "        [0.9245],\n",
              "        [0.9384],\n",
              "        [0.9524],\n",
              "        [0.9664],\n",
              "        [0.9804],\n",
              "        [0.9944]])"
            ]
          },
          "execution_count": 35,
          "metadata": {},
          "output_type": "execute_result"
        }
      ],
      "source": [
        "# make some predictions with loaded model\n",
        "loaded_model_0.eval()\n",
        "with torch.inference_mode():\n",
        "  loaded_model_preds = loaded_model_0(X_test)\n",
        "\n",
        "loaded_model_preds"
      ]
    },
    {
      "cell_type": "code",
      "execution_count": 36,
      "metadata": {
        "colab": {
          "base_uri": "https://localhost:8080/"
        },
        "id": "engDncJlEyLc",
        "outputId": "5608d480-6b33-4847-f6d8-d9fd9e1d6cae"
      },
      "outputs": [
        {
          "data": {
            "text/plain": [
              "tensor([[0.8685],\n",
              "        [0.8825],\n",
              "        [0.8965],\n",
              "        [0.9105],\n",
              "        [0.9245],\n",
              "        [0.9384],\n",
              "        [0.9524],\n",
              "        [0.9664],\n",
              "        [0.9804],\n",
              "        [0.9944]])"
            ]
          },
          "execution_count": 36,
          "metadata": {},
          "output_type": "execute_result"
        }
      ],
      "source": [
        "with torch.inference_mode():\n",
        "  y_preds = model_0(X_test)\n",
        "\n",
        "y_preds"
      ]
    },
    {
      "cell_type": "code",
      "execution_count": 37,
      "metadata": {
        "colab": {
          "base_uri": "https://localhost:8080/"
        },
        "id": "sL2Gjl1tFKm_",
        "outputId": "7d8c937b-2744-4223-c98c-d8e04136b8f1"
      },
      "outputs": [
        {
          "data": {
            "text/plain": [
              "tensor([[True],\n",
              "        [True],\n",
              "        [True],\n",
              "        [True],\n",
              "        [True],\n",
              "        [True],\n",
              "        [True],\n",
              "        [True],\n",
              "        [True],\n",
              "        [True]])"
            ]
          },
          "execution_count": 37,
          "metadata": {},
          "output_type": "execute_result"
        }
      ],
      "source": [
        "# compare loaded model preds with original model predictions\n",
        "\n",
        "loaded_model_preds == y_preds"
      ]
    },
    {
      "cell_type": "markdown",
      "metadata": {
        "id": "1XRs7RiBFw58"
      },
      "source": [
        "# recap of the previous steps"
      ]
    },
    {
      "cell_type": "code",
      "execution_count": 38,
      "metadata": {
        "colab": {
          "base_uri": "https://localhost:8080/",
          "height": 35
        },
        "id": "nI-gZ1vuG_1v",
        "outputId": "f497a29f-da75-4a82-c8af-1dd3244a155d"
      },
      "outputs": [
        {
          "data": {
            "text/plain": [
              "'2.0.0'"
            ]
          },
          "execution_count": 38,
          "metadata": {},
          "output_type": "execute_result"
        }
      ],
      "source": [
        "# importing libraries\n",
        "import torch\n",
        "from torch import nn\n",
        "import matplotlib.pyplot as plt\n",
        "\n",
        "# check PyTorch version\n",
        "torch.__version__"
      ]
    },
    {
      "cell_type": "code",
      "execution_count": 39,
      "metadata": {
        "colab": {
          "base_uri": "https://localhost:8080/",
          "height": 35
        },
        "id": "5NTXUr8CHQTY",
        "outputId": "5837bfef-9a57-4683-d30f-1868325a5432"
      },
      "outputs": [
        {
          "data": {
            "text/plain": [
              "'cpu'"
            ]
          },
          "execution_count": 39,
          "metadata": {},
          "output_type": "execute_result"
        }
      ],
      "source": [
        "# device agnostic code\n",
        "device = \"cuda\" if torch.cuda.is_available() else \"cpu\"\n",
        "device"
      ]
    },
    {
      "cell_type": "code",
      "execution_count": 40,
      "metadata": {
        "colab": {
          "base_uri": "https://localhost:8080/"
        },
        "id": "RzzXUlFeU00N",
        "outputId": "5c4f026f-1fbd-474c-c9f5-de0387f92daa"
      },
      "outputs": [
        {
          "data": {
            "text/plain": [
              "(tensor([[0.0000],\n",
              "         [0.0200],\n",
              "         [0.0400],\n",
              "         [0.0600],\n",
              "         [0.0800],\n",
              "         [0.1000],\n",
              "         [0.1200],\n",
              "         [0.1400],\n",
              "         [0.1600],\n",
              "         [0.1800]]),\n",
              " tensor([[0.3000],\n",
              "         [0.3140],\n",
              "         [0.3280],\n",
              "         [0.3420],\n",
              "         [0.3560],\n",
              "         [0.3700],\n",
              "         [0.3840],\n",
              "         [0.3980],\n",
              "         [0.4120],\n",
              "         [0.4260]]))"
            ]
          },
          "execution_count": 40,
          "metadata": {},
          "output_type": "execute_result"
        }
      ],
      "source": [
        "# generate data using the linear reggresion formula y = weight * x + height\n",
        "weight = 0.7\n",
        "bias = 0.3\n",
        "\n",
        "# create range values\n",
        "start = 0\n",
        "end = 1\n",
        "step = 0.02\n",
        "\n",
        "# create X and y  (features and labels)\n",
        "X = torch.arange(start, end, step).unsqueeze(dim=1)\n",
        "y = weight * X + bias\n",
        "X[:10], y[:10]"
      ]
    },
    {
      "cell_type": "code",
      "execution_count": 41,
      "metadata": {
        "colab": {
          "base_uri": "https://localhost:8080/"
        },
        "id": "WkrOKY1uVs-_",
        "outputId": "f5b364aa-83c0-4bf0-b73e-173e02b35c6a"
      },
      "outputs": [
        {
          "data": {
            "text/plain": [
              "(40, 40, 10, 10)"
            ]
          },
          "execution_count": 41,
          "metadata": {},
          "output_type": "execute_result"
        }
      ],
      "source": [
        "# split data\n",
        "train_split = int(0.8 * len(X))\n",
        "X_train, y_train = X[:train_split], y[:train_split]\n",
        "X_test, y_test = X[train_split:], y[train_split:]\n",
        "len(X_train), len(y_train), len(X_test), len(y_test)"
      ]
    },
    {
      "cell_type": "code",
      "execution_count": 42,
      "metadata": {
        "colab": {
          "base_uri": "https://localhost:8080/",
          "height": 599
        },
        "id": "svSbHHlpWqf5",
        "outputId": "6cbe1a3e-04eb-4e44-c660-aeaccc309205"
      },
      "outputs": [
        {
          "data": {
            "image/png": "[encoded data removed]",
            "text/plain": [
              "<Figure size 1000x700 with 1 Axes>"
            ]
          },
          "metadata": {},
          "output_type": "display_data"
        }
      ],
      "source": [
        "plot_prediction(X_train, y_train, X_test, y_test)"
      ]
    },
    {
      "cell_type": "code",
      "execution_count": 43,
      "metadata": {
        "id": "Kley1EitahHG"
      },
      "outputs": [],
      "source": [
        "# creating model class\n",
        "import torch\n",
        "from torch import nn\n",
        "\n",
        "class LinearRegressionModel2(nn.Module):\n",
        "  def __init__(self):\n",
        "    super().__init__()\n",
        "    self.weights = nn.Parameter(torch.rand(1,\n",
        "                                           requires_grad=True,\n",
        "                                           dtype=float))\n",
        "\n",
        "    self.bias = nn.Parameter(torch.rand(1,\n",
        "                                        requires_grad=True,\n",
        "                                        dtype=float))\n",
        "\n",
        "    def forward(self, x: torch.Tensor) -> torch.Tensor:\n",
        "      return self.weights * x + self.bias"
      ]
    },
    {
      "cell_type": "markdown",
      "metadata": {
        "id": "cWPF-TiCfVeS"
      },
      "source": [
        "https://docs.pytorch.org/docs/stable/generated/torch.nn.Linear.html"
      ]
    },
    {
      "cell_type": "code",
      "execution_count": 44,
      "metadata": {
        "colab": {
          "base_uri": "https://localhost:8080/"
        },
        "id": "PzuYgZDYcYVq",
        "outputId": "b3ee0981-9a79-4bc5-bfae-2815b001d810"
      },
      "outputs": [
        {
          "data": {
            "text/plain": [
              "(LinearRegressionModelV2(\n",
              "   (linear_layer): Linear(in_features=1, out_features=1, bias=True)\n",
              " ),\n",
              " OrderedDict([('linear_layer.weight', tensor([[0.7645]])),\n",
              "              ('linear_layer.bias', tensor([0.8300]))]))"
            ]
          },
          "execution_count": 44,
          "metadata": {},
          "output_type": "execute_result"
        }
      ],
      "source": [
        "# creating a linear model by subclassing nn.Module\n",
        "class LinearRegressionModelV2(nn.Module):\n",
        "  def __init__(self):\n",
        "    super().__init__()\n",
        "    # use nn.Linear() for creating the model parameters\n",
        "    self.linear_layer = nn.Linear(in_features=1,\n",
        "                                  out_features=1)\n",
        "\n",
        "  def forward(self, x: torch.Tensor) -> torch.Tensor:\n",
        "    return self.linear_layer(x)\n",
        "\n",
        "torch.manual_seed(42)\n",
        "model_1 = LinearRegressionModelV2()\n",
        "model_1, model_1.state_dict()"
      ]
    },
    {
      "cell_type": "code",
      "execution_count": 45,
      "metadata": {
        "colab": {
          "base_uri": "https://localhost:8080/"
        },
        "id": "v1kGZefTdHTi",
        "outputId": "4b61869c-a556-46e6-84d2-2df059b4ca3e"
      },
      "outputs": [
        {
          "data": {
            "text/plain": [
              "(tensor([[0.0000],\n",
              "         [0.0200],\n",
              "         [0.0400],\n",
              "         [0.0600],\n",
              "         [0.0800]]),\n",
              " tensor([[0.3000],\n",
              "         [0.3140],\n",
              "         [0.3280],\n",
              "         [0.3420],\n",
              "         [0.3560]]))"
            ]
          },
          "execution_count": 45,
          "metadata": {},
          "output_type": "execute_result"
        }
      ],
      "source": [
        "X_train[:5], y_train[:5]"
      ]
    },
    {
      "cell_type": "code",
      "execution_count": 46,
      "metadata": {
        "colab": {
          "base_uri": "https://localhost:8080/"
        },
        "id": "8aLAhzlDgqo-",
        "outputId": "f53461b1-a55f-4e05-cf00-93bcd336a8d9"
      },
      "outputs": [
        {
          "data": {
            "text/plain": [
              "device(type='cpu')"
            ]
          },
          "execution_count": 46,
          "metadata": {},
          "output_type": "execute_result"
        }
      ],
      "source": [
        "# training the model, set the model to use the target device\n",
        "next(model_1.parameters()).device"
      ]
    },
    {
      "cell_type": "code",
      "execution_count": 47,
      "metadata": {
        "colab": {
          "base_uri": "https://localhost:8080/"
        },
        "id": "MMSnjjbHih-c",
        "outputId": "71346a05-33d5-4cfe-c807-a7ea46778df4"
      },
      "outputs": [
        {
          "data": {
            "text/plain": [
              "device(type='cpu')"
            ]
          },
          "execution_count": 47,
          "metadata": {},
          "output_type": "execute_result"
        }
      ],
      "source": [
        "# set the model to use the target device\n",
        "model_1.to(device)\n",
        "next(model_1.parameters()).device"
      ]
    },
    {
      "cell_type": "markdown",
      "metadata": {
        "id": "knz4iVPHjGIw"
      },
      "source": [
        "### training\n",
        "\n",
        "* loss function -> measures how wrong the model is\n",
        "* optimizer -> optimizes the models parameters\n",
        "* training loop\n",
        "* testing loop"
      ]
    },
    {
      "cell_type": "code",
      "execution_count": 48,
      "metadata": {
        "colab": {
          "base_uri": "https://localhost:8080/"
        },
        "id": "0tnTWdaZu8IN",
        "outputId": "d5d482de-b150-4ae7-f95b-5243fb1c73fe"
      },
      "outputs": [
        {
          "name": "stdout",
          "output_type": "stream",
          "text": [
            "tensor([[1.4416],\n",
            "        [1.4569],\n",
            "        [1.4722],\n",
            "        [1.4875],\n",
            "        [1.5028],\n",
            "        [1.5181],\n",
            "        [1.5334],\n",
            "        [1.5487],\n",
            "        [1.5640],\n",
            "        [1.5793]])\n",
            "OrderedDict([('linear_layer.weight', tensor([[0.7645]])), ('linear_layer.bias', tensor([0.8300]))])\n"
          ]
        }
      ],
      "source": [
        "with torch.inference_mode():\n",
        "  y_preds = model_1(X_test)\n",
        "print(y_preds)\n",
        "print(model_1.state_dict())"
      ]
    },
    {
      "cell_type": "code",
      "execution_count": 49,
      "metadata": {
        "id": "Do6yhCxgjTaK"
      },
      "outputs": [],
      "source": [
        "# setup the loss function\n",
        "loss_fn = nn.L1Loss() # same as MAE\n",
        "\n",
        "# setup optimizer\n",
        "optimizer = torch.optim.SGD(params=model_1.parameters(),\n",
        "                            lr=0.01)"
      ]
    },
    {
      "cell_type": "code",
      "execution_count": 50,
      "metadata": {
        "colab": {
          "base_uri": "https://localhost:8080/"
        },
        "id": "u7KJeu-UkaF3",
        "outputId": "aa07ccd6-4925-4534-cc5e-c1bf2ec8262c"
      },
      "outputs": [
        {
          "name": "stdout",
          "output_type": "stream",
          "text": [
            "epoch: 0 | loss: 0.5551779866218567 | test loss: 0.5739762187004089\n",
            "epoch: 10 | loss: 0.4399680495262146 | test loss: 0.4392663538455963\n",
            "epoch: 20 | loss: 0.3247582018375397 | test loss: 0.30455657839775085\n",
            "epoch: 30 | loss: 0.20954827964305878 | test loss: 0.16984674334526062\n",
            "epoch: 40 | loss: 0.09433844685554504 | test loss: 0.03513689711689949\n",
            "epoch: 50 | loss: 0.023886386305093765 | test loss: 0.04784906655550003\n",
            "epoch: 60 | loss: 0.0199567973613739 | test loss: 0.04580312222242355\n",
            "epoch: 70 | loss: 0.016517987474799156 | test loss: 0.0375305712223053\n",
            "epoch: 80 | loss: 0.013089170679450035 | test loss: 0.029944902285933495\n",
            "epoch: 90 | loss: 0.009653178043663502 | test loss: 0.02167237363755703\n",
            "epoch: 100 | loss: 0.006215679459273815 | test loss: 0.014086711220443249\n",
            "epoch: 110 | loss: 0.002787243574857712 | test loss: 0.005814164876937866\n",
            "epoch: 120 | loss: 0.0012645035749301314 | test loss: 0.013801807537674904\n",
            "epoch: 130 | loss: 0.0012645035749301314 | test loss: 0.013801807537674904\n",
            "epoch: 140 | loss: 0.0012645035749301314 | test loss: 0.013801807537674904\n",
            "epoch: 150 | loss: 0.0012645035749301314 | test loss: 0.013801807537674904\n",
            "epoch: 160 | loss: 0.0012645035749301314 | test loss: 0.013801807537674904\n",
            "epoch: 170 | loss: 0.0012645035749301314 | test loss: 0.013801807537674904\n",
            "epoch: 180 | loss: 0.0012645035749301314 | test loss: 0.013801807537674904\n",
            "epoch: 190 | loss: 0.0012645035749301314 | test loss: 0.013801807537674904\n"
          ]
        }
      ],
      "source": [
        "# training loop\n",
        "\n",
        "torch.manual_seed(42)\n",
        "\n",
        "epochs = 200\n",
        "epoch_count2 = []\n",
        "loss_values2 = []\n",
        "test_loss_values2 = []\n",
        "\n",
        "# device agnostic code for data\n",
        "X_train = X_train.to(device)\n",
        "y_train = y_train.to(device)\n",
        "X_test = X_test.to(device)\n",
        "y_test = y_test.to(device)\n",
        "\n",
        "for epoch in range(epochs):\n",
        "  model_1.train()\n",
        "\n",
        "  # 1. forward pass\n",
        "  y_pred = model_1(X_train)\n",
        "\n",
        "  # 2. calculate the loss\n",
        "  loss = loss_fn(y_pred, y_train)\n",
        "\n",
        "  # 3. optimizer zero grad\n",
        "  optimizer.zero_grad()\n",
        "\n",
        "  # 4. perform backpropagation\n",
        "  loss.backward()\n",
        "\n",
        "  # 5. optimizer step\n",
        "  optimizer.step()\n",
        "\n",
        "  ### testing\n",
        "  model_1.eval()\n",
        "  with torch.inference_mode():\n",
        "    test_pred = model_1(X_test)\n",
        "\n",
        "    test_loss = loss_fn(test_pred, y_test)\n",
        "\n",
        "    # print out stepwise\n",
        "    if epoch % 10 == 0:\n",
        "      epoch_count2.append(epoch)\n",
        "      loss_values2.append(loss)\n",
        "      test_loss_values2.append(test_loss)\n",
        "      print(f\"epoch: {epoch} | loss: {loss} | test loss: {test_loss}\")"
      ]
    },
    {
      "cell_type": "code",
      "execution_count": 51,
      "metadata": {
        "colab": {
          "base_uri": "https://localhost:8080/",
          "height": 599
        },
        "id": "lZGzrxB3sQCE",
        "outputId": "fc086cf9-5c2c-409e-a01d-9cdf21b0d5a3"
      },
      "outputs": [
        {
          "data": {
            "image/png": "[encoded data removed]",
            "text/plain": [
              "<Figure size 1000x700 with 1 Axes>"
            ]
          },
          "metadata": {},
          "output_type": "display_data"
        }
      ],
      "source": [
        "model_1.eval()\n",
        "with torch.inference_mode():\n",
        "  y_preds_new = model_1(X_test)\n",
        "plot_prediction(X_train, y_train, X_test, y_test, y_preds)"
      ]
    },
    {
      "cell_type": "code",
      "execution_count": 52,
      "metadata": {
        "colab": {
          "base_uri": "https://localhost:8080/",
          "height": 599
        },
        "id": "fRkSsqoZvY9-",
        "outputId": "339a9a1a-49be-4911-b10c-19e18423c966"
      },
      "outputs": [
        {
          "data": {
            "image/png": "[encoded data removed]",
            "text/plain": [
              "<Figure size 1000x700 with 1 Axes>"
            ]
          },
          "metadata": {},
          "output_type": "display_data"
        }
      ],
      "source": [
        "plot_prediction(X_train, y_train, X_test, y_test, y_preds_new)"
      ]
    },
    {
      "cell_type": "code",
      "execution_count": 53,
      "metadata": {
        "colab": {
          "base_uri": "https://localhost:8080/",
          "height": 472
        },
        "id": "QdwO18LkqRLq",
        "outputId": "4743b0a1-1af0-48e9-a13e-c18edbb2f990"
      },
      "outputs": [
        {
          "data": {
            "image/png": "[encoded data removed]",
            "text/plain": [
              "<Figure size 640x480 with 1 Axes>"
            ]
          },
          "metadata": {},
          "output_type": "display_data"
        }
      ],
      "source": [
        "import numpy as np\n",
        "\n",
        "plt.plot(epoch_count2, np.array(torch.tensor(loss_values2).numpy()), label='Test Loss')\n",
        "plt.plot(epoch_count2, test_loss_values2, label='Train Loss')\n",
        "plt.title('Training and Test loss curves')\n",
        "plt.ylabel('Epoch')\n",
        "plt.xlabel('Loss')\n",
        "plt.legend();"
      ]
    },
    {
      "cell_type": "code",
      "execution_count": 54,
      "metadata": {
        "colab": {
          "base_uri": "https://localhost:8080/"
        },
        "id": "QW0QH6SwsB9j",
        "outputId": "45c0cb5b-3f71-4ec4-97c0-011eea197a43"
      },
      "outputs": [
        {
          "name": "stdout",
          "output_type": "stream",
          "text": [
            "tensor([[0.8600],\n",
            "        [0.8739],\n",
            "        [0.8878],\n",
            "        [0.9018],\n",
            "        [0.9157],\n",
            "        [0.9296],\n",
            "        [0.9436],\n",
            "        [0.9575],\n",
            "        [0.9714],\n",
            "        [0.9854]])\n"
          ]
        }
      ],
      "source": [
        "model_1.state_dict()\n",
        "print(y_preds_new)"
      ]
    },
    {
      "cell_type": "code",
      "execution_count": 55,
      "metadata": {
        "colab": {
          "base_uri": "https://localhost:8080/"
        },
        "id": "KA5DeKYFsGHp",
        "outputId": "ac1df054-5141-4ec2-aa82-a29abc95964e"
      },
      "outputs": [
        {
          "data": {
            "text/plain": [
              "(0.7, 0.3)"
            ]
          },
          "execution_count": 55,
          "metadata": {},
          "output_type": "execute_result"
        }
      ],
      "source": [
        "weight, bias"
      ]
    },
    {
      "cell_type": "markdown",
      "metadata": {
        "id": "h4321mCAwyzH"
      },
      "source": [
        "in case of type error when doing any sort of plotting data in that regard always keep in mind\n",
        "\n",
        "***-> when using gpu pay attention, plotting with matplotlib requires numpy and NOT pytorch ... and numpy is cpu based***"
      ]
    },
    {
      "cell_type": "code",
      "execution_count": 56,
      "metadata": {
        "colab": {
          "base_uri": "https://localhost:8080/"
        },
        "id": "lWvdXHGizL-Y",
        "outputId": "1b44e6e2-74ba-4c03-d966-90cbb973df4c"
      },
      "outputs": [
        {
          "name": "stdout",
          "output_type": "stream",
          "text": [
            "Saving model to: models/01_pytorch_workflow_model_1.pth\n"
          ]
        }
      ],
      "source": [
        "from pathlib import Path\n",
        "\n",
        "\n",
        "#MODEL_PATH = Path('models')\n",
        "#MODEL_PATH.mkdir(parents=True, exist_ok=True)\n",
        "\n",
        "MODEL_NAME = '01_pytorch_workflow_model_1.pth'\n",
        "MODEL_SAVE_PATH = MODEL_PATH / MODEL_NAME\n",
        "\n",
        "print(f\"Saving model to: {MODEL_SAVE_PATH}\")\n",
        "torch.save(obj=model_1.state_dict(),\n",
        "           f=MODEL_SAVE_PATH)"
      ]
    },
    {
      "cell_type": "code",
      "execution_count": 57,
      "metadata": {
        "colab": {
          "base_uri": "https://localhost:8080/"
        },
        "id": "Fj-nIotE0TCv",
        "outputId": "6aa9a1dd-1e13-428b-8a3e-dd6aaaabb17f"
      },
      "outputs": [
        {
          "name": "stdout",
          "output_type": "stream",
          "text": [
            "total 16\n",
            "-rw-r--r--@ 1 marcelmann  staff  1207 Jul  8 22:46 01_pytorch_workflow_model_0.pth\n",
            "-rw-r--r--@ 1 marcelmann  staff  1271 Jul  8 22:46 01_pytorch_workflow_model_1.pth\n"
          ]
        }
      ],
      "source": [
        "!ls -l models"
      ]
    },
    {
      "cell_type": "code",
      "execution_count": 58,
      "metadata": {
        "colab": {
          "base_uri": "https://localhost:8080/"
        },
        "id": "AMc7j9s71i16",
        "outputId": "57bb7505-2c93-4837-c6ee-55163128bd71"
      },
      "outputs": [
        {
          "data": {
            "text/plain": [
              "OrderedDict([('linear_layer.weight', tensor([[0.6968]])),\n",
              "             ('linear_layer.bias', tensor([0.3025]))])"
            ]
          },
          "execution_count": 58,
          "metadata": {},
          "output_type": "execute_result"
        }
      ],
      "source": [
        "#torch.manual_seed(42)\n",
        "\n",
        "loaded_model_1 = LinearRegressionModelV2()\n",
        "loaded_model_1.load_state_dict(torch.load(f=MODEL_SAVE_PATH))\n",
        "loaded_model_1.state_dict()"
      ]
    },
    {
      "cell_type": "code",
      "execution_count": 59,
      "metadata": {
        "colab": {
          "base_uri": "https://localhost:8080/"
        },
        "id": "tfmMOBXJtSfV",
        "outputId": "43d105d8-e431-488f-f80f-45c101328d03"
      },
      "outputs": [
        {
          "data": {
            "text/plain": [
              "LinearRegressionModelV2(\n",
              "  (linear_layer): Linear(in_features=1, out_features=1, bias=True)\n",
              ")"
            ]
          },
          "execution_count": 59,
          "metadata": {},
          "output_type": "execute_result"
        }
      ],
      "source": [
        "loaded_model_1.to(device)"
      ]
    },
    {
      "cell_type": "code",
      "execution_count": 60,
      "metadata": {
        "colab": {
          "base_uri": "https://localhost:8080/"
        },
        "id": "xJxVV9q2tUld",
        "outputId": "823b1870-fb12-4095-9cb1-d7379dd98a5f"
      },
      "outputs": [
        {
          "data": {
            "text/plain": [
              "device(type='cpu')"
            ]
          },
          "execution_count": 60,
          "metadata": {},
          "output_type": "execute_result"
        }
      ],
      "source": [
        "next(loaded_model_1.parameters()).device"
      ]
    },
    {
      "cell_type": "code",
      "execution_count": 61,
      "metadata": {
        "colab": {
          "base_uri": "https://localhost:8080/"
        },
        "id": "ASXKXmQvte4U",
        "outputId": "ab6acc45-43dc-4820-8fdd-2f44e5b9b40f"
      },
      "outputs": [
        {
          "data": {
            "text/plain": [
              "tensor([[True],\n",
              "        [True],\n",
              "        [True],\n",
              "        [True],\n",
              "        [True],\n",
              "        [True],\n",
              "        [True],\n",
              "        [True],\n",
              "        [True],\n",
              "        [True]])"
            ]
          },
          "execution_count": 61,
          "metadata": {},
          "output_type": "execute_result"
        }
      ],
      "source": [
        "# evaluate loaded model\n",
        "loaded_model_1.eval()\n",
        "with torch.inference_mode():\n",
        "  loaded_model_1_preds = loaded_model_1(X_test)\n",
        "y_preds_new == loaded_model_1_preds"
      ]
    }
  ],
  "metadata": {
    "accelerator": "GPU",
    "colab": {
      "gpuType": "T4",
      "provenance": []
    },
    "kernelspec": {
      "display_name": "pytorch-course",
      "language": "python",
      "name": "python3"
    },
    "language_info": {
      "codemirror_mode": {
        "name": "ipython",
        "version": 3
      },
      "file_extension": ".py",
      "mimetype": "text/x-python",
      "name": "python",
      "nbconvert_exporter": "python",
      "pygments_lexer": "ipython3",
      "version": "3.11.13"
    }
  },
  "nbformat": 4,
  "nbformat_minor": 0
}
