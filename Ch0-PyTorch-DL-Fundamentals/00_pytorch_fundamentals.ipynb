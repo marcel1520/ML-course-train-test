{
  "cells": [
    {
      "cell_type": "markdown",
      "metadata": {
        "id": "0Nh-ESrYp-oS"
      },
      "source": [
        "#  00. PyTorch Fundamentals"
      ]
    },
    {
      "cell_type": "code",
      "execution_count": 1,
      "metadata": {
        "colab": {
          "base_uri": "https://localhost:8080/"
        },
        "id": "VigT3W3vpGOb",
        "outputId": "5149818a-8986-4617-fab1-611938fc76c1"
      },
      "outputs": [
        {
          "name": "stdout",
          "output_type": "stream",
          "text": [
            "2.0.0\n"
          ]
        }
      ],
      "source": [
        "import torch\n",
        "import pandas as pd\n",
        "import matplotlib.pyplot as plt\n",
        "import numpy as np\n",
        "print(torch.__version__)"
      ]
    },
    {
      "cell_type": "code",
      "execution_count": 2,
      "metadata": {
        "id": "MbNkIScMsyKg"
      },
      "outputs": [],
      "source": [
        "## Introduction to tensors\n",
        "\n",
        "### Creating Tensors"
      ]
    },
    {
      "cell_type": "markdown",
      "metadata": {
        "id": "u5-Sz8H09RN8"
      },
      "source": [
        "https://docs.pytorch.org/docs/stable/tensors.html"
      ]
    },
    {
      "cell_type": "code",
      "execution_count": 3,
      "metadata": {
        "colab": {
          "base_uri": "https://localhost:8080/"
        },
        "id": "iamceyz-s97G",
        "outputId": "359f5640-9f44-4c0e-808c-4c994bd54348"
      },
      "outputs": [
        {
          "data": {
            "text/plain": [
              "tensor(7)"
            ]
          },
          "execution_count": 3,
          "metadata": {},
          "output_type": "execute_result"
        }
      ],
      "source": [
        "# scalar\n",
        "scalar = torch.tensor(7)\n",
        "scalar"
      ]
    },
    {
      "cell_type": "code",
      "execution_count": 4,
      "metadata": {
        "colab": {
          "base_uri": "https://localhost:8080/"
        },
        "id": "BaoIsi2atoXO",
        "outputId": "169ade93-273e-494f-b7d1-0518ae0f59c5"
      },
      "outputs": [
        {
          "data": {
            "text/plain": [
              "0"
            ]
          },
          "execution_count": 4,
          "metadata": {},
          "output_type": "execute_result"
        }
      ],
      "source": [
        "scalar.ndim"
      ]
    },
    {
      "cell_type": "code",
      "execution_count": 5,
      "metadata": {
        "colab": {
          "base_uri": "https://localhost:8080/"
        },
        "id": "YHBFJDgLtrZv",
        "outputId": "b82b824c-b4c9-4a24-f595-39894ace11f7"
      },
      "outputs": [
        {
          "data": {
            "text/plain": [
              "7"
            ]
          },
          "execution_count": 5,
          "metadata": {},
          "output_type": "execute_result"
        }
      ],
      "source": [
        "# tensor as python int\n",
        "scalar.item()"
      ]
    },
    {
      "cell_type": "code",
      "execution_count": 6,
      "metadata": {
        "colab": {
          "base_uri": "https://localhost:8080/"
        },
        "id": "sib2q7Yft0Q6",
        "outputId": "c2a2f1e1-9bcb-4484-df3b-550c7e3a7094"
      },
      "outputs": [
        {
          "data": {
            "text/plain": [
              "1"
            ]
          },
          "execution_count": 6,
          "metadata": {},
          "output_type": "execute_result"
        }
      ],
      "source": [
        "# vector\n",
        "vector = torch.tensor([7, 7])\n",
        "vector.ndim"
      ]
    },
    {
      "cell_type": "code",
      "execution_count": 7,
      "metadata": {
        "colab": {
          "base_uri": "https://localhost:8080/"
        },
        "id": "BsBUBjeHuHaK",
        "outputId": "d49b2d90-05cd-4306-8a7b-a750f8256351"
      },
      "outputs": [
        {
          "data": {
            "text/plain": [
              "torch.Size([2])"
            ]
          },
          "execution_count": 7,
          "metadata": {},
          "output_type": "execute_result"
        }
      ],
      "source": [
        "vector.shape"
      ]
    },
    {
      "cell_type": "code",
      "execution_count": 8,
      "metadata": {
        "colab": {
          "base_uri": "https://localhost:8080/"
        },
        "id": "tz8Gz803uOCo",
        "outputId": "15f36dc1-1686-40fa-b021-880b4dc6d706"
      },
      "outputs": [
        {
          "data": {
            "text/plain": [
              "tensor([[7, 8],\n",
              "        [4, 6]])"
            ]
          },
          "execution_count": 8,
          "metadata": {},
          "output_type": "execute_result"
        }
      ],
      "source": [
        "# matrix\n",
        "MATRIX = torch.tensor([[7, 8],\n",
        "                       [4, 6]])\n",
        "MATRIX"
      ]
    },
    {
      "cell_type": "code",
      "execution_count": 9,
      "metadata": {
        "colab": {
          "base_uri": "https://localhost:8080/"
        },
        "id": "wtFs_Y7-4vGQ",
        "outputId": "a822d186-24dc-43ba-d391-802a57bb7a58"
      },
      "outputs": [
        {
          "data": {
            "text/plain": [
              "2"
            ]
          },
          "execution_count": 9,
          "metadata": {},
          "output_type": "execute_result"
        }
      ],
      "source": [
        "MATRIX.ndim"
      ]
    },
    {
      "cell_type": "code",
      "execution_count": 10,
      "metadata": {
        "colab": {
          "base_uri": "https://localhost:8080/"
        },
        "id": "_XR2ijSC4yHP",
        "outputId": "928a06aa-8a40-47a3-decf-008b84c6a6e5"
      },
      "outputs": [
        {
          "data": {
            "text/plain": [
              "tensor([7, 8])"
            ]
          },
          "execution_count": 10,
          "metadata": {},
          "output_type": "execute_result"
        }
      ],
      "source": [
        "MATRIX[0]"
      ]
    },
    {
      "cell_type": "code",
      "execution_count": 11,
      "metadata": {
        "colab": {
          "base_uri": "https://localhost:8080/"
        },
        "id": "lq6Q9jjt5CAK",
        "outputId": "5baba068-f923-461a-b5d5-7ea705db8fec"
      },
      "outputs": [
        {
          "data": {
            "text/plain": [
              "torch.Size([2, 2])"
            ]
          },
          "execution_count": 11,
          "metadata": {},
          "output_type": "execute_result"
        }
      ],
      "source": [
        "MATRIX.shape"
      ]
    },
    {
      "cell_type": "code",
      "execution_count": 12,
      "metadata": {
        "colab": {
          "base_uri": "https://localhost:8080/"
        },
        "id": "DUawC7OK5aNW",
        "outputId": "2e0b028f-9c30-49ae-a8a6-87602037603c"
      },
      "outputs": [
        {
          "data": {
            "text/plain": [
              "tensor([[[1, 2, 3],\n",
              "         [4, 5, 6],\n",
              "         [7, 8, 9]]])"
            ]
          },
          "execution_count": 12,
          "metadata": {},
          "output_type": "execute_result"
        }
      ],
      "source": [
        "# Tensor\n",
        "TENSOR = torch.tensor([[[1, 2, 3], # dim 0 = pink, dim 1 = blue, dim 3 = yellow\n",
        "                        [4, 5, 6],\n",
        "                        [7, 8, 9]]])\n",
        "TENSOR"
      ]
    },
    {
      "cell_type": "code",
      "execution_count": 13,
      "metadata": {
        "colab": {
          "base_uri": "https://localhost:8080/"
        },
        "id": "Kpxqe1Ma5qHC",
        "outputId": "ef53b129-8c77-42dd-a18c-9a31658ee8ae"
      },
      "outputs": [
        {
          "data": {
            "text/plain": [
              "3"
            ]
          },
          "execution_count": 13,
          "metadata": {},
          "output_type": "execute_result"
        }
      ],
      "source": [
        "TENSOR.ndim"
      ]
    },
    {
      "cell_type": "code",
      "execution_count": 14,
      "metadata": {
        "colab": {
          "base_uri": "https://localhost:8080/"
        },
        "id": "nqVXzf7x6Geb",
        "outputId": "2025fb76-1131-42d9-89a7-dfc38e77f014"
      },
      "outputs": [
        {
          "data": {
            "text/plain": [
              "torch.Size([1, 3, 3])"
            ]
          },
          "execution_count": 14,
          "metadata": {},
          "output_type": "execute_result"
        }
      ],
      "source": [
        "TENSOR.shape"
      ]
    },
    {
      "cell_type": "code",
      "execution_count": 15,
      "metadata": {
        "colab": {
          "base_uri": "https://localhost:8080/"
        },
        "id": "yfbabeqW6Kth",
        "outputId": "e1946e82-2d35-4ca5-ebc3-347c5cec8216"
      },
      "outputs": [
        {
          "data": {
            "text/plain": [
              "tensor([[1, 2, 3],\n",
              "        [4, 5, 6],\n",
              "        [7, 8, 9]])"
            ]
          },
          "execution_count": 15,
          "metadata": {},
          "output_type": "execute_result"
        }
      ],
      "source": [
        "TENSOR[0]"
      ]
    },
    {
      "cell_type": "markdown",
      "metadata": {
        "id": "dYoCvFY4hzfW"
      },
      "source": [
        "**scalar** -> a single number;\n",
        "number dimensions = 0\n",
        "\n",
        "**vector** -> a number with direction (can have many numbers (only 1 row));\n",
        "number of dimensions = 1\n",
        "\n",
        "**MATRIX** -> 2-dimensional array of numbers;\n",
        "number of dimensions = 2\n",
        "\n",
        "**TENSOR** -> can be any number, a 0 dimensional tensor is a scalar, a 1 dimensional tensor is a vector"
      ]
    },
    {
      "cell_type": "markdown",
      "metadata": {
        "id": "dBAgQj3YiI7s"
      },
      "source": [
        "**Random Tensors**\n",
        "\n",
        "Why random tensors, they are important because the way neural networks learn is that they start of\n",
        "\n",
        "with tensors full of random numbers and the adjust those random numbers to better represent the data.\n",
        "\n",
        "Start with random numbers -> look at data -> update random numbers -> update random numbers"
      ]
    },
    {
      "cell_type": "markdown",
      "metadata": {
        "id": "-IP21mxj9JWS"
      },
      "source": [
        "https://docs.pytorch.org/docs/stable/generated/torch.rand.html"
      ]
    },
    {
      "cell_type": "code",
      "execution_count": 16,
      "metadata": {
        "colab": {
          "base_uri": "https://localhost:8080/"
        },
        "id": "OY53D_dc8yCV",
        "outputId": "9602fa5b-512c-4f53-db0c-09f21d064441"
      },
      "outputs": [
        {
          "data": {
            "text/plain": [
              "tensor([[0.8167, 0.7262, 0.9511, 0.2091],\n",
              "        [0.0186, 0.4885, 0.7582, 0.2154],\n",
              "        [0.1680, 0.1301, 0.0321, 0.8386]])"
            ]
          },
          "execution_count": 16,
          "metadata": {},
          "output_type": "execute_result"
        }
      ],
      "source": [
        "# Create random tensor of size (3, 4)\n",
        "random_tensor = torch.rand(3, 4)\n",
        "random_tensor"
      ]
    },
    {
      "cell_type": "code",
      "execution_count": 17,
      "metadata": {
        "colab": {
          "base_uri": "https://localhost:8080/"
        },
        "id": "zCwlmLF59sfh",
        "outputId": "d2910c74-201c-44c7-af74-4e0ebd1718a7"
      },
      "outputs": [
        {
          "data": {
            "text/plain": [
              "2"
            ]
          },
          "execution_count": 17,
          "metadata": {},
          "output_type": "execute_result"
        }
      ],
      "source": [
        "random_tensor.ndim"
      ]
    },
    {
      "cell_type": "code",
      "execution_count": 18,
      "metadata": {
        "colab": {
          "base_uri": "https://localhost:8080/"
        },
        "id": "6nWZwkq-9xzo",
        "outputId": "d84829a5-52dd-4caa-d0d5-a7707c33ef16"
      },
      "outputs": [
        {
          "data": {
            "text/plain": [
              "torch.Size([3, 4])"
            ]
          },
          "execution_count": 18,
          "metadata": {},
          "output_type": "execute_result"
        }
      ],
      "source": [
        "random_tensor.shape"
      ]
    },
    {
      "cell_type": "code",
      "execution_count": 19,
      "metadata": {
        "colab": {
          "base_uri": "https://localhost:8080/"
        },
        "id": "ft6DtCfr-GdP",
        "outputId": "d12497e1-7a72-4894-c829-cc2a626785d0"
      },
      "outputs": [
        {
          "data": {
            "text/plain": [
              "(torch.Size([224, 224, 3]), 3)"
            ]
          },
          "execution_count": 19,
          "metadata": {},
          "output_type": "execute_result"
        }
      ],
      "source": [
        "# Create a random tensor with similar shape to an image tensor\n",
        "random_image_size_tensor = torch.rand(size=(224, 224, 3)) # height, width, color channel (r, g, b)\n",
        "random_image_size_tensor.shape, random_image_size_tensor.ndim"
      ]
    },
    {
      "cell_type": "code",
      "execution_count": 20,
      "metadata": {
        "colab": {
          "base_uri": "https://localhost:8080/"
        },
        "id": "lAG7iQXy_ia3",
        "outputId": "51bc8191-ac3d-4ede-ce01-33572b713b3f"
      },
      "outputs": [
        {
          "data": {
            "text/plain": [
              "tensor([[0.5643, 0.3206, 0.4567, 0.8359],\n",
              "        [0.4525, 0.6252, 0.0042, 0.2423],\n",
              "        [0.8988, 0.4262, 0.7201, 0.5346]])"
            ]
          },
          "execution_count": 20,
          "metadata": {},
          "output_type": "execute_result"
        }
      ],
      "source": [
        "# can be done with the size attribute or without\n",
        "tensor1 = torch.rand(size=(3, 4))\n",
        "tensor2 = torch.rand(10, 3)\n",
        "tensor1"
      ]
    },
    {
      "cell_type": "code",
      "execution_count": 21,
      "metadata": {
        "colab": {
          "base_uri": "https://localhost:8080/"
        },
        "id": "jYN-l0M0_7O5",
        "outputId": "60d45ff6-8384-41c4-edcc-6af37725cdd7"
      },
      "outputs": [
        {
          "data": {
            "text/plain": [
              "tensor([[0.4243, 0.7894, 0.0889],\n",
              "        [0.5300, 0.1128, 0.5019],\n",
              "        [0.5092, 0.1209, 0.8406],\n",
              "        [0.7879, 0.5053, 0.4150],\n",
              "        [0.0130, 0.8577, 0.2162],\n",
              "        [0.4902, 0.7801, 0.5619],\n",
              "        [0.7724, 0.0977, 0.0702],\n",
              "        [0.2910, 0.9018, 0.9297],\n",
              "        [0.3442, 0.3682, 0.4746],\n",
              "        [0.4066, 0.8816, 0.8769]])"
            ]
          },
          "execution_count": 21,
          "metadata": {},
          "output_type": "execute_result"
        }
      ],
      "source": [
        "tensor2"
      ]
    },
    {
      "cell_type": "code",
      "execution_count": 22,
      "metadata": {
        "id": "iTgbblv9AG27"
      },
      "outputs": [],
      "source": [
        "# Zeros and Ones"
      ]
    },
    {
      "cell_type": "code",
      "execution_count": 23,
      "metadata": {
        "colab": {
          "base_uri": "https://localhost:8080/"
        },
        "id": "z7ArsI1bAMBo",
        "outputId": "4a2466c8-f86e-45a9-a0b8-150c57b5a35b"
      },
      "outputs": [
        {
          "data": {
            "text/plain": [
              "tensor([[0., 0., 0.],\n",
              "        [0., 0., 0.],\n",
              "        [0., 0., 0.],\n",
              "        [0., 0., 0.],\n",
              "        [0., 0., 0.],\n",
              "        [0., 0., 0.],\n",
              "        [0., 0., 0.],\n",
              "        [0., 0., 0.]])"
            ]
          },
          "execution_count": 23,
          "metadata": {},
          "output_type": "execute_result"
        }
      ],
      "source": [
        "zero = torch.zeros(size=(8, 3))\n",
        "zero"
      ]
    },
    {
      "cell_type": "code",
      "execution_count": 24,
      "metadata": {
        "colab": {
          "base_uri": "https://localhost:8080/"
        },
        "id": "XNeOSkH8AVKz",
        "outputId": "e1afe077-92a8-4b79-be86-fd4e7dba44db"
      },
      "outputs": [
        {
          "data": {
            "text/plain": [
              "tensor([[1., 1., 1., 1., 1.],\n",
              "        [1., 1., 1., 1., 1.],\n",
              "        [1., 1., 1., 1., 1.],\n",
              "        [1., 1., 1., 1., 1.],\n",
              "        [1., 1., 1., 1., 1.]])"
            ]
          },
          "execution_count": 24,
          "metadata": {},
          "output_type": "execute_result"
        }
      ],
      "source": [
        "ones = torch.ones(size=(5, 5))\n",
        "ones"
      ]
    },
    {
      "cell_type": "code",
      "execution_count": 25,
      "metadata": {
        "colab": {
          "base_uri": "https://localhost:8080/"
        },
        "id": "7O_bj-dDAf63",
        "outputId": "3845e7c2-d8f1-48b8-db0a-efdaf1e93c06"
      },
      "outputs": [
        {
          "data": {
            "text/plain": [
              "torch.float32"
            ]
          },
          "execution_count": 25,
          "metadata": {},
          "output_type": "execute_result"
        }
      ],
      "source": [
        "ones.dtype"
      ]
    },
    {
      "cell_type": "code",
      "execution_count": 26,
      "metadata": {
        "colab": {
          "base_uri": "https://localhost:8080/"
        },
        "id": "bDpOOKLoAvol",
        "outputId": "db9f13bd-68ef-4f1d-de5b-bf2081442d2c"
      },
      "outputs": [
        {
          "data": {
            "text/plain": [
              "tensor([ 1,  2,  3,  4,  5,  6,  7,  8,  9, 10])"
            ]
          },
          "execution_count": 26,
          "metadata": {},
          "output_type": "execute_result"
        }
      ],
      "source": [
        "# Creating a range of tensors and tensor-like\n",
        "one_to_ten = torch.arange(1, 11)\n",
        "one_to_ten"
      ]
    },
    {
      "cell_type": "markdown",
      "metadata": {
        "id": "9DsvKSHLBPxn"
      },
      "source": [
        "https://docs.pytorch.org/docs/stable/generated/torch.arange.html"
      ]
    },
    {
      "cell_type": "code",
      "execution_count": 27,
      "metadata": {
        "colab": {
          "base_uri": "https://localhost:8080/"
        },
        "id": "2F8umjgzBUwD",
        "outputId": "b8bcf56c-7c9a-446c-bb3a-8258646c64b1"
      },
      "outputs": [
        {
          "data": {
            "text/plain": [
              "tensor([  1,  78, 155, 232, 309, 386, 463, 540, 617, 694, 771, 848, 925])"
            ]
          },
          "execution_count": 27,
          "metadata": {},
          "output_type": "execute_result"
        }
      ],
      "source": [
        "tensor_with_step = torch.arange(start=1, end=1000, step=77)\n",
        "tensor_with_step"
      ]
    },
    {
      "cell_type": "code",
      "execution_count": 28,
      "metadata": {
        "colab": {
          "base_uri": "https://localhost:8080/"
        },
        "id": "s8KO7x19CDCV",
        "outputId": "ae29b56e-a9f8-47f0-92f9-d24876cf5e37"
      },
      "outputs": [
        {
          "data": {
            "text/plain": [
              "tensor([0, 0, 0, 0, 0, 0, 0, 0, 0, 0])"
            ]
          },
          "execution_count": 28,
          "metadata": {},
          "output_type": "execute_result"
        }
      ],
      "source": [
        "# Creating tensors like -> recreating the shape of a tensor with all zeros\n",
        "ten_zeros = torch.zeros_like(input=one_to_ten)\n",
        "ten_zeros"
      ]
    },
    {
      "cell_type": "markdown",
      "metadata": {
        "id": "Hp6zJ9HRC9u0"
      },
      "source": [
        "Tensor data types\n",
        "\n",
        "NOTE: Tensor datatypes is one of the 3 big errors with PyTorch and DeepLearning:\n",
        "\n",
        "1. Tensors not the right datatype\n",
        "2. Tensors not the right shape\n",
        "3. Tensors not the right device\n",
        "\n",
        "Precision in computing\n",
        "https://en.wikipedia.org/wiki/Precision_(computer_science)\n",
        "\n"
      ]
    },
    {
      "cell_type": "code",
      "execution_count": 29,
      "metadata": {
        "colab": {
          "base_uri": "https://localhost:8080/"
        },
        "id": "sMCkVXwjC9J0",
        "outputId": "154c8744-0218-467e-a6d7-641316b29d91"
      },
      "outputs": [
        {
          "data": {
            "text/plain": [
              "tensor([3., 6., 9.])"
            ]
          },
          "execution_count": 29,
          "metadata": {},
          "output_type": "execute_result"
        }
      ],
      "source": [
        "# Float 32 tensor\n",
        "float_32_tensor = torch.tensor([3.0, 6.0, 9.0],\n",
        "                               dtype=None,            # what datatype is the tensor (e.g. float32 or float16)\n",
        "                               device=None,           # what device is your tensor on\n",
        "                               requires_grad=False)   # whether or not to track gradients with this tensors operations\n",
        "float_32_tensor = float_32_tensor.type(torch.float32)\n",
        "float_32_tensor"
      ]
    },
    {
      "cell_type": "markdown",
      "metadata": {
        "id": "BNNH691xDb85"
      },
      "source": [
        "https://docs.pytorch.org/docs/stable/tensors.html"
      ]
    },
    {
      "cell_type": "code",
      "execution_count": 30,
      "metadata": {
        "colab": {
          "base_uri": "https://localhost:8080/"
        },
        "id": "o5PzvbPWEkUT",
        "outputId": "8663a012-a332-451d-e09c-70daf35b2e19"
      },
      "outputs": [
        {
          "data": {
            "text/plain": [
              "torch.float32"
            ]
          },
          "execution_count": 30,
          "metadata": {},
          "output_type": "execute_result"
        }
      ],
      "source": [
        "float_32_tensor.dtype"
      ]
    },
    {
      "cell_type": "code",
      "execution_count": 31,
      "metadata": {
        "colab": {
          "base_uri": "https://localhost:8080/"
        },
        "id": "lM9vx-uHFzbU",
        "outputId": "41c4b7f9-1b31-4baf-ff83-afb28e0f4220"
      },
      "outputs": [
        {
          "data": {
            "text/plain": [
              "tensor([3., 6., 9.], dtype=torch.float16)"
            ]
          },
          "execution_count": 31,
          "metadata": {},
          "output_type": "execute_result"
        }
      ],
      "source": [
        "float_16_tensor = float_32_tensor.type(torch.float16)\n",
        "float_16_tensor"
      ]
    },
    {
      "cell_type": "code",
      "execution_count": 32,
      "metadata": {
        "colab": {
          "base_uri": "https://localhost:8080/"
        },
        "id": "nZxDZC3nG8IH",
        "outputId": "be2e4ad3-a1f4-460b-8faf-a6e5b111f877"
      },
      "outputs": [
        {
          "data": {
            "text/plain": [
              "tensor([ 9., 36., 81.])"
            ]
          },
          "execution_count": 32,
          "metadata": {},
          "output_type": "execute_result"
        }
      ],
      "source": [
        "float_32_tensor * float_16_tensor"
      ]
    },
    {
      "cell_type": "code",
      "execution_count": 33,
      "metadata": {
        "colab": {
          "base_uri": "https://localhost:8080/"
        },
        "id": "SO_tVqMAHbeW",
        "outputId": "2b4e5af7-1f77-4527-885e-701923b551b7"
      },
      "outputs": [
        {
          "data": {
            "text/plain": [
              "tensor([3, 6, 9])"
            ]
          },
          "execution_count": 33,
          "metadata": {},
          "output_type": "execute_result"
        }
      ],
      "source": [
        "int_32_tensor = torch.tensor([3, 6, 9], dtype=torch.long)\n",
        "int_32_tensor"
      ]
    },
    {
      "cell_type": "code",
      "execution_count": 34,
      "metadata": {
        "colab": {
          "base_uri": "https://localhost:8080/"
        },
        "id": "Y0f7BJWJHnfX",
        "outputId": "753010b5-2fca-4ff7-9aa7-c3d6ed8e1912"
      },
      "outputs": [
        {
          "data": {
            "text/plain": [
              "tensor([ 9., 36., 81.])"
            ]
          },
          "execution_count": 34,
          "metadata": {},
          "output_type": "execute_result"
        }
      ],
      "source": [
        "float_32_tensor * int_32_tensor"
      ]
    },
    {
      "cell_type": "markdown",
      "metadata": {
        "id": "okCTAx9UIqsT"
      },
      "source": [
        "getting information from tensors (attributes)\n",
        "\n",
        " 1. Tensors not the right datatype - to get datatype from a tensor can use tensor.dtype\n",
        " 2. Tensors not the right shape - to get shape from tensor can use tensor.shape\n",
        " 3. Tensors not the right device - to get device form tensor can use tensor.device"
      ]
    },
    {
      "cell_type": "code",
      "execution_count": 35,
      "metadata": {
        "colab": {
          "base_uri": "https://localhost:8080/"
        },
        "id": "AwzZA0rlIBAK",
        "outputId": "53eb0144-e500-4fdc-82f8-c064c0f81f52"
      },
      "outputs": [
        {
          "data": {
            "text/plain": [
              "tensor([[0.8837, 0.3579, 0.0709, 0.1290],\n",
              "        [0.1286, 0.5676, 0.9141, 0.8045],\n",
              "        [0.4448, 0.7625, 0.4393, 0.7776]])"
            ]
          },
          "execution_count": 35,
          "metadata": {},
          "output_type": "execute_result"
        }
      ],
      "source": [
        "some_tensor = torch.rand(3, 4)\n",
        "some_tensor"
      ]
    },
    {
      "cell_type": "code",
      "execution_count": 36,
      "metadata": {
        "colab": {
          "base_uri": "https://localhost:8080/"
        },
        "id": "ZNYKFzi9IxD2",
        "outputId": "34036305-7162-4c0e-a902-21d1c8fe0311"
      },
      "outputs": [
        {
          "name": "stdout",
          "output_type": "stream",
          "text": [
            "tensor([[0.8837, 0.3579, 0.0709, 0.1290],\n",
            "        [0.1286, 0.5676, 0.9141, 0.8045],\n",
            "        [0.4448, 0.7625, 0.4393, 0.7776]])\n",
            "Datatype of tensor = torch.float32\n",
            "Shape of tensor = torch.Size([3, 4])\n",
            "Device tensor is on = cpu\n"
          ]
        }
      ],
      "source": [
        "# find out details about some tensor\n",
        "print(some_tensor)\n",
        "print(f\"Datatype of tensor = {some_tensor.dtype}\")\n",
        "print(f\"Shape of tensor = {some_tensor.shape}\")\n",
        "print(f\"Device tensor is on = {some_tensor.device}\")"
      ]
    },
    {
      "cell_type": "markdown",
      "metadata": {
        "id": "Fe_z8jlLOdxX"
      },
      "source": [
        "### Manipulating Tensors (tensor operations)\n",
        "\n",
        "Tensor operations include:\n",
        "* Addition\n",
        "* Subtraction\n",
        "* Multiplication\n",
        "* Division\n",
        "* Matrix Multiplication"
      ]
    },
    {
      "cell_type": "code",
      "execution_count": 37,
      "metadata": {
        "colab": {
          "base_uri": "https://localhost:8080/"
        },
        "id": "wOkqYETJOEMb",
        "outputId": "775c8c89-77cf-4a8a-af83-ca29a2b2fd76"
      },
      "outputs": [
        {
          "data": {
            "text/plain": [
              "tensor([11, 12, 13])"
            ]
          },
          "execution_count": 37,
          "metadata": {},
          "output_type": "execute_result"
        }
      ],
      "source": [
        "# create tensor and add 10 to it\n",
        "tensor = torch.tensor([1, 2, 3])\n",
        "tensor + 10"
      ]
    },
    {
      "cell_type": "code",
      "execution_count": 38,
      "metadata": {
        "colab": {
          "base_uri": "https://localhost:8080/"
        },
        "id": "-markb3GOnpp",
        "outputId": "68d019ae-8cd3-414b-ff06-c322fe383e65"
      },
      "outputs": [
        {
          "data": {
            "text/plain": [
              "tensor([10, 20, 30])"
            ]
          },
          "execution_count": 38,
          "metadata": {},
          "output_type": "execute_result"
        }
      ],
      "source": [
        "# multiply\n",
        "tensor * 10"
      ]
    },
    {
      "cell_type": "code",
      "execution_count": 39,
      "metadata": {
        "colab": {
          "base_uri": "https://localhost:8080/"
        },
        "id": "dpfDrrHYOzag",
        "outputId": "c30f9b83-3498-4d20-9f3a-66740c41973a"
      },
      "outputs": [
        {
          "data": {
            "text/plain": [
              "tensor([-9, -8, -7])"
            ]
          },
          "execution_count": 39,
          "metadata": {},
          "output_type": "execute_result"
        }
      ],
      "source": [
        "# subtract\n",
        "tensor - 10"
      ]
    },
    {
      "cell_type": "code",
      "execution_count": 40,
      "metadata": {
        "colab": {
          "base_uri": "https://localhost:8080/"
        },
        "id": "T5ha5tvVO_mN",
        "outputId": "83017c5c-f420-444d-9571-01775001a7d5"
      },
      "outputs": [
        {
          "data": {
            "text/plain": [
              "tensor([ 5, 10, 15])"
            ]
          },
          "execution_count": 40,
          "metadata": {},
          "output_type": "execute_result"
        }
      ],
      "source": [
        "# pytorch built-in multiplication method\n",
        "tensor_mul = torch.mul(tensor, 5)\n",
        "tensor_mul"
      ]
    },
    {
      "cell_type": "code",
      "execution_count": 41,
      "metadata": {
        "colab": {
          "base_uri": "https://localhost:8080/"
        },
        "id": "YHoFNLnuPW0b",
        "outputId": "4b581e05-0e18-444f-eb6b-f56410b9a754"
      },
      "outputs": [
        {
          "data": {
            "text/plain": [
              "tensor([10, 15, 20])"
            ]
          },
          "execution_count": 41,
          "metadata": {},
          "output_type": "execute_result"
        }
      ],
      "source": [
        "# pytorch built-in addition method\n",
        "tensor_add = torch.add(tensor_mul, 5)\n",
        "tensor_add"
      ]
    },
    {
      "cell_type": "code",
      "execution_count": 42,
      "metadata": {
        "colab": {
          "base_uri": "https://localhost:8080/"
        },
        "id": "TU48aTlxPlBf",
        "outputId": "12c569e8-0cc1-450b-c1c6-3891eeef985f"
      },
      "outputs": [
        {
          "data": {
            "text/plain": [
              "tensor([ 5, 10, 15])"
            ]
          },
          "execution_count": 42,
          "metadata": {},
          "output_type": "execute_result"
        }
      ],
      "source": [
        "# pytorch built-in subtraction method\n",
        "tensor_sub = torch.sub(tensor_add, 5)\n",
        "tensor_sub"
      ]
    },
    {
      "cell_type": "code",
      "execution_count": 43,
      "metadata": {
        "colab": {
          "base_uri": "https://localhost:8080/"
        },
        "id": "U-QYSJKGP3Y_",
        "outputId": "d5e7ff77-6b84-47d2-f7f6-a106e27bd8a1"
      },
      "outputs": [
        {
          "data": {
            "text/plain": [
              "tensor([1., 2., 3.])"
            ]
          },
          "execution_count": 43,
          "metadata": {},
          "output_type": "execute_result"
        }
      ],
      "source": [
        "# pytorch built-in division method\n",
        "tensor_div = torch.div(tensor_sub, 5)\n",
        "tensor_div"
      ]
    },
    {
      "cell_type": "code",
      "execution_count": 44,
      "metadata": {
        "colab": {
          "base_uri": "https://localhost:8080/"
        },
        "id": "R_g-CTl9QL4e",
        "outputId": "d629520f-bcb6-4000-f429-5c9750890a50"
      },
      "outputs": [
        {
          "data": {
            "text/plain": [
              "tensor([5, 5, 5])"
            ]
          },
          "execution_count": 44,
          "metadata": {},
          "output_type": "execute_result"
        }
      ],
      "source": [
        "tensor_1 = torch.sub(tensor_add, tensor_mul)\n",
        "tensor_1"
      ]
    },
    {
      "cell_type": "markdown",
      "metadata": {
        "id": "dJZETjycRL1n"
      },
      "source": [
        "https://statmath.wu.ac.at/~leydold/MOK/HTML/node17.html\n",
        "\n",
        "https://www.mathebibel.de/matrizenmultiplikation\n",
        "\n",
        "http://matrixmultiplication.xyz/"
      ]
    },
    {
      "cell_type": "markdown",
      "metadata": {
        "id": "xi35F3H-Tum5"
      },
      "source": [
        "### Matrix Multiplication\n",
        "\n",
        "Two main ways of performing multiplication in neural networks and deep learning:\n",
        "\n",
        " 1. Element-wise multiplication\n",
        " 2. Matrix multiplication (dot-product)\n",
        "\n",
        " there are two rules that matrix multiplication must satisfy\n",
        " - inner dimensions have to match\n",
        "   \n",
        "    (3, 2) @ (2, 3) -> will work\n",
        "    \n",
        "    (3, 2) @ (3, 2) -> will NOT work\n",
        "    \n",
        "    (2, 3) @ (3, 2) -> will work\n",
        "  \n",
        "  - resulting matrix has the shape of the outher dimensions\n",
        "\n",
        "    (3, 2) @ (2, 3) -> (3, 3)\n",
        "\n",
        "    (2, 3) @ (3, 2) -> (2, 2)"
      ]
    },
    {
      "cell_type": "code",
      "execution_count": 45,
      "metadata": {
        "colab": {
          "base_uri": "https://localhost:8080/"
        },
        "id": "kZZOwiiQXGNd",
        "outputId": "ddd6b92e-09f9-4042-83e0-8c7bc24ef9fc"
      },
      "outputs": [
        {
          "data": {
            "text/plain": [
              "tensor([[1.1576, 1.4578, 0.4112],\n",
              "        [0.5746, 0.8827, 0.4903]])"
            ]
          },
          "execution_count": 45,
          "metadata": {},
          "output_type": "execute_result"
        }
      ],
      "source": [
        "res_tensor = torch.rand(2, 3) @ torch.rand(3, 3)\n",
        "res_tensor"
      ]
    },
    {
      "cell_type": "code",
      "execution_count": 46,
      "metadata": {
        "colab": {
          "base_uri": "https://localhost:8080/"
        },
        "id": "KAaW7Ll3XoJX",
        "outputId": "80dee5a6-3944-4ce3-8ac1-261bfdfcd423"
      },
      "outputs": [
        {
          "data": {
            "text/plain": [
              "tensor([[0.9577, 0.9961, 0.8535],\n",
              "        [1.1761, 1.1679, 1.1890]])"
            ]
          },
          "execution_count": 46,
          "metadata": {},
          "output_type": "execute_result"
        }
      ],
      "source": [
        "res_tensor = torch.rand(2, 3) @ torch.rand(3, 3)\n",
        "res_tensor"
      ]
    },
    {
      "cell_type": "code",
      "execution_count": 47,
      "metadata": {
        "colab": {
          "base_uri": "https://localhost:8080/"
        },
        "id": "FmauX7UCX54-",
        "outputId": "af2eaac5-ef61-437f-f7b1-b0f9ce24e457"
      },
      "outputs": [
        {
          "data": {
            "text/plain": [
              "tensor([[1.1612, 1.1726, 0.8790],\n",
              "        [0.7399, 0.6930, 0.5454],\n",
              "        [0.6650, 0.7154, 0.5152]])"
            ]
          },
          "execution_count": 47,
          "metadata": {},
          "output_type": "execute_result"
        }
      ],
      "source": [
        "res_tensor1 = torch.rand(3, 2) @ torch.rand(2, 3)\n",
        "res_tensor1"
      ]
    },
    {
      "cell_type": "code",
      "execution_count": 48,
      "metadata": {
        "colab": {
          "base_uri": "https://localhost:8080/"
        },
        "id": "ej4UkXapYJeH",
        "outputId": "b2723e61-09bf-4edf-c53c-6785865baf7d"
      },
      "outputs": [
        {
          "data": {
            "text/plain": [
              "torch.Size([3, 3])"
            ]
          },
          "execution_count": 48,
          "metadata": {},
          "output_type": "execute_result"
        }
      ],
      "source": [
        "res_tensor1.shape"
      ]
    },
    {
      "cell_type": "code",
      "execution_count": 49,
      "metadata": {
        "colab": {
          "base_uri": "https://localhost:8080/"
        },
        "id": "GytW8CzdSlpZ",
        "outputId": "be781d8f-a256-4ac7-c089-7c03eb01676c"
      },
      "outputs": [
        {
          "name": "stdout",
          "output_type": "stream",
          "text": [
            "tensor([1, 2, 3]) * tensor([1, 2, 3])\n",
            "Equals: tensor([1, 4, 9])\n"
          ]
        }
      ],
      "source": [
        "# Element wise multiplication\n",
        "print(tensor, \"*\", tensor)\n",
        "print(f\"Equals: {tensor * tensor}\")"
      ]
    },
    {
      "cell_type": "code",
      "execution_count": 50,
      "metadata": {
        "colab": {
          "base_uri": "https://localhost:8080/"
        },
        "id": "-NlsPHhFUKmi",
        "outputId": "2eeafe50-8142-4e92-ded7-2133f5444225"
      },
      "outputs": [
        {
          "data": {
            "text/plain": [
              "tensor(14)"
            ]
          },
          "execution_count": 50,
          "metadata": {},
          "output_type": "execute_result"
        }
      ],
      "source": [
        "torch.matmul(tensor, tensor)"
      ]
    },
    {
      "cell_type": "code",
      "execution_count": 51,
      "metadata": {
        "colab": {
          "base_uri": "https://localhost:8080/"
        },
        "id": "qDVAqxwoUXPn",
        "outputId": "a37891b3-3a2d-426d-e5ca-0b5cd89e123d"
      },
      "outputs": [
        {
          "data": {
            "text/plain": [
              "14"
            ]
          },
          "execution_count": 51,
          "metadata": {},
          "output_type": "execute_result"
        }
      ],
      "source": [
        "# get to the result by hand\n",
        "1*1 + 2*2 + 3*3"
      ]
    },
    {
      "cell_type": "code",
      "execution_count": 52,
      "metadata": {
        "colab": {
          "base_uri": "https://localhost:8080/"
        },
        "id": "fh39FDLWUP4A",
        "outputId": "37722233-168f-4b2f-8833-ff41cff65c95"
      },
      "outputs": [
        {
          "data": {
            "text/plain": [
              "tensor([1, 2, 3])"
            ]
          },
          "execution_count": 52,
          "metadata": {},
          "output_type": "execute_result"
        }
      ],
      "source": [
        "tensor"
      ]
    },
    {
      "cell_type": "code",
      "execution_count": 53,
      "metadata": {
        "colab": {
          "base_uri": "https://localhost:8080/"
        },
        "id": "QBJ0qikbUxuI",
        "outputId": "190b3ba7-4853-4896-f8e9-cc091da16e17"
      },
      "outputs": [
        {
          "name": "stdout",
          "output_type": "stream",
          "text": [
            "tensor(14)\n",
            "CPU times: user 588 μs, sys: 705 μs, total: 1.29 ms\n",
            "Wall time: 1.38 ms\n"
          ]
        }
      ],
      "source": [
        "%%time\n",
        "value = 0\n",
        "for i in range(len(tensor)):\n",
        "  value += tensor[i] * tensor[i]\n",
        "print(value)"
      ]
    },
    {
      "cell_type": "code",
      "execution_count": 54,
      "metadata": {
        "colab": {
          "base_uri": "https://localhost:8080/"
        },
        "id": "vUqTW0EpVE5M",
        "outputId": "b34fbb25-a84c-4052-ed23-0856da3c7986"
      },
      "outputs": [
        {
          "name": "stdout",
          "output_type": "stream",
          "text": [
            "CPU times: user 87 μs, sys: 15 μs, total: 102 μs\n",
            "Wall time: 86.8 μs\n"
          ]
        },
        {
          "data": {
            "text/plain": [
              "tensor(14)"
            ]
          },
          "execution_count": 54,
          "metadata": {},
          "output_type": "execute_result"
        }
      ],
      "source": [
        "%%time\n",
        "torch.matmul(tensor, tensor)"
      ]
    },
    {
      "cell_type": "code",
      "execution_count": 55,
      "metadata": {
        "colab": {
          "base_uri": "https://localhost:8080/"
        },
        "id": "YvgJF2tfWUyV",
        "outputId": "c61cc46b-f060-4e5f-95ae-489e3aece6d4"
      },
      "outputs": [
        {
          "name": "stdout",
          "output_type": "stream",
          "text": [
            "CPU times: user 105 μs, sys: 23 μs, total: 128 μs\n",
            "Wall time: 120 μs\n"
          ]
        },
        {
          "data": {
            "text/plain": [
              "tensor(14)"
            ]
          },
          "execution_count": 55,
          "metadata": {},
          "output_type": "execute_result"
        }
      ],
      "source": [
        "%%time\n",
        "tensor @ tensor"
      ]
    },
    {
      "cell_type": "code",
      "execution_count": 56,
      "metadata": {
        "id": "owCAvByRVj97"
      },
      "outputs": [],
      "source": [
        "### one of the most common errors in deep learning is shape errors -> inner dimensions must match (check with .shape)"
      ]
    },
    {
      "cell_type": "code",
      "execution_count": 57,
      "metadata": {
        "id": "HnyRNP7sbYXJ"
      },
      "outputs": [],
      "source": [
        "# shapes for matrix multiplication\n",
        "tensor_A = torch.tensor([[1, 2],\n",
        "                         [3, 4],\n",
        "                         [5, 6]])\n",
        "tensor_B = torch.tensor([[7, 10],\n",
        "                         [8, 11],\n",
        "                         [9, 12]])"
      ]
    },
    {
      "cell_type": "code",
      "execution_count": 58,
      "metadata": {
        "colab": {
          "base_uri": "https://localhost:8080/"
        },
        "id": "Q9qbm17ti2GF",
        "outputId": "bc9e03f9-a549-4765-dac1-cff26b88ec64"
      },
      "outputs": [
        {
          "data": {
            "text/plain": [
              "(tensor([[1, 2],\n",
              "         [3, 4],\n",
              "         [5, 6]]),\n",
              " tensor([[ 7,  8,  9],\n",
              "         [10, 11, 12]]))"
            ]
          },
          "execution_count": 58,
          "metadata": {},
          "output_type": "execute_result"
        }
      ],
      "source": [
        "tensor_A, tensor_B.T"
      ]
    },
    {
      "cell_type": "code",
      "execution_count": 59,
      "metadata": {
        "colab": {
          "base_uri": "https://localhost:8080/"
        },
        "id": "DuCT1exeb0Jx",
        "outputId": "49ed070e-8679-45ef-bf72-52450e6f138d"
      },
      "outputs": [
        {
          "name": "stdout",
          "output_type": "stream",
          "text": [
            "torch.Size([3, 2])\n",
            "torch.Size([3, 2])\n"
          ]
        }
      ],
      "source": [
        "print(tensor_A.shape)\n",
        "print(tensor_B.shape)"
      ]
    },
    {
      "cell_type": "markdown",
      "metadata": {
        "id": "QgV9mXeoddMa"
      },
      "source": [
        "# ** transpose ** switches rows and columns in matrices"
      ]
    },
    {
      "cell_type": "code",
      "execution_count": 60,
      "metadata": {
        "colab": {
          "base_uri": "https://localhost:8080/"
        },
        "id": "R5BAUhGvcBwm",
        "outputId": "8d867457-ec8b-40ce-a577-51b04a56ceb5"
      },
      "outputs": [
        {
          "name": "stdout",
          "output_type": "stream",
          "text": [
            "torch.Size([3, 2]) @ torch.Size([2, 3]) -> inner dimensions match -> result of shape outer dimensions torch.Size([3, 3])\n",
            "tensor([[ 27,  30,  33],\n",
            "        [ 61,  68,  75],\n",
            "        [ 95, 106, 117]])\n"
          ]
        }
      ],
      "source": [
        "# torch.mm(tensor_A, tensor_B) torch.mm is short version for torch.matmul used in matrix multiplication\n",
        "\n",
        "resA_BT = torch.matmul(tensor_A, tensor_B.T)\n",
        "print(f\"{tensor_A.shape} @ {tensor_B.T.shape} -> inner dimensions match -> result of shape outer dimensions {resA_BT.shape}\")\n",
        "print(resA_BT)"
      ]
    },
    {
      "cell_type": "code",
      "execution_count": 61,
      "metadata": {
        "colab": {
          "base_uri": "https://localhost:8080/"
        },
        "id": "G8NvWZsTc2tZ",
        "outputId": "5545c9e7-322b-42da-a629-019a2335dc5c"
      },
      "outputs": [
        {
          "name": "stdout",
          "output_type": "stream",
          "text": [
            "torch.Size([2, 3]) @ torch.Size([3, 2]) -> inner dimensions match -> result of shape outer dimensions torch.Size([2, 2])\n",
            "tensor([[ 76, 103],\n",
            "        [100, 136]])\n"
          ]
        }
      ],
      "source": [
        "resAT_B = torch.mm(tensor_A.T, tensor_B)\n",
        "print(f\"{tensor_A.T.shape} @ {tensor_B.shape} -> inner dimensions match -> result of shape outer dimensions {resAT_B.shape}\")\n",
        "print(resAT_B)\n"
      ]
    },
    {
      "cell_type": "code",
      "execution_count": 62,
      "metadata": {
        "colab": {
          "base_uri": "https://localhost:8080/"
        },
        "id": "KPlwbw13c93N",
        "outputId": "eef8f0b1-45ea-4612-a51d-e4aeae064267"
      },
      "outputs": [
        {
          "name": "stdout",
          "output_type": "stream",
          "text": [
            "tensor([[ 7, 10],\n",
            "        [ 8, 11],\n",
            "        [ 9, 12]]) \n",
            "\n",
            "torch.Size([3, 2]) \n",
            "\n",
            "tensor([[ 7,  8,  9],\n",
            "        [10, 11, 12]]) \n",
            "\n",
            "torch.Size([2, 3])\n"
          ]
        }
      ],
      "source": [
        "print(tensor_B, \"\\n\")\n",
        "print(tensor_B.shape, \"\\n\")\n",
        "print(tensor_B.T, \"\\n\")\n",
        "print(tensor_B.T.shape)"
      ]
    },
    {
      "cell_type": "markdown",
      "metadata": {
        "id": "6wl66ptskWHf"
      },
      "source": [
        "how to transpose first column\n",
        "\n",
        "( 1, 1 [ 7 ] ) -> ( 1, 1 );\n",
        "\n",
        "( 2, 1 [ 8 ] ) -> ( 1, 2 );\n",
        "                    \n",
        "( 3, 1 [ 9 ] ) -> ( 1, 3 );\n",
        "\n",
        "how to transpose second column\n",
        "\n",
        "( 1, 2 [ 10 ] ) -> ( 2, 1 );\n",
        "\n",
        "( 2, 2 [ 11 ] ) -> ( 2, 2 );\n",
        "                    \n",
        "( 3, 2 [ 12 ] ) -> ( 2, 3 );\n",
        "\n"
      ]
    },
    {
      "cell_type": "markdown",
      "metadata": {
        "id": "PIdlXK9MwzPH"
      },
      "source": [
        "## Finding ther min, max, mean, sum (Tensor aggregation)"
      ]
    },
    {
      "cell_type": "code",
      "execution_count": 63,
      "metadata": {
        "colab": {
          "base_uri": "https://localhost:8080/"
        },
        "id": "CgV_HVViw5rj",
        "outputId": "716af1e8-4b90-4a4c-b52f-24e9bc29346f"
      },
      "outputs": [
        {
          "data": {
            "text/plain": [
              "(tensor([ 0, 10, 20, 30, 40, 50, 60, 70, 80, 90]), torch.int64)"
            ]
          },
          "execution_count": 63,
          "metadata": {},
          "output_type": "execute_result"
        }
      ],
      "source": [
        "# create a tensor\n",
        "x = torch.arange(0, 100, 10)\n",
        "x, x.dtype"
      ]
    },
    {
      "cell_type": "code",
      "execution_count": 64,
      "metadata": {
        "colab": {
          "base_uri": "https://localhost:8080/"
        },
        "id": "Pc3PWA4OxWKh",
        "outputId": "9d7a63b6-dcef-44ad-940f-e43a9ab7cf10"
      },
      "outputs": [
        {
          "data": {
            "text/plain": [
              "(tensor(0), tensor(0))"
            ]
          },
          "execution_count": 64,
          "metadata": {},
          "output_type": "execute_result"
        }
      ],
      "source": [
        "# find min\n",
        "torch.min(x), x.min()"
      ]
    },
    {
      "cell_type": "markdown",
      "metadata": {},
      "source": []
    },
    {
      "cell_type": "code",
      "execution_count": 65,
      "metadata": {
        "colab": {
          "base_uri": "https://localhost:8080/"
        },
        "id": "FlCcOnRyxsmr",
        "outputId": "22d21612-95a1-4390-ac1d-bd3b24f4c48c"
      },
      "outputs": [
        {
          "data": {
            "text/plain": [
              "(tensor(90), tensor(90))"
            ]
          },
          "execution_count": 65,
          "metadata": {},
          "output_type": "execute_result"
        }
      ],
      "source": [
        "# find max\n",
        "torch.max(x), x.max()"
      ]
    },
    {
      "cell_type": "code",
      "execution_count": 66,
      "metadata": {
        "colab": {
          "base_uri": "https://localhost:8080/"
        },
        "id": "q9eubG_Ex1YL",
        "outputId": "048550b0-edf3-475b-ac89-b65a3cf92941"
      },
      "outputs": [
        {
          "data": {
            "text/plain": [
              "(tensor(45.), tensor(45.))"
            ]
          },
          "execution_count": 66,
          "metadata": {},
          "output_type": "execute_result"
        }
      ],
      "source": [
        "# find mean -> requires a tensor of float 32\n",
        "torch.mean(x.type(torch.float32)), x.type(torch.float32).mean()"
      ]
    },
    {
      "cell_type": "code",
      "execution_count": 67,
      "metadata": {
        "colab": {
          "base_uri": "https://localhost:8080/"
        },
        "id": "ix7_DuSdyNow",
        "outputId": "d0e492e2-b29e-4162-8a1c-aee3fded68a3"
      },
      "outputs": [
        {
          "data": {
            "text/plain": [
              "(tensor(450), tensor(450))"
            ]
          },
          "execution_count": 67,
          "metadata": {},
          "output_type": "execute_result"
        }
      ],
      "source": [
        "# find the sum\n",
        "torch.sum(x), x.sum()"
      ]
    },
    {
      "cell_type": "code",
      "execution_count": 68,
      "metadata": {
        "colab": {
          "base_uri": "https://localhost:8080/"
        },
        "id": "OiKo2YuLymKR",
        "outputId": "bcdddbc9-7f14-4be7-ae21-cf6218a577ad"
      },
      "outputs": [
        {
          "data": {
            "text/plain": [
              "tensor([ 0, 10, 20, 30, 40, 50, 60, 70, 80, 90])"
            ]
          },
          "execution_count": 68,
          "metadata": {},
          "output_type": "execute_result"
        }
      ],
      "source": [
        "x"
      ]
    },
    {
      "cell_type": "code",
      "execution_count": 69,
      "metadata": {
        "colab": {
          "base_uri": "https://localhost:8080/"
        },
        "id": "akDNkTPC0E0l",
        "outputId": "04479088-184c-46ca-cd5d-6a987df80691"
      },
      "outputs": [
        {
          "data": {
            "text/plain": [
              "(tensor(0), tensor(0))"
            ]
          },
          "execution_count": 69,
          "metadata": {},
          "output_type": "execute_result"
        }
      ],
      "source": [
        "# finds position with minimum value with argmin() -> returns index position , value also displayed\n",
        "x.argmin(), x[0]"
      ]
    },
    {
      "cell_type": "code",
      "execution_count": 70,
      "metadata": {
        "colab": {
          "base_uri": "https://localhost:8080/"
        },
        "id": "9sHddrBg0Ts5",
        "outputId": "4f45aa76-454e-47bc-aa20-8b642df038c1"
      },
      "outputs": [
        {
          "data": {
            "text/plain": [
              "(tensor(9), tensor(90))"
            ]
          },
          "execution_count": 70,
          "metadata": {},
          "output_type": "execute_result"
        }
      ],
      "source": [
        "# finds position with maximum value with argmax() -> returns index position , value also displayed\n",
        "x.argmax(), x[9]"
      ]
    },
    {
      "cell_type": "markdown",
      "metadata": {
        "id": "t78kfRtO1LSv"
      },
      "source": [
        "## reshaping, stacking, squeezing and unsqueezing tensors\n",
        "\n",
        "https://docs.pytorch.org/docs/stable/generated/torch.stack.html\n",
        "\n",
        "* reshaping -> reshapes tensor to a defined shape\n",
        "\n",
        "* view -> return a view of an input tensor of a certain shape but keep the same memory as the original tensor\n",
        "\n",
        "* stacking -> combine multiple tensors on top of each other (vstack) or side by side (hstack)\n",
        "\n",
        "* unsqueeze -> add a 1 dimension to the target tensor\n",
        "\n",
        "* permute -> return a view of the input with dimensions permuted (swapped) in a certain way"
      ]
    },
    {
      "cell_type": "code",
      "execution_count": 71,
      "metadata": {
        "colab": {
          "base_uri": "https://localhost:8080/"
        },
        "id": "eIsG-a2E1ASa",
        "outputId": "24f86ae5-4717-41dc-a982-c1fd80b9bf0f"
      },
      "outputs": [
        {
          "data": {
            "text/plain": [
              "(tensor([1., 2., 3., 4., 5., 6., 7., 8., 9.]), torch.Size([9]))"
            ]
          },
          "execution_count": 71,
          "metadata": {},
          "output_type": "execute_result"
        }
      ],
      "source": [
        "# creating tensor\n",
        "import torch\n",
        "x = torch.arange(1., 10.)\n",
        "x, x.shape"
      ]
    },
    {
      "cell_type": "code",
      "execution_count": 72,
      "metadata": {
        "colab": {
          "base_uri": "https://localhost:8080/"
        },
        "id": "F-G6dflh2V5z",
        "outputId": "69dcc0f2-5677-452d-b38d-e81700d4a4e1"
      },
      "outputs": [
        {
          "data": {
            "text/plain": [
              "(tensor([[1., 2., 3., 4., 5., 6., 7., 8., 9.]]), torch.Size([1, 9]))"
            ]
          },
          "execution_count": 72,
          "metadata": {},
          "output_type": "execute_result"
        }
      ],
      "source": [
        "# add an extra dimension\n",
        "x_reshaped = x.reshape(1, 9)\n",
        "x_reshaped, x_reshaped.shape"
      ]
    },
    {
      "cell_type": "code",
      "execution_count": 73,
      "metadata": {
        "colab": {
          "base_uri": "https://localhost:8080/"
        },
        "id": "jUM1nER0250g",
        "outputId": "236e4d14-0179-44d7-ee75-2cc4604be8e3"
      },
      "outputs": [
        {
          "data": {
            "text/plain": [
              "(tensor([[1., 2., 3.],\n",
              "         [4., 5., 6.],\n",
              "         [7., 8., 9.]]),\n",
              " torch.Size([3, 3]))"
            ]
          },
          "execution_count": 73,
          "metadata": {},
          "output_type": "execute_result"
        }
      ],
      "source": [
        "x_reshaped1 = x.reshape(3, 3) # has to be multipliers of the original size 9\n",
        "x_reshaped1, x_reshaped1.shape"
      ]
    },
    {
      "cell_type": "code",
      "execution_count": 74,
      "metadata": {
        "colab": {
          "base_uri": "https://localhost:8080/"
        },
        "id": "fp9twjm_3IK9",
        "outputId": "13216fe9-cfa5-4430-9d74-c33b43fc7a0e"
      },
      "outputs": [
        {
          "data": {
            "text/plain": [
              "(tensor([[5., 2., 3., 4., 5., 6., 7., 8., 9.]]),\n",
              " tensor([5., 2., 3., 4., 5., 6., 7., 8., 9.]))"
            ]
          },
          "execution_count": 74,
          "metadata": {},
          "output_type": "execute_result"
        }
      ],
      "source": [
        "# change the view, similar to reshape but z shares the same memory -> changing z changes x as well\n",
        "z = x.view(1, 9)\n",
        "z, z.shape\n",
        "z[:, 0] = 5 # changing an element in the tensor of z, : includes the whole tensor [0] gets the position of the element which wants to be changed\n",
        "z, x"
      ]
    },
    {
      "cell_type": "code",
      "execution_count": 75,
      "metadata": {
        "colab": {
          "base_uri": "https://localhost:8080/"
        },
        "id": "2Qitr8Jd4cSz",
        "outputId": "b0100d28-2501-49f1-bd11-bd8a745ba0f2"
      },
      "outputs": [
        {
          "data": {
            "text/plain": [
              "(tensor([[5., 2., 3., 4., 5., 6., 7., 8., 9.],\n",
              "         [5., 2., 3., 4., 5., 6., 7., 8., 9.],\n",
              "         [5., 2., 3., 4., 5., 6., 7., 8., 9.],\n",
              "         [5., 2., 3., 4., 5., 6., 7., 8., 9.]]),\n",
              " torch.Size([4, 9]))"
            ]
          },
          "execution_count": 75,
          "metadata": {},
          "output_type": "execute_result"
        }
      ],
      "source": [
        "# stack tensor on top of each other\n",
        "x_stacked = torch.stack([x, x, x, x], dim=0)\n",
        "x_stacked, x_stacked.shape"
      ]
    },
    {
      "cell_type": "code",
      "execution_count": 76,
      "metadata": {
        "colab": {
          "base_uri": "https://localhost:8080/"
        },
        "id": "rHom7qExKafm",
        "outputId": "49174f30-0315-4227-db34-140d62d7829e"
      },
      "outputs": [
        {
          "data": {
            "text/plain": [
              "tensor([[5., 2., 3., 4., 5., 6., 7., 8., 9.],\n",
              "        [5., 2., 3., 4., 5., 6., 7., 8., 9.],\n",
              "        [5., 2., 3., 4., 5., 6., 7., 8., 9.],\n",
              "        [5., 2., 3., 4., 5., 6., 7., 8., 9.]])"
            ]
          },
          "execution_count": 76,
          "metadata": {},
          "output_type": "execute_result"
        }
      ],
      "source": [
        "x_stacked_v = torch.vstack([x, x, x, x])\n",
        "x_stacked_v"
      ]
    },
    {
      "cell_type": "code",
      "execution_count": 77,
      "metadata": {
        "colab": {
          "base_uri": "https://localhost:8080/"
        },
        "id": "7LWijcCnK13q",
        "outputId": "0047ece2-6d2b-419c-ae6e-0746ad317d74"
      },
      "outputs": [
        {
          "data": {
            "text/plain": [
              "tensor([5., 2., 3., 4., 5., 6., 7., 8., 9., 5., 2., 3., 4., 5., 6., 7., 8., 9.,\n",
              "        5., 2., 3., 4., 5., 6., 7., 8., 9., 5., 2., 3., 4., 5., 6., 7., 8., 9.])"
            ]
          },
          "execution_count": 77,
          "metadata": {},
          "output_type": "execute_result"
        }
      ],
      "source": [
        "x_stacked_h = torch.hstack([x, x, x, x])\n",
        "x_stacked_h"
      ]
    },
    {
      "cell_type": "code",
      "execution_count": 78,
      "metadata": {
        "colab": {
          "base_uri": "https://localhost:8080/"
        },
        "id": "OeercSUuLEOr",
        "outputId": "1ce97fc1-fdd7-474b-d391-b7ff562f57a8"
      },
      "outputs": [
        {
          "data": {
            "text/plain": [
              "(tensor([[5., 2., 3., 4., 5., 6., 7., 8., 9.],\n",
              "         [5., 2., 3., 4., 5., 6., 7., 8., 9.],\n",
              "         [5., 2., 3., 4., 5., 6., 7., 8., 9.],\n",
              "         [5., 2., 3., 4., 5., 6., 7., 8., 9.]]),\n",
              " torch.Size([4, 9]))"
            ]
          },
          "execution_count": 78,
          "metadata": {},
          "output_type": "execute_result"
        }
      ],
      "source": [
        "x_stacked = torch.stack([x, x, x, x], dim=0)\n",
        "x_stacked, x_stacked.shape"
      ]
    },
    {
      "cell_type": "code",
      "execution_count": 79,
      "metadata": {
        "colab": {
          "base_uri": "https://localhost:8080/"
        },
        "id": "1TzHcwimLtC5",
        "outputId": "f97ed203-6878-45ec-8b13-f87fa507a5f1"
      },
      "outputs": [
        {
          "name": "stdout",
          "output_type": "stream",
          "text": [
            "tensor([[5., 2., 3., 4., 5., 6., 7., 8., 9.]])\n",
            "torch.Size([1, 9]) original \n",
            "\n",
            "tensor([5., 2., 3., 4., 5., 6., 7., 8., 9.])\n",
            "torch.Size([9]) squeezed \n",
            "\n",
            "removes the single dimension from a tensor\n",
            "\n",
            "tensor([[5., 2., 3., 4., 5., 6., 7., 8., 9.]])\n",
            "torch.Size([1, 9]) unsqueezed along dimension 0 \n",
            "\n",
            "tensor([[5.],\n",
            "        [2.],\n",
            "        [3.],\n",
            "        [4.],\n",
            "        [5.],\n",
            "        [6.],\n",
            "        [7.],\n",
            "        [8.],\n",
            "        [9.]])\n",
            "torch.Size([9, 1]) unsqueezed along dimension 1 \n",
            "\n"
          ]
        }
      ],
      "source": [
        "# torch.squeeze() - removes all single dimensions from a target tensor\n",
        "print(x_reshaped)\n",
        "print(x_reshaped.shape, \"original\",\"\\n\")\n",
        "x_reshaped_sq = x_reshaped.squeeze()\n",
        "print(x_reshaped_sq)\n",
        "print(x_reshaped_sq.shape, \"squeezed\",\"\\n\")\n",
        "print(\"removes the single dimension from a tensor\\n\")\n",
        "x_reshaped_usq_0 = x_reshaped_sq.unsqueeze(dim=0) # takes the dimension vaue , set to 0 or -+1\n",
        "print(x_reshaped_usq_0)\n",
        "print(x_reshaped_usq_0.shape, \"unsqueezed along dimension 0\",\"\\n\")\n",
        "x_reshaped_usq_1 = x_reshaped_sq.unsqueeze(dim=1) # takes the dimension vaue , set to 0 or -+1\n",
        "print(x_reshaped_usq_1)\n",
        "print(x_reshaped_usq_1.shape, \"unsqueezed along dimension 1\",\"\\n\")"
      ]
    },
    {
      "cell_type": "code",
      "execution_count": 80,
      "metadata": {
        "colab": {
          "base_uri": "https://localhost:8080/"
        },
        "id": "6O52zUNFRuiq",
        "outputId": "384e384d-2226-47ce-8224-e4a9f8d562d0"
      },
      "outputs": [
        {
          "name": "stdout",
          "output_type": "stream",
          "text": [
            "torch.Size([224, 224, 3])\n",
            "Switched the first dimension with the third dimension: torch.Size([3, 224, 224])\n",
            "Switched the second dimension with the third dimension: torch.Size([224, 3, 224])\n"
          ]
        }
      ],
      "source": [
        "# torch.permute() rearranges the dimensions of a target tensor in a specific order\n",
        "x_original = torch.rand(size=(224, 224, 3)) # [height, width, color_channel]\n",
        "\n",
        "# permute the original tensor to rearrange the order of dimensions\n",
        "print(x_original.size())\n",
        "print(f\"Switched the first dimension with the third dimension: {torch.permute(x_original,(2, 0, 1)).shape}\") # mind the difference between .size() and .shape\n",
        "print(f\"Switched the second dimension with the third dimension: {torch.permute(x_original,(1, 2, 0)).size()}\")"
      ]
    },
    {
      "cell_type": "code",
      "execution_count": 81,
      "metadata": {
        "colab": {
          "base_uri": "https://localhost:8080/"
        },
        "id": "Pm0e3X2KYwRe",
        "outputId": "19e0af92-2b22-4c05-92a5-fac403f0504f"
      },
      "outputs": [
        {
          "data": {
            "text/plain": [
              "tensor([[[1.0000e+02, 3.8891e-01, 6.9329e-01],\n",
              "         [1.3971e-01, 3.5863e-01, 3.8066e-01],\n",
              "         [6.7933e-02, 4.1635e-01, 5.1988e-02],\n",
              "         [6.9793e-01, 6.8973e-01, 7.0374e-01]],\n",
              "\n",
              "        [[5.7431e-01, 7.8781e-01, 3.0130e-01],\n",
              "         [1.6609e-02, 4.1124e-01, 3.2890e-01],\n",
              "         [4.0868e-01, 4.6696e-01, 5.7471e-01],\n",
              "         [6.1088e-01, 2.8971e-01, 4.3616e-01]],\n",
              "\n",
              "        [[3.0434e-01, 6.7330e-01, 4.1850e-01],\n",
              "         [3.7667e-01, 8.6232e-01, 7.3036e-01],\n",
              "         [2.2244e-01, 7.2064e-01, 3.4142e-01],\n",
              "         [3.0227e-01, 9.0890e-01, 8.6384e-01]]])"
            ]
          },
          "execution_count": 81,
          "metadata": {},
          "output_type": "execute_result"
        }
      ],
      "source": [
        "x_ori = torch.rand(size=(4, 3, 3))\n",
        "x_per = x_ori.permute(2, 0, 1)\n",
        "x_ori\n",
        "x_per\n",
        "x_ori[0,0,0] = 100\n",
        "x_per"
      ]
    },
    {
      "cell_type": "markdown",
      "metadata": {
        "id": "1TuxXaxi1tLL"
      },
      "source": [
        "## Indexing (selecting data from Tensors)\n",
        "\n",
        "Indexing with PyTorch is similar to indexing with NumPy"
      ]
    },
    {
      "cell_type": "code",
      "execution_count": 82,
      "metadata": {
        "colab": {
          "base_uri": "https://localhost:8080/"
        },
        "id": "_bHypOUX120f",
        "outputId": "04ab9a45-eca1-4204-849d-3f2308bcfcf3"
      },
      "outputs": [
        {
          "data": {
            "text/plain": [
              "(tensor([[[1, 2, 3],\n",
              "          [4, 5, 6],\n",
              "          [7, 8, 9]]]),\n",
              " torch.Size([1, 3, 3]))"
            ]
          },
          "execution_count": 82,
          "metadata": {},
          "output_type": "execute_result"
        }
      ],
      "source": [
        "import torch\n",
        "\n",
        "x = torch.arange(1, 10).reshape(1, 3, 3)\n",
        "x, x.shape"
      ]
    },
    {
      "cell_type": "code",
      "execution_count": 83,
      "metadata": {
        "colab": {
          "base_uri": "https://localhost:8080/"
        },
        "id": "qxYOAZeN2HyA",
        "outputId": "3f8118f5-7c77-44c5-c864-71033d7fe988"
      },
      "outputs": [
        {
          "data": {
            "text/plain": [
              "tensor([[1, 2, 3],\n",
              "        [4, 5, 6],\n",
              "        [7, 8, 9]])"
            ]
          },
          "execution_count": 83,
          "metadata": {},
          "output_type": "execute_result"
        }
      ],
      "source": [
        "# indexing on the tensor\n",
        "x[0]"
      ]
    },
    {
      "cell_type": "code",
      "execution_count": 84,
      "metadata": {
        "colab": {
          "base_uri": "https://localhost:8080/"
        },
        "id": "ufxB49rS2SLo",
        "outputId": "8a53846b-6596-4719-9e94-c42fea2ed34e"
      },
      "outputs": [
        {
          "data": {
            "text/plain": [
              "(tensor([1, 2, 3]), tensor([1, 2, 3]))"
            ]
          },
          "execution_count": 84,
          "metadata": {},
          "output_type": "execute_result"
        }
      ],
      "source": [
        "x[0, 0], x[0][0] # dim=1"
      ]
    },
    {
      "cell_type": "code",
      "execution_count": 85,
      "metadata": {
        "colab": {
          "base_uri": "https://localhost:8080/"
        },
        "id": "TRxbT9Tb2bZq",
        "outputId": "dafdd3a4-7775-41ae-a270-2f2038908518"
      },
      "outputs": [
        {
          "data": {
            "text/plain": [
              "(tensor(9), tensor(9), tensor(9), tensor(9))"
            ]
          },
          "execution_count": 85,
          "metadata": {},
          "output_type": "execute_result"
        }
      ],
      "source": [
        "x[0, -1, -1], x[0][-1][-1], x[0, 2, 2], x[0][2][2]"
      ]
    },
    {
      "cell_type": "code",
      "execution_count": 86,
      "metadata": {
        "colab": {
          "base_uri": "https://localhost:8080/"
        },
        "id": "ywscaYTD3Com",
        "outputId": "459950d0-baa3-40fe-dd43-10394d3d45b3"
      },
      "outputs": [
        {
          "data": {
            "text/plain": [
              "tensor([[1, 2, 3]])"
            ]
          },
          "execution_count": 86,
          "metadata": {},
          "output_type": "execute_result"
        }
      ],
      "source": [
        "# you can also use the \":\" to select ALL of the target dimension\n",
        "x[:, 0] # extracting a row from the tensor"
      ]
    },
    {
      "cell_type": "code",
      "execution_count": 87,
      "metadata": {
        "colab": {
          "base_uri": "https://localhost:8080/"
        },
        "id": "87_c72343Xwt",
        "outputId": "76747c4e-cc1d-41da-8fde-1b8089090f59"
      },
      "outputs": [
        {
          "data": {
            "text/plain": [
              "(tensor([[1, 4, 7]]),\n",
              " tensor([[1],\n",
              "         [4],\n",
              "         [7]]))"
            ]
          },
          "execution_count": 87,
          "metadata": {},
          "output_type": "execute_result"
        }
      ],
      "source": [
        "x[:, :, 0], x[:, :, 0].T  # extracting columns from tensors"
      ]
    },
    {
      "cell_type": "code",
      "execution_count": 88,
      "metadata": {
        "colab": {
          "base_uri": "https://localhost:8080/"
        },
        "id": "wPKIYS_-33rW",
        "outputId": "39cc3179-0bda-4d13-fef8-7f31160985b4"
      },
      "outputs": [
        {
          "name": "stdout",
          "output_type": "stream",
          "text": [
            "tensor([5])\n",
            "tensor(5)\n",
            "tensor(5)\n"
          ]
        }
      ],
      "source": [
        "# get all values of the zero dimension but only the 1 index value of 1st and 2nd dimension\n",
        "print(x[:, 1, 1]) # mind the square brackets using the colon for selecting whole dimensions instead of the 0\n",
        "print(x[0, 1, 1])\n",
        "print(x[0][1][1])"
      ]
    },
    {
      "cell_type": "code",
      "execution_count": 89,
      "metadata": {
        "colab": {
          "base_uri": "https://localhost:8080/"
        },
        "id": "mJlrx1LH5LLi",
        "outputId": "c6dbeb69-6618-4f41-b0ba-bc5e26023744"
      },
      "outputs": [
        {
          "data": {
            "text/plain": [
              "tensor([1, 2, 3])"
            ]
          },
          "execution_count": 89,
          "metadata": {},
          "output_type": "execute_result"
        }
      ],
      "source": [
        "# get index 0 of 0th dimension and 1st dimension and all values of 2nd dimension\n",
        "x[0, 0, :]"
      ]
    },
    {
      "cell_type": "code",
      "execution_count": 90,
      "metadata": {
        "colab": {
          "base_uri": "https://localhost:8080/"
        },
        "id": "e0uu6xSW51X8",
        "outputId": "2a968e5a-efe1-4e40-969b-0de3b2dba509"
      },
      "outputs": [
        {
          "name": "stdout",
          "output_type": "stream",
          "text": [
            "tensor(9)\n",
            "tensor([[3, 6, 9]])\n"
          ]
        }
      ],
      "source": [
        "print(x[0, 2, 2])\n",
        "print(x[:, :, 2])"
      ]
    },
    {
      "cell_type": "markdown",
      "metadata": {
        "id": "zp8Izjum7Qt5"
      },
      "source": [
        "## PyTorch tesors and NumPy\n",
        "\n",
        "NumPy is a popular scientific Python numerical computing library\n",
        "\n",
        "PyTorch has functionality to interact with numpy\n",
        "\n",
        "- Data un NumPy, want in PyTorch tensor -> torch.from_numpy(ndarray)\n",
        "\n",
        "- PyTorch tensor -> NumPy -> torch.Tensor.numpy()"
      ]
    },
    {
      "cell_type": "code",
      "execution_count": 109,
      "metadata": {
        "colab": {
          "base_uri": "https://localhost:8080/"
        },
        "id": "P2U0xuNC8Ci5",
        "outputId": "24fe2810-ebcb-4006-f701-4a154ca908b8"
      },
      "outputs": [
        {
          "name": "stdout",
          "output_type": "stream",
          "text": [
            "1.26.0\n"
          ]
        },
        {
          "data": {
            "text/plain": [
              "(dtype('float64'), torch.float32)"
            ]
          },
          "execution_count": 109,
          "metadata": {},
          "output_type": "execute_result"
        }
      ],
      "source": [
        "# NumPy array to tensor\n",
        "import torch\n",
        "import numpy as np\n",
        "print(np.__version__)\n",
        "\n",
        "array = np.arange(1.0, 8.0) # original numpy array\n",
        "tensor = torch.from_numpy(array).type(torch.float32) # default is 64 WARNING: when converting from numpy -> pytorch, pytorch reflects the numpy's default datatype of float64 unless specified otherwise\n",
        "array.dtype, tensor.dtype"
      ]
    },
    {
      "cell_type": "code",
      "execution_count": 92,
      "metadata": {
        "colab": {
          "base_uri": "https://localhost:8080/"
        },
        "id": "hYkZrZ1r8g3j",
        "outputId": "2199d84c-8dad-4a36-a372-ce56598c165b"
      },
      "outputs": [
        {
          "name": "stdout",
          "output_type": "stream",
          "text": [
            "float64\n",
            "torch.float64\n"
          ]
        }
      ],
      "source": [
        "print(array.dtype)\n",
        "print(tensor.dtype)"
      ]
    },
    {
      "cell_type": "code",
      "execution_count": 93,
      "metadata": {
        "colab": {
          "base_uri": "https://localhost:8080/"
        },
        "id": "YrGxqP8T9tPB",
        "outputId": "44fd0067-fdc4-4005-a168-1101810a2f0f"
      },
      "outputs": [
        {
          "data": {
            "text/plain": [
              "(array([2., 3., 4., 5., 6., 7., 8.]),\n",
              " tensor([1., 2., 3., 4., 5., 6., 7.], dtype=torch.float64))"
            ]
          },
          "execution_count": 93,
          "metadata": {},
          "output_type": "execute_result"
        }
      ],
      "source": [
        "# change the value of array, what will happen to tensor\n",
        "array = array + 1\n",
        "array, tensor # -> changing the array does not change the tensor as this is created new and separate in memory"
      ]
    },
    {
      "cell_type": "code",
      "execution_count": 94,
      "metadata": {
        "colab": {
          "base_uri": "https://localhost:8080/"
        },
        "id": "iWC4itNF-SCt",
        "outputId": "d9de2ae5-6f85-466a-99d8-dceffcd21697"
      },
      "outputs": [
        {
          "data": {
            "text/plain": [
              "(tensor([1., 1., 1., 1., 1., 1., 1.]),\n",
              " array([1., 1., 1., 1., 1., 1., 1.], dtype=float32))"
            ]
          },
          "execution_count": 94,
          "metadata": {},
          "output_type": "execute_result"
        }
      ],
      "source": [
        "# tensor to numpy array\n",
        "tensor = torch.ones(7) # original torch tensor\n",
        "numpy_tensor = tensor.numpy()\n",
        "tensor, numpy_tensor"
      ]
    },
    {
      "cell_type": "code",
      "execution_count": 95,
      "metadata": {
        "colab": {
          "base_uri": "https://localhost:8080/"
        },
        "id": "ABcriVCr-2KT",
        "outputId": "644d9ad4-6f3e-404f-fdcc-9691eb982f09"
      },
      "outputs": [
        {
          "data": {
            "text/plain": [
              "dtype('float32')"
            ]
          },
          "execution_count": 95,
          "metadata": {},
          "output_type": "execute_result"
        }
      ],
      "source": [
        "numpy_tensor.dtype"
      ]
    },
    {
      "cell_type": "code",
      "execution_count": 96,
      "metadata": {
        "colab": {
          "base_uri": "https://localhost:8080/"
        },
        "id": "RYOVYcxM-4x8",
        "outputId": "b4d735ba-8a51-42ff-c9e8-2788a0fa8473"
      },
      "outputs": [
        {
          "data": {
            "text/plain": [
              "(tensor([2., 2., 2., 2., 2., 2., 2.]),\n",
              " array([1., 1., 1., 1., 1., 1., 1.], dtype=float32))"
            ]
          },
          "execution_count": 96,
          "metadata": {},
          "output_type": "execute_result"
        }
      ],
      "source": [
        "# change the tensor, what happens to numpy tensor\n",
        "tensor = tensor + 1\n",
        "tensor, numpy_tensor"
      ]
    },
    {
      "cell_type": "markdown",
      "metadata": {
        "id": "aTMCWR3j_mu4"
      },
      "source": [
        "https://docs.pytorch.org/tutorials/beginner/examples_tensor/polynomial_numpy.html\n",
        "\n",
        "## Reproducability -> trying to take random out of random\n",
        "\n",
        "https://docs.pytorch.org/docs/stable/notes/randomness.html\n",
        "\n",
        "In short how a neural network learns\n",
        "`start with random nuumbers -> tensor operations -> update random numbers and try to make them better representations of the data -> again -> again ...\n",
        "\n",
        "to reduce the randomness in neural networks and pytorch comes a concept of **random seed**\n",
        "\n",
        "random seed flavours the randomness\n"
      ]
    },
    {
      "cell_type": "code",
      "execution_count": 97,
      "metadata": {
        "colab": {
          "base_uri": "https://localhost:8080/"
        },
        "id": "1KTChRfq_nto",
        "outputId": "d857dbd3-3373-41b2-cbee-18d1e0da4819"
      },
      "outputs": [
        {
          "data": {
            "text/plain": [
              "tensor([[0.9425, 0.3286, 0.2592],\n",
              "        [0.1422, 0.7991, 0.0622],\n",
              "        [0.1197, 0.0590, 0.8385]])"
            ]
          },
          "execution_count": 97,
          "metadata": {},
          "output_type": "execute_result"
        }
      ],
      "source": [
        "torch.rand(3, 3)"
      ]
    },
    {
      "cell_type": "code",
      "execution_count": 98,
      "metadata": {
        "colab": {
          "base_uri": "https://localhost:8080/"
        },
        "id": "5lFGRd5CA-UQ",
        "outputId": "d39c5a55-adb2-4e61-eec5-c6204d619001"
      },
      "outputs": [
        {
          "name": "stdout",
          "output_type": "stream",
          "text": [
            "tensor([[0.3262, 0.3966, 0.0144, 0.3738],\n",
            "        [0.8740, 0.8215, 0.4435, 0.7938],\n",
            "        [0.7378, 0.1753, 0.5233, 0.6950]])\n",
            "tensor([[0.8908, 0.2637, 0.7355, 0.1064],\n",
            "        [0.8860, 0.2471, 0.5227, 0.8640],\n",
            "        [0.9743, 0.5523, 0.7124, 0.9814]])\n",
            "tensor([[False, False, False, False],\n",
            "        [False, False, False, False],\n",
            "        [False, False, False, False]])\n"
          ]
        }
      ],
      "source": [
        "import torch\n",
        "# create two random tnesors\n",
        "a = torch.rand(3, 4)\n",
        "b = torch.rand(3, 4)\n",
        "\n",
        "print(a)\n",
        "print(b)\n",
        "print(a == b)"
      ]
    },
    {
      "cell_type": "code",
      "execution_count": 99,
      "metadata": {
        "colab": {
          "base_uri": "https://localhost:8080/"
        },
        "id": "4lS93wE3Bgff",
        "outputId": "451546fa-9590-40df-864c-cd2f0b31de08"
      },
      "outputs": [
        {
          "name": "stdout",
          "output_type": "stream",
          "text": [
            "tensor([[0.8823, 0.9150, 0.3829, 0.9593],\n",
            "        [0.3904, 0.6009, 0.2566, 0.7936],\n",
            "        [0.9408, 0.1332, 0.9346, 0.5936]])\n",
            "tensor([[0.8823, 0.9150, 0.3829, 0.9593],\n",
            "        [0.3904, 0.6009, 0.2566, 0.7936],\n",
            "        [0.9408, 0.1332, 0.9346, 0.5936]])\n",
            "tensor([[True, True, True, True],\n",
            "        [True, True, True, True],\n",
            "        [True, True, True, True]])\n"
          ]
        }
      ],
      "source": [
        "# Let's make random but reproducable tensors\n",
        "import torch\n",
        "\n",
        "# ste random seed\n",
        "RANDOM_SEED = 42\n",
        "\n",
        "torch.manual_seed(RANDOM_SEED)\n",
        "c = torch.rand(3, 4)\n",
        "\n",
        "torch.manual_seed(RANDOM_SEED)\n",
        "d = torch.rand(3, 4)\n",
        "\n",
        "print(c)\n",
        "print(d)\n",
        "print(c==d)"
      ]
    },
    {
      "cell_type": "markdown",
      "metadata": {
        "id": "y3kY6wpLCmj7"
      },
      "source": [
        "https://docs.pytorch.org/docs/stable/generated/torch.rand.html\n",
        "\n",
        "https://en.wikipedia.org/wiki/Random_seed\n"
      ]
    },
    {
      "cell_type": "markdown",
      "metadata": {
        "id": "DXK_ZrsuDsvE"
      },
      "source": [
        "## running tensors and pytorch objects on gpus and making faster computation\n",
        "\n",
        "gpus = faster computation on numbers,\n",
        "thanks to CUDA + NVIDIA hardware + PyTorch working behind the scenes to make everything hunky\n",
        "\n",
        "### 1. getting a gpu\n",
        "\n",
        "1. Easiest use google colab for a free gpu\n",
        "2. use own gpu - must be set up\n",
        "3. use cloud computing - gcp, aws, azure, these services allow you to rent computers on the cloud and access them\n",
        "\n",
        "for 2, 3 pytorch + gpu drivers takes setting up , refer to pytorch set up doc\n",
        "https://pytorch.org/get-started/locally/\n"
      ]
    },
    {
      "cell_type": "code",
      "execution_count": 100,
      "metadata": {
        "colab": {
          "base_uri": "https://localhost:8080/"
        },
        "id": "ooL-wzNCDNMX",
        "outputId": "b6ac62c3-99b1-48c5-e1f5-ca77e57355d9"
      },
      "outputs": [
        {
          "name": "stdout",
          "output_type": "stream",
          "text": [
            "zsh:1: command not found: nividia-smi\n"
          ]
        }
      ],
      "source": [
        "!nividia-smi # not running on gpu at the moment"
      ]
    },
    {
      "cell_type": "code",
      "execution_count": 101,
      "metadata": {
        "colab": {
          "base_uri": "https://localhost:8080/"
        },
        "id": "TFRVsn95GDl1",
        "outputId": "bb729267-dec2-4e28-9cd0-ddb97f135a70"
      },
      "outputs": [
        {
          "data": {
            "text/plain": [
              "False"
            ]
          },
          "execution_count": 101,
          "metadata": {},
          "output_type": "execute_result"
        }
      ],
      "source": [
        "# check for gpu access with pytorch\n",
        "import torch\n",
        "torch.cuda.is_available()"
      ]
    },
    {
      "cell_type": "code",
      "execution_count": 102,
      "metadata": {
        "colab": {
          "base_uri": "https://localhost:8080/",
          "height": 35
        },
        "id": "OdiEDTswGS0p",
        "outputId": "23c7db1d-eecb-45aa-9874-03c73dcd70bf"
      },
      "outputs": [
        {
          "data": {
            "text/plain": [
              "'cpu'"
            ]
          },
          "execution_count": 102,
          "metadata": {},
          "output_type": "execute_result"
        }
      ],
      "source": [
        "# set up device agnostic code\n",
        "device = \"cuda\" if torch.cuda.is_available() else \"cpu\"\n",
        "device"
      ]
    },
    {
      "cell_type": "code",
      "execution_count": 103,
      "metadata": {
        "colab": {
          "base_uri": "https://localhost:8080/"
        },
        "id": "g2TLXZnSGjOo",
        "outputId": "c21e1bff-773e-4cdc-b282-d1cec101eb59"
      },
      "outputs": [
        {
          "data": {
            "text/plain": [
              "0"
            ]
          },
          "execution_count": 103,
          "metadata": {},
          "output_type": "execute_result"
        }
      ],
      "source": [
        "# count number of devices\n",
        "torch.cuda.device_count()"
      ]
    },
    {
      "cell_type": "markdown",
      "metadata": {
        "id": "bzn5uQE-G08E"
      },
      "source": [
        "https://docs.pytorch.org/docs/stable/notes/cuda.html\n",
        "\n",
        "For pytorch since it is capable of running compute on the gpu or cpu, it is best practice to setup device agnostic code.\n",
        "\n",
        "E.g. run on GPU if available, else default to CPU -> cell 224"
      ]
    },
    {
      "cell_type": "markdown",
      "metadata": {
        "id": "BQRfCz9bHiCG"
      },
      "source": [
        "## putting tensors and models on the gpu\n",
        "\n",
        "gpu are doing great on numerical operations which is why we want to use them"
      ]
    },
    {
      "cell_type": "code",
      "execution_count": 104,
      "metadata": {
        "colab": {
          "base_uri": "https://localhost:8080/"
        },
        "id": "A5MEDeXDHu7M",
        "outputId": "0e6d3fdc-6607-435c-e9cc-7a5583cc2e66"
      },
      "outputs": [
        {
          "name": "stdout",
          "output_type": "stream",
          "text": [
            "tensor([1, 2, 3]) cpu\n"
          ]
        }
      ],
      "source": [
        "# create a tensor\n",
        "tensor = torch.tensor([1, 2, 3])\n",
        "\n",
        "# tensor not on gpu\n",
        "print(tensor, tensor.device)"
      ]
    },
    {
      "cell_type": "code",
      "execution_count": 105,
      "metadata": {
        "colab": {
          "base_uri": "https://localhost:8080/"
        },
        "id": "v3LneLdcH_1i",
        "outputId": "54a6d3fd-ef49-487f-e163-c81e6f27fecb"
      },
      "outputs": [
        {
          "data": {
            "text/plain": [
              "tensor([1, 2, 3])"
            ]
          },
          "execution_count": 105,
          "metadata": {},
          "output_type": "execute_result"
        }
      ],
      "source": [
        "# move tensor to gpu if available\n",
        "tensor_on_gpu = tensor.to(device) # widley used\n",
        "tensor_on_gpu"
      ]
    },
    {
      "cell_type": "markdown",
      "metadata": {
        "id": "Ffas4RBZIaQj"
      },
      "source": [
        "### Moving tensors back to cpu"
      ]
    },
    {
      "cell_type": "code",
      "execution_count": 106,
      "metadata": {
        "colab": {
          "base_uri": "https://localhost:8080/"
        },
        "id": "b-YJe4h4Iexn",
        "outputId": "a2dd8142-1594-4fca-910e-9c168f85b1ff"
      },
      "outputs": [
        {
          "data": {
            "text/plain": [
              "array([1, 2, 3])"
            ]
          },
          "execution_count": 106,
          "metadata": {},
          "output_type": "execute_result"
        }
      ],
      "source": [
        "# if tensor on the GPU, can't transform to numPy\n",
        "tensor_on_gpu.numpy() # because it is not really on gpu because not available, otherwise would have errored"
      ]
    },
    {
      "cell_type": "code",
      "execution_count": 107,
      "metadata": {
        "colab": {
          "base_uri": "https://localhost:8080/"
        },
        "id": "ST50YV9HIvvR",
        "outputId": "be32d639-4fa9-41d9-d451-4c9c7d7bba94"
      },
      "outputs": [
        {
          "data": {
            "text/plain": [
              "array([1, 2, 3])"
            ]
          },
          "execution_count": 107,
          "metadata": {},
          "output_type": "execute_result"
        }
      ],
      "source": [
        "# moving the tensr from the gpu back to the cpu -> might want to try this out when the gpu is working\n",
        "tensor_back_on_cpu = tensor_on_gpu.cpu().numpy()\n",
        "tensor_back_on_cpu"
      ]
    }
  ],
  "metadata": {
    "colab": {
      "provenance": []
    },
    "kernelspec": {
      "display_name": "pytorch-course",
      "language": "python",
      "name": "python3"
    },
    "language_info": {
      "codemirror_mode": {
        "name": "ipython",
        "version": 3
      },
      "file_extension": ".py",
      "mimetype": "text/x-python",
      "name": "python",
      "nbconvert_exporter": "python",
      "pygments_lexer": "ipython3",
      "version": "3.11.13"
    }
  },
  "nbformat": 4,
  "nbformat_minor": 0
}
