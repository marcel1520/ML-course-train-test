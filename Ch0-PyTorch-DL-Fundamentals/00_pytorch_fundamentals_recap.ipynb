{
  "nbformat": 4,
  "nbformat_minor": 0,
  "metadata": {
    "colab": {
      "provenance": []
    },
    "kernelspec": {
      "name": "python3",
      "display_name": "Python 3"
    },
    "language_info": {
      "name": "python"
    }
  },
  "cells": [
    {
      "cell_type": "markdown",
      "source": [
        "## 00 pytorch fundamentals"
      ],
      "metadata": {
        "id": "1_K90IOZ5mux"
      }
    },
    {
      "cell_type": "code",
      "source": [
        "import torch\n",
        "import pandas as pd\n",
        "import numpy as np\n",
        "import matplotlib.pyplot as plt\n",
        "\n",
        "print(torch.__version__)"
      ],
      "metadata": {
        "colab": {
          "base_uri": "https://localhost:8080/"
        },
        "id": "60eRI6nBNkxF",
        "outputId": "d293de11-d330-4801-c3da-058210c08085"
      },
      "execution_count": 1,
      "outputs": [
        {
          "output_type": "stream",
          "name": "stdout",
          "text": [
            "2.6.0+cu124\n"
          ]
        }
      ]
    },
    {
      "cell_type": "markdown",
      "source": [
        "https://docs.pytorch.org/docs/stable/tensors.html"
      ],
      "metadata": {
        "id": "o04PQFm2Om3X"
      }
    },
    {
      "cell_type": "code",
      "source": [
        "# scalar\n",
        "scalar = torch.tensor(7)\n",
        "scalar"
      ],
      "metadata": {
        "colab": {
          "base_uri": "https://localhost:8080/"
        },
        "id": "7bnHB1cLN5q2",
        "outputId": "efb8dca6-d9df-4c73-8c64-6eeafb850553"
      },
      "execution_count": 2,
      "outputs": [
        {
          "output_type": "execute_result",
          "data": {
            "text/plain": [
              "tensor(7)"
            ]
          },
          "metadata": {},
          "execution_count": 2
        }
      ]
    },
    {
      "cell_type": "code",
      "source": [
        "scalar.ndim"
      ],
      "metadata": {
        "colab": {
          "base_uri": "https://localhost:8080/"
        },
        "id": "ozMfY_NVPFnS",
        "outputId": "19a6b173-4ecd-4fd7-f9eb-6de6d0c88b8a"
      },
      "execution_count": 3,
      "outputs": [
        {
          "output_type": "execute_result",
          "data": {
            "text/plain": [
              "0"
            ]
          },
          "metadata": {},
          "execution_count": 3
        }
      ]
    },
    {
      "cell_type": "code",
      "source": [
        "scalar.item()"
      ],
      "metadata": {
        "colab": {
          "base_uri": "https://localhost:8080/"
        },
        "id": "zUd6CREbPOEc",
        "outputId": "de0b5917-ef0e-47e0-df86-8c8b854875b2"
      },
      "execution_count": 4,
      "outputs": [
        {
          "output_type": "execute_result",
          "data": {
            "text/plain": [
              "7"
            ]
          },
          "metadata": {},
          "execution_count": 4
        }
      ]
    },
    {
      "cell_type": "code",
      "source": [
        "vector = torch.tensor([7, 7])\n",
        "vector.shape"
      ],
      "metadata": {
        "colab": {
          "base_uri": "https://localhost:8080/"
        },
        "id": "aW-TX6HuPum8",
        "outputId": "a69aea6c-bedc-4d13-930b-ecf55cf57c71"
      },
      "execution_count": 5,
      "outputs": [
        {
          "output_type": "execute_result",
          "data": {
            "text/plain": [
              "torch.Size([2])"
            ]
          },
          "metadata": {},
          "execution_count": 5
        }
      ]
    },
    {
      "cell_type": "code",
      "source": [
        "matrix = torch.tensor([[7, 7],\n",
        "                       [6, 7]])\n",
        "\n",
        "matrix"
      ],
      "metadata": {
        "colab": {
          "base_uri": "https://localhost:8080/"
        },
        "id": "dEfQ8cr0P6TG",
        "outputId": "5a373879-6eff-4c00-acf4-5975cdcee4e1"
      },
      "execution_count": 6,
      "outputs": [
        {
          "output_type": "execute_result",
          "data": {
            "text/plain": [
              "tensor([[7, 7],\n",
              "        [6, 7]])"
            ]
          },
          "metadata": {},
          "execution_count": 6
        }
      ]
    },
    {
      "cell_type": "code",
      "source": [
        "matrix.shape"
      ],
      "metadata": {
        "colab": {
          "base_uri": "https://localhost:8080/"
        },
        "id": "b8dP6D4SQOT1",
        "outputId": "7c681cdb-6b55-4eac-82b7-73bdaaf7be28"
      },
      "execution_count": 7,
      "outputs": [
        {
          "output_type": "execute_result",
          "data": {
            "text/plain": [
              "torch.Size([2, 2])"
            ]
          },
          "metadata": {},
          "execution_count": 7
        }
      ]
    },
    {
      "cell_type": "code",
      "source": [
        "matrix.ndim"
      ],
      "metadata": {
        "colab": {
          "base_uri": "https://localhost:8080/"
        },
        "id": "qit-fua3QV6Q",
        "outputId": "bd7950e9-5128-4b6f-f784-7fe2f80df4b3"
      },
      "execution_count": 8,
      "outputs": [
        {
          "output_type": "execute_result",
          "data": {
            "text/plain": [
              "2"
            ]
          },
          "metadata": {},
          "execution_count": 8
        }
      ]
    },
    {
      "cell_type": "code",
      "source": [
        "tensor = torch.tensor([[[1, 2, 3],\n",
        "                       [4, 5, 6],\n",
        "                       [7, 8, 9]]])\n",
        "print(f\"{tensor}\")\n",
        "print(f\"tensor with shape: {tensor.shape}\")\n",
        "\n"
      ],
      "metadata": {
        "colab": {
          "base_uri": "https://localhost:8080/"
        },
        "id": "gfVSAYtuQbfS",
        "outputId": "47546d22-64b0-4b13-c964-45a9f1cf8712"
      },
      "execution_count": 9,
      "outputs": [
        {
          "output_type": "stream",
          "name": "stdout",
          "text": [
            "tensor([[[1, 2, 3],\n",
            "         [4, 5, 6],\n",
            "         [7, 8, 9]]])\n",
            "tensor with shape: torch.Size([1, 3, 3])\n"
          ]
        }
      ]
    },
    {
      "cell_type": "code",
      "source": [
        "print(f\"accessing the 1st dimension:\\n {tensor[0]}\")\n",
        "print(f\"accessing the 2nd row:\\n {tensor[0][1]}\")\n",
        "print(f\"accessing the 3rd column:\\n {tensor[0][:, 2]}\")\n",
        "print(f\"accessing the 1st item in the 3rd row:\\n {tensor[0][2][0]}\")"
      ],
      "metadata": {
        "colab": {
          "base_uri": "https://localhost:8080/"
        },
        "id": "upnGJBJkRChK",
        "outputId": "891dd0f0-6770-4eaf-ab10-994145921feb"
      },
      "execution_count": 10,
      "outputs": [
        {
          "output_type": "stream",
          "name": "stdout",
          "text": [
            "accessing the 1st dimension:\n",
            " tensor([[1, 2, 3],\n",
            "        [4, 5, 6],\n",
            "        [7, 8, 9]])\n",
            "accessing the 2nd row:\n",
            " tensor([4, 5, 6])\n",
            "accessing the 3rd column:\n",
            " tensor([3, 6, 9])\n",
            "accessing the 1st item in the 3rd row:\n",
            " 7\n"
          ]
        }
      ]
    },
    {
      "cell_type": "code",
      "source": [
        "tensor_1 = torch.tensor([[[1, 2, 3, 4],\n",
        "                          [5, 6, 7, 8],\n",
        "                          [9, 11, 12, 13]],\n",
        "\n",
        "                         [[10, 20, 30, 40],\n",
        "                          [31, 41, 51, 61],\n",
        "                          [62, 72, 84, 96]]])\n",
        "tensor_1"
      ],
      "metadata": {
        "colab": {
          "base_uri": "https://localhost:8080/"
        },
        "id": "XTb4TO6WSoD9",
        "outputId": "7bda9004-1ce6-4a14-a75d-e036a16144bb"
      },
      "execution_count": 11,
      "outputs": [
        {
          "output_type": "execute_result",
          "data": {
            "text/plain": [
              "tensor([[[ 1,  2,  3,  4],\n",
              "         [ 5,  6,  7,  8],\n",
              "         [ 9, 11, 12, 13]],\n",
              "\n",
              "        [[10, 20, 30, 40],\n",
              "         [31, 41, 51, 61],\n",
              "         [62, 72, 84, 96]]])"
            ]
          },
          "metadata": {},
          "execution_count": 11
        }
      ]
    },
    {
      "cell_type": "code",
      "source": [
        "tensor_1.shape"
      ],
      "metadata": {
        "colab": {
          "base_uri": "https://localhost:8080/"
        },
        "id": "8ku2qLeVS6el",
        "outputId": "8b0fb8ec-512b-4e8b-b0f0-ce3ee972ad98"
      },
      "execution_count": 12,
      "outputs": [
        {
          "output_type": "execute_result",
          "data": {
            "text/plain": [
              "torch.Size([2, 3, 4])"
            ]
          },
          "metadata": {},
          "execution_count": 12
        }
      ]
    },
    {
      "cell_type": "code",
      "source": [
        "print(f\"accessing the 2nd row of the 1st dimension:\\n {tensor_1[0][1]}\")\n",
        "print(f\"accessing the 4th column of the 2nd dimension:\\n {tensor_1[1][:, 3]}\")"
      ],
      "metadata": {
        "colab": {
          "base_uri": "https://localhost:8080/"
        },
        "id": "RfGaJb-iTcvn",
        "outputId": "84e4ae6a-f6e1-4ebc-caf7-c7e02171aa8b"
      },
      "execution_count": 13,
      "outputs": [
        {
          "output_type": "stream",
          "name": "stdout",
          "text": [
            "accessing the 2nd row of the 1st dimension:\n",
            " tensor([5, 6, 7, 8])\n",
            "accessing the 4th column of the 2nd dimension:\n",
            " tensor([40, 61, 96])\n"
          ]
        }
      ]
    },
    {
      "cell_type": "code",
      "source": [
        "matrix_1 = torch.tensor([[7, 7],\n",
        "                         [6, 7]])\n",
        "matrix_2 = torch.tensor([[5, 6],\n",
        "                         [4, 2]])\n",
        "print(f\"multiplied:\\n {matrix_1 * matrix_2}\")"
      ],
      "metadata": {
        "colab": {
          "base_uri": "https://localhost:8080/"
        },
        "id": "etWVJQPNU1i6",
        "outputId": "3ec07359-c33b-46c8-a83b-11a8e5a47ad8"
      },
      "execution_count": 14,
      "outputs": [
        {
          "output_type": "stream",
          "name": "stdout",
          "text": [
            "multiplied:\n",
            " tensor([[35, 42],\n",
            "        [24, 14]])\n"
          ]
        }
      ]
    },
    {
      "cell_type": "code",
      "source": [
        "matrix_3 = torch.tensor([[3, 4, 5],\n",
        "                         [4, 3, 6]])\n",
        "matrix_4 = torch.tensor([[2, 3],\n",
        "                         [4, 5],\n",
        "                         [9, 2]])\n",
        "print(f\"shapes of matrix 3 and matrix 4:\\n {matrix_3.shape, matrix_4.shape}\")\n",
        "print(f\"dot product of matrix 3 and matrix 4:\\n {matrix_3 @ matrix_4}\")\n",
        "print(f\"dot product of matrix 4 and matrix 3:\\n {matrix_4 @ matrix_3}\")"
      ],
      "metadata": {
        "colab": {
          "base_uri": "https://localhost:8080/"
        },
        "id": "-hdX717hVdpR",
        "outputId": "905316bd-f71f-47e2-a42c-3edf40408a50"
      },
      "execution_count": 15,
      "outputs": [
        {
          "output_type": "stream",
          "name": "stdout",
          "text": [
            "shapes of matrix 3 and matrix 4:\n",
            " (torch.Size([2, 3]), torch.Size([3, 2]))\n",
            "dot product of matrix 3 and matrix 4:\n",
            " tensor([[67, 39],\n",
            "        [74, 39]])\n",
            "dot product of matrix 4 and matrix 3:\n",
            " tensor([[18, 17, 28],\n",
            "        [32, 31, 50],\n",
            "        [35, 42, 57]])\n"
          ]
        }
      ]
    },
    {
      "cell_type": "code",
      "source": [
        "matrix_5 = torch.tensor([[7, 7, 7],\n",
        "                         [6, 5, 7]])\n",
        "matrix_6 = torch.tensor([[4, 5],\n",
        "                         [6, 5],\n",
        "                         [4, 3],\n",
        "                         [3, 7]])\n",
        "matrix_7 = matrix_6 @ matrix_5\n",
        "print(f\"Size Matrix 5: {matrix_5.shape} | Size Matrix 6: {matrix_6.shape}\")\n",
        "print(f\"dot product of matrix 6 and matrix 5:\\n {matrix_6 @ matrix_5}\")\n",
        "print(f\"no dot product of matrix 5 and matrix 6 due to mismatch of inner dimensions\")\n",
        "print(f\"matching ineer dimension gives matrix in shape outer dimensions:\\n {matrix_7.shape}\")\n"
      ],
      "metadata": {
        "colab": {
          "base_uri": "https://localhost:8080/"
        },
        "id": "MY3cjAPsW48r",
        "outputId": "ec464bf4-c2f0-465d-cd53-53d8e879294c"
      },
      "execution_count": 16,
      "outputs": [
        {
          "output_type": "stream",
          "name": "stdout",
          "text": [
            "Size Matrix 5: torch.Size([2, 3]) | Size Matrix 6: torch.Size([4, 2])\n",
            "dot product of matrix 6 and matrix 5:\n",
            " tensor([[58, 53, 63],\n",
            "        [72, 67, 77],\n",
            "        [46, 43, 49],\n",
            "        [63, 56, 70]])\n",
            "no dot product of matrix 5 and matrix 6 due to mismatch of inner dimensions\n",
            "matching ineer dimension gives matrix in shape outer dimensions:\n",
            " torch.Size([4, 3])\n"
          ]
        }
      ]
    },
    {
      "cell_type": "code",
      "source": [
        "# random tensors\n",
        "torch.manual_seed(123)\n",
        "ran_tensor = torch.rand(size=(2, 5, 6))\n",
        "print(f\"random tensor:\\n{ran_tensor}\")\n",
        "print(f\"random tensor in shape:\\n{ran_tensor.shape}\")\n",
        "print(f\"accessing 1st batch:\\n{ran_tensor[0]}\\n\")\n",
        "tensor_second_batch = ran_tensor[1]\n",
        "print(f\"accessing 2nd batch:\\n{tensor_second_batch}\\n\")\n",
        "norm_tensor_row_second_batch = tensor_second_batch.softmax(dim=1)\n",
        "print(f\"2nd batch normalized along the rows:\\n{norm_tensor_row_second_batch}\\n\")\n",
        "norm_tensor_row_second_batch_sum = sum(norm_tensor_row_second_batch[1])\n",
        "print(f\"sum of 2nd row:\\n{norm_tensor_row_second_batch_sum:.4f}\\n\")\n",
        "norm_tensor_col_second_batch = tensor_second_batch.softmax(dim=0)\n",
        "print(f\"2nd batch normalized along the columns:\\n{norm_tensor_col_second_batch}\\n\")\n",
        "norm_tensor_col_second_batch_sum = sum(norm_tensor_col_second_batch[:, 1])\n",
        "print(f\"sum of 2nd column:\\n{norm_tensor_col_second_batch_sum:.4f}\")"
      ],
      "metadata": {
        "colab": {
          "base_uri": "https://localhost:8080/"
        },
        "id": "2MjM0PbraBtd",
        "outputId": "6516af89-76ab-4943-bd52-2e9b747942c6"
      },
      "execution_count": 17,
      "outputs": [
        {
          "output_type": "stream",
          "name": "stdout",
          "text": [
            "random tensor:\n",
            "tensor([[[0.2961, 0.5166, 0.2517, 0.6886, 0.0740, 0.8665],\n",
            "         [0.1366, 0.1025, 0.1841, 0.7264, 0.3153, 0.6871],\n",
            "         [0.0756, 0.1966, 0.3164, 0.4017, 0.1186, 0.8274],\n",
            "         [0.3821, 0.6605, 0.8536, 0.5932, 0.6367, 0.9826],\n",
            "         [0.2745, 0.6584, 0.2775, 0.8573, 0.8993, 0.0390]],\n",
            "\n",
            "        [[0.9268, 0.7388, 0.7179, 0.7058, 0.9156, 0.4340],\n",
            "         [0.0772, 0.3565, 0.1479, 0.5331, 0.4066, 0.2318],\n",
            "         [0.4545, 0.9737, 0.4606, 0.5159, 0.4220, 0.5786],\n",
            "         [0.9455, 0.8057, 0.6775, 0.6087, 0.6179, 0.6932],\n",
            "         [0.4354, 0.0353, 0.1908, 0.9268, 0.5299, 0.0950]]])\n",
            "random tensor in shape:\n",
            "torch.Size([2, 5, 6])\n",
            "accessing 1st batch:\n",
            "tensor([[0.2961, 0.5166, 0.2517, 0.6886, 0.0740, 0.8665],\n",
            "        [0.1366, 0.1025, 0.1841, 0.7264, 0.3153, 0.6871],\n",
            "        [0.0756, 0.1966, 0.3164, 0.4017, 0.1186, 0.8274],\n",
            "        [0.3821, 0.6605, 0.8536, 0.5932, 0.6367, 0.9826],\n",
            "        [0.2745, 0.6584, 0.2775, 0.8573, 0.8993, 0.0390]])\n",
            "\n",
            "accessing 2nd batch:\n",
            "tensor([[0.9268, 0.7388, 0.7179, 0.7058, 0.9156, 0.4340],\n",
            "        [0.0772, 0.3565, 0.1479, 0.5331, 0.4066, 0.2318],\n",
            "        [0.4545, 0.9737, 0.4606, 0.5159, 0.4220, 0.5786],\n",
            "        [0.9455, 0.8057, 0.6775, 0.6087, 0.6179, 0.6932],\n",
            "        [0.4354, 0.0353, 0.1908, 0.9268, 0.5299, 0.0950]])\n",
            "\n",
            "2nd batch normalized along the rows:\n",
            "tensor([[0.1984, 0.1643, 0.1610, 0.1590, 0.1961, 0.1212],\n",
            "        [0.1328, 0.1756, 0.1425, 0.2095, 0.1846, 0.1550],\n",
            "        [0.1460, 0.2453, 0.1469, 0.1552, 0.1413, 0.1653],\n",
            "        [0.2064, 0.1794, 0.1578, 0.1473, 0.1487, 0.1603],\n",
            "        [0.1695, 0.1136, 0.1328, 0.2771, 0.1863, 0.1206]])\n",
            "\n",
            "sum of 2nd row:\n",
            "1.0000\n",
            "\n",
            "2nd batch normalized along the columns:\n",
            "tensor([[0.2716, 0.2217, 0.2571, 0.2073, 0.2752, 0.2008],\n",
            "        [0.1161, 0.1512, 0.1454, 0.1744, 0.1654, 0.1640],\n",
            "        [0.1694, 0.2804, 0.1988, 0.1715, 0.1680, 0.2320],\n",
            "        [0.2767, 0.2370, 0.2469, 0.1881, 0.2043, 0.2602],\n",
            "        [0.1662, 0.1097, 0.1518, 0.2586, 0.1871, 0.1430]])\n",
            "\n",
            "sum of 2nd column:\n",
            "1.0000\n"
          ]
        }
      ]
    },
    {
      "cell_type": "code",
      "source": [
        "random_image_size_tensor = torch.rand(size=(224, 224, 3))\n",
        "print(random_image_size_tensor.shape, random_image_size_tensor.ndim)\n",
        "unsqueezed_random_image_size_tensor = random_image_size_tensor.unsqueeze(0)\n",
        "print(f\"unsqueezed:\\n{unsqueezed_random_image_size_tensor.shape}\")\n",
        "squeeze_random_image_size_tensor = unsqueezed_random_image_size_tensor.squeeze()\n",
        "print(f\"squeezed:\\n{squeeze_random_image_size_tensor.shape}\")\n",
        "\n",
        "\n"
      ],
      "metadata": {
        "colab": {
          "base_uri": "https://localhost:8080/"
        },
        "id": "jARFWhekbUSR",
        "outputId": "f99f70a8-6652-4541-af0b-a9216495b32f"
      },
      "execution_count": 18,
      "outputs": [
        {
          "output_type": "stream",
          "name": "stdout",
          "text": [
            "torch.Size([224, 224, 3]) 3\n",
            "unsqueezed:\n",
            "torch.Size([1, 224, 224, 3])\n",
            "squeezed:\n",
            "torch.Size([224, 224, 3])\n"
          ]
        }
      ]
    },
    {
      "cell_type": "code",
      "source": [
        "zeros = torch.zeros(size=(3, 4))\n",
        "zeros"
      ],
      "metadata": {
        "colab": {
          "base_uri": "https://localhost:8080/"
        },
        "id": "5a5olOW8F7jh",
        "outputId": "5fcba9d0-2329-4c52-f27b-0861acfc5fbc"
      },
      "execution_count": 19,
      "outputs": [
        {
          "output_type": "execute_result",
          "data": {
            "text/plain": [
              "tensor([[0., 0., 0., 0.],\n",
              "        [0., 0., 0., 0.],\n",
              "        [0., 0., 0., 0.]])"
            ]
          },
          "metadata": {},
          "execution_count": 19
        }
      ]
    },
    {
      "cell_type": "code",
      "source": [
        "torch.manual_seed(123)\n",
        "random_tensor = torch.rand(size=(5, 3))\n",
        "random_tensor"
      ],
      "metadata": {
        "colab": {
          "base_uri": "https://localhost:8080/"
        },
        "id": "sCJksgH0GLsE",
        "outputId": "97b0df29-75ab-41fa-f3c9-8423054dbd41"
      },
      "execution_count": 20,
      "outputs": [
        {
          "output_type": "execute_result",
          "data": {
            "text/plain": [
              "tensor([[0.2961, 0.5166, 0.2517],\n",
              "        [0.6886, 0.0740, 0.8665],\n",
              "        [0.1366, 0.1025, 0.1841],\n",
              "        [0.7264, 0.3153, 0.6871],\n",
              "        [0.0756, 0.1966, 0.3164]])"
            ]
          },
          "metadata": {},
          "execution_count": 20
        }
      ]
    },
    {
      "cell_type": "code",
      "source": [
        "print(f\"{zeros.shape}, {random_tensor.shape}\")\n",
        "res = random_tensor @ zeros\n",
        "print(f\"Random Tensor @ Zeros:\\n{random_tensor @ zeros}\")\n",
        "print(f\"Order is crucial when calculating dot product, make inner dimensions (3, 3) -> result (5 X 4) Matrix\")\n",
        "print(res.size())"
      ],
      "metadata": {
        "colab": {
          "base_uri": "https://localhost:8080/"
        },
        "id": "lRehgapTGXST",
        "outputId": "95b69fdb-324b-4b6b-f407-01bf2d3f073b"
      },
      "execution_count": 21,
      "outputs": [
        {
          "output_type": "stream",
          "name": "stdout",
          "text": [
            "torch.Size([3, 4]), torch.Size([5, 3])\n",
            "Random Tensor @ Zeros:\n",
            "tensor([[0., 0., 0., 0.],\n",
            "        [0., 0., 0., 0.],\n",
            "        [0., 0., 0., 0.],\n",
            "        [0., 0., 0., 0.],\n",
            "        [0., 0., 0., 0.]])\n",
            "Order is crucial when calculating dot product, make inner dimensions (3, 3) -> result (5 X 4) Matrix\n",
            "torch.Size([5, 4])\n"
          ]
        }
      ]
    },
    {
      "cell_type": "code",
      "source": [
        "ones = torch.ones(size=(5, 4))\n",
        "print(ones)\n",
        "print(ones.dtype)"
      ],
      "metadata": {
        "colab": {
          "base_uri": "https://localhost:8080/"
        },
        "id": "bII7CDEVIZ7l",
        "outputId": "ac7b2c5a-9819-49fe-8f02-8efc34291f27"
      },
      "execution_count": 22,
      "outputs": [
        {
          "output_type": "stream",
          "name": "stdout",
          "text": [
            "tensor([[1., 1., 1., 1.],\n",
            "        [1., 1., 1., 1.],\n",
            "        [1., 1., 1., 1.],\n",
            "        [1., 1., 1., 1.],\n",
            "        [1., 1., 1., 1.]])\n",
            "torch.float32\n"
          ]
        }
      ]
    },
    {
      "cell_type": "code",
      "source": [
        "torch.manual_seed(42)\n",
        "random_tensor_1 = torch.rand(size=(8, 4))\n",
        "random_tensor_1"
      ],
      "metadata": {
        "colab": {
          "base_uri": "https://localhost:8080/"
        },
        "id": "Rm2dbGr4IjHB",
        "outputId": "605c380c-e220-4250-9ac2-45cce74b735d"
      },
      "execution_count": 23,
      "outputs": [
        {
          "output_type": "execute_result",
          "data": {
            "text/plain": [
              "tensor([[0.8823, 0.9150, 0.3829, 0.9593],\n",
              "        [0.3904, 0.6009, 0.2566, 0.7936],\n",
              "        [0.9408, 0.1332, 0.9346, 0.5936],\n",
              "        [0.8694, 0.5677, 0.7411, 0.4294],\n",
              "        [0.8854, 0.5739, 0.2666, 0.6274],\n",
              "        [0.2696, 0.4414, 0.2969, 0.8317],\n",
              "        [0.1053, 0.2695, 0.3588, 0.1994],\n",
              "        [0.5472, 0.0062, 0.9516, 0.0753]])"
            ]
          },
          "metadata": {},
          "execution_count": 23
        }
      ]
    },
    {
      "cell_type": "code",
      "source": [
        "print(f\"shape ones: {ones.shape}\\nshape random: {random_tensor_1.shape}\\n\")\n",
        "print(f\"shape ones transposed: {ones.T.shape}\\nshape random: {random_tensor_1.shape}\\n\")\n",
        "print(f\"can calculate dot product of {random_tensor_1.shape} @ {ones.T.shape}\")\n",
        "res_ones_t = random_tensor_1 @ ones.T\n",
        "res_ones_t\n",
        "print(f\"Random tensor 1 {random_tensor_1.shape} @ ones transposed {ones.T.shape} gives shape {res_ones_t.shape}\\n\")\n",
        "print(f\"shape ones: {ones.shape}\\nshape random transposed: {random_tensor_1.T.shape}\\n\")\n",
        "print(f\"can calculate dot product of {ones.shape} @ {random_tensor_1.T.shape}\")\n",
        "res_rand_t = ones @ random_tensor_1.T\n",
        "res_rand_t\n",
        "print(f\"ones {ones.shape} @ random tensor 1 {random_tensor_1.T.shape} gives shape {res_rand_t.shape}\\n\")\n"
      ],
      "metadata": {
        "colab": {
          "base_uri": "https://localhost:8080/"
        },
        "id": "mlfWPEsXIz12",
        "outputId": "4575fd18-a6b0-446e-ba78-659b5c4ee775"
      },
      "execution_count": 24,
      "outputs": [
        {
          "output_type": "stream",
          "name": "stdout",
          "text": [
            "shape ones: torch.Size([5, 4])\n",
            "shape random: torch.Size([8, 4])\n",
            "\n",
            "shape ones transposed: torch.Size([4, 5])\n",
            "shape random: torch.Size([8, 4])\n",
            "\n",
            "can calculate dot product of torch.Size([8, 4]) @ torch.Size([4, 5])\n",
            "Random tensor 1 torch.Size([8, 4]) @ ones transposed torch.Size([4, 5]) gives shape torch.Size([8, 5])\n",
            "\n",
            "shape ones: torch.Size([5, 4])\n",
            "shape random transposed: torch.Size([4, 8])\n",
            "\n",
            "can calculate dot product of torch.Size([5, 4]) @ torch.Size([4, 8])\n",
            "ones torch.Size([5, 4]) @ random tensor 1 torch.Size([4, 8]) gives shape torch.Size([5, 8])\n",
            "\n"
          ]
        }
      ]
    },
    {
      "cell_type": "code",
      "source": [
        "tensor_3 = torch.tensor([[1, 2],\n",
        "                         [3, 4]])\n",
        "tensor_4 = torch.tensor([5., 6., 7.])\n",
        "\n",
        "print(tensor_3.dtype)\n",
        "print(tensor_4.dtype)\n"
      ],
      "metadata": {
        "colab": {
          "base_uri": "https://localhost:8080/"
        },
        "id": "k43ENyBjSGYQ",
        "outputId": "9ff74f19-6a9a-47b6-8f7a-a36fd5e60e40"
      },
      "execution_count": 25,
      "outputs": [
        {
          "output_type": "stream",
          "name": "stdout",
          "text": [
            "torch.int64\n",
            "torch.float32\n"
          ]
        }
      ]
    },
    {
      "cell_type": "markdown",
      "source": [
        "## creating tensors and tensors-like"
      ],
      "metadata": {
        "id": "FMqpn6CxUfS5"
      }
    },
    {
      "cell_type": "code",
      "source": [
        "tens_range = torch.arange(1, 11)\n",
        "print(f\"Using arange function to create range: {tens_range}\")\n",
        "tens_range_step = torch.arange(start=0, end=28, step=3)\n",
        "print(f\"Using arange and steps to create range: {tens_range_step}\")"
      ],
      "metadata": {
        "colab": {
          "base_uri": "https://localhost:8080/"
        },
        "id": "VVsIpfJNUkls",
        "outputId": "0640d600-3478-491a-c6cb-696e727bac84"
      },
      "execution_count": 26,
      "outputs": [
        {
          "output_type": "stream",
          "name": "stdout",
          "text": [
            "Using arange function to create range: tensor([ 1,  2,  3,  4,  5,  6,  7,  8,  9, 10])\n",
            "Using arange and steps to create range: tensor([ 0,  3,  6,  9, 12, 15, 18, 21, 24, 27])\n"
          ]
        }
      ]
    },
    {
      "cell_type": "code",
      "source": [
        "ten_ones = torch.ones_like(tens_range_step)\n",
        "print(ten_ones)"
      ],
      "metadata": {
        "colab": {
          "base_uri": "https://localhost:8080/"
        },
        "id": "p0HcR_HcW03W",
        "outputId": "3261b9dd-3d78-44f1-d53c-09745af3cf5c"
      },
      "execution_count": 27,
      "outputs": [
        {
          "output_type": "stream",
          "name": "stdout",
          "text": [
            "tensor([1, 1, 1, 1, 1, 1, 1, 1, 1, 1])\n"
          ]
        }
      ]
    },
    {
      "cell_type": "code",
      "source": [
        "ten_zeros = torch.zeros_like(ten_ones)\n",
        "ten_zeros"
      ],
      "metadata": {
        "colab": {
          "base_uri": "https://localhost:8080/"
        },
        "id": "v3fOFBGtb_-N",
        "outputId": "649a94c3-7306-4fca-eda8-95e97cdad841"
      },
      "execution_count": 28,
      "outputs": [
        {
          "output_type": "execute_result",
          "data": {
            "text/plain": [
              "tensor([0, 0, 0, 0, 0, 0, 0, 0, 0, 0])"
            ]
          },
          "metadata": {},
          "execution_count": 28
        }
      ]
    },
    {
      "cell_type": "code",
      "source": [
        "float_32_tensor = torch.tensor([3., 6., 9.],\n",
        "                               dtype=None, # defaults to float 32\n",
        "                               device=None, # defaults to cpu\n",
        "                               requires_grad=False)\n",
        "print(f\"tensor\\n{float_32_tensor} is by default of data type {float_32_tensor.dtype}\")\n",
        "float_16_tensor = float_32_tensor.type(torch.float16)\n",
        "print(f\"tensor type can be changed:\\n{float_32_tensor} with new data type {float_16_tensor.dtype}\")"
      ],
      "metadata": {
        "colab": {
          "base_uri": "https://localhost:8080/"
        },
        "id": "rvJPGGqCcLUx",
        "outputId": "c1bc8d23-8ff5-4309-cf5f-7b527cd867d8"
      },
      "execution_count": 29,
      "outputs": [
        {
          "output_type": "stream",
          "name": "stdout",
          "text": [
            "tensor\n",
            "tensor([3., 6., 9.]) is by default of data type torch.float32\n",
            "tensor type can be changed:\n",
            "tensor([3., 6., 9.]) with new data type torch.float16\n"
          ]
        }
      ]
    },
    {
      "cell_type": "code",
      "source": [
        "float_32_tensor.dtype"
      ],
      "metadata": {
        "colab": {
          "base_uri": "https://localhost:8080/"
        },
        "id": "i_JzVfagccj7",
        "outputId": "fff76882-0ae0-4632-dc2e-344b69400584"
      },
      "execution_count": 30,
      "outputs": [
        {
          "output_type": "execute_result",
          "data": {
            "text/plain": [
              "torch.float32"
            ]
          },
          "metadata": {},
          "execution_count": 30
        }
      ]
    },
    {
      "cell_type": "code",
      "source": [
        "tensor_float_16 = torch.tensor([3., 6., 9.],\n",
        "                               dtype=torch.float16,\n",
        "                               device=\"cpu\",\n",
        "                               requires_grad=False)\n",
        "print(f\"specifying data type while building tensor:\\n{tensor_float_16}\")"
      ],
      "metadata": {
        "colab": {
          "base_uri": "https://localhost:8080/"
        },
        "id": "qbDIC0LadQpn",
        "outputId": "a75dfd9a-a280-42e5-a46f-e378ba0fdb55"
      },
      "execution_count": 31,
      "outputs": [
        {
          "output_type": "stream",
          "name": "stdout",
          "text": [
            "specifying data type while building tensor:\n",
            "tensor([3., 6., 9.], dtype=torch.float16)\n"
          ]
        }
      ]
    },
    {
      "cell_type": "code",
      "source": [
        "res_tensor = float_32_tensor * float_16_tensor\n",
        "res_tensor.dtype\n",
        "print(f\"multiplying {float_32_tensor.dtype} * {float_16_tensor.dtype} gives {res_tensor.dtype}\")\n"
      ],
      "metadata": {
        "colab": {
          "base_uri": "https://localhost:8080/"
        },
        "id": "kmRY8UpveuWX",
        "outputId": "52514a7f-b909-4a81-a26a-cbd939735f9e"
      },
      "execution_count": 32,
      "outputs": [
        {
          "output_type": "stream",
          "name": "stdout",
          "text": [
            "multiplying torch.float32 * torch.float16 gives torch.float32\n"
          ]
        }
      ]
    },
    {
      "cell_type": "code",
      "source": [
        "matrix_77 = torch.tensor([[1, 2, 3],\n",
        "                          [3, 2, 4]])\n",
        "tensor_76 = torch.tensor([7, 7, 7])\n",
        "print(f\"{matrix_77}\\n{tensor_76}\")\n",
        "print(f\"matrix type: {matrix_77.dtype}\\nvector type: {tensor_76.dtype}\")\n",
        "matrix_77 @ tensor_76"
      ],
      "metadata": {
        "colab": {
          "base_uri": "https://localhost:8080/"
        },
        "id": "dYLjLzCiiGfb",
        "outputId": "711205e2-1442-4c60-9d0d-ce2134110497"
      },
      "execution_count": 33,
      "outputs": [
        {
          "output_type": "stream",
          "name": "stdout",
          "text": [
            "tensor([[1, 2, 3],\n",
            "        [3, 2, 4]])\n",
            "tensor([7, 7, 7])\n",
            "matrix type: torch.int64\n",
            "vector type: torch.int64\n"
          ]
        },
        {
          "output_type": "execute_result",
          "data": {
            "text/plain": [
              "tensor([42, 63])"
            ]
          },
          "metadata": {},
          "execution_count": 33
        }
      ]
    },
    {
      "cell_type": "code",
      "source": [
        "tensor_int_32 = torch.tensor([3, 2, 4], dtype=torch.int32)\n",
        "print(f\"tensor {tensor_int_32} of type int 32: {tensor_int_32.dtype}\")\n",
        "tensor_int_64 = torch.tensor([3, 2, 4], dtype=torch.int64)\n",
        "print(f\"tensor {tensor_int_64} of type int 64: {tensor_int_64.dtype}\")\n",
        "tensor_float_16 = torch.tensor([3., 4., 5.], dtype=torch.float16)\n",
        "print(f\"tensor {tensor_float_16} of type float 16: {tensor_float_16.dtype}\")\n",
        "tensor_float_32 = torch.tensor([3., 4., 5.], dtype=torch.float32)\n",
        "print(f\"tensor {tensor_float_32} of type {tensor_float_32.dtype}\")\n",
        "res_1 = tensor_int_32 * tensor_int_64\n",
        "res_2 = tensor_int_32 * tensor_float_16\n",
        "print(f\"tensor type {tensor_int_32.dtype} * tensor {tensor_int_64.dtype} gives {res_1.dtype}\")\n",
        "print(f\"tensor type {tensor_int_32.dtype} * tensor {tensor_float_16.dtype} gives {res_2.dtype}\")\n"
      ],
      "metadata": {
        "colab": {
          "base_uri": "https://localhost:8080/"
        },
        "id": "g9ErVOX1kdhA",
        "outputId": "8316c672-d625-4099-db17-3b20469a6bf5"
      },
      "execution_count": 34,
      "outputs": [
        {
          "output_type": "stream",
          "name": "stdout",
          "text": [
            "tensor tensor([3, 2, 4], dtype=torch.int32) of type int 32: torch.int32\n",
            "tensor tensor([3, 2, 4]) of type int 64: torch.int64\n",
            "tensor tensor([3., 4., 5.], dtype=torch.float16) of type float 16: torch.float16\n",
            "tensor tensor([3., 4., 5.]) of type torch.float32\n",
            "tensor type torch.int32 * tensor torch.int64 gives torch.int64\n",
            "tensor type torch.int32 * tensor torch.float16 gives torch.float16\n"
          ]
        }
      ]
    },
    {
      "cell_type": "code",
      "source": [
        "tensor_long = torch.tensor([3, 4, 5], dtype=torch.long)\n",
        "tensor_64 = torch.tensor([3, 4, 5])\n",
        "print(f\"torch.long gives out 64bit tensor: {tensor_long.dtype}\")\n",
        "print(f\"matching default value of dtype: {tensor_64.dtype}\")"
      ],
      "metadata": {
        "colab": {
          "base_uri": "https://localhost:8080/"
        },
        "id": "0ExUa7PJ30V8",
        "outputId": "92d47a75-22b0-4d31-d02a-0819f35e6158"
      },
      "execution_count": 35,
      "outputs": [
        {
          "output_type": "stream",
          "name": "stdout",
          "text": [
            "torch.long gives out 64bit tensor: torch.int64\n",
            "matching default value of dtype: torch.int64\n"
          ]
        }
      ]
    },
    {
      "cell_type": "markdown",
      "source": [
        "### getting information from tensors"
      ],
      "metadata": {
        "id": "FXKLBh-E5GSX"
      }
    },
    {
      "cell_type": "code",
      "source": [
        "tensor_23 = torch.rand(4, 7)\n",
        "print(tensor_23)\n",
        "print(f\"Tensor Data Type: {tensor_23.dtype}\")\n",
        "print(f\"Tensor Shape: {tensor_23.shape}\") # shape -> attribute\n",
        "print(f\"Tensor Size: {tensor_23.size()}\") # size() -> function\n",
        "print(f\"Tensor on device: {tensor_23.device} by default.\")"
      ],
      "metadata": {
        "colab": {
          "base_uri": "https://localhost:8080/"
        },
        "id": "2nEl4swQ5Jml",
        "outputId": "0868f494-0b94-4b5c-c3d0-1b50890de6d5"
      },
      "execution_count": 36,
      "outputs": [
        {
          "output_type": "stream",
          "name": "stdout",
          "text": [
            "tensor([[0.8860, 0.5832, 0.3376, 0.8090, 0.5779, 0.9040, 0.5547],\n",
            "        [0.3423, 0.6343, 0.3644, 0.7104, 0.9464, 0.7890, 0.2814],\n",
            "        [0.7886, 0.5895, 0.7539, 0.1952, 0.0050, 0.3068, 0.1165],\n",
            "        [0.9103, 0.6440, 0.7071, 0.6581, 0.4913, 0.8913, 0.1447]])\n",
            "Tensor Data Type: torch.float32\n",
            "Tensor Shape: torch.Size([4, 7])\n",
            "Tensor Size: torch.Size([4, 7])\n",
            "Tensor on device: cpu by default.\n"
          ]
        }
      ]
    },
    {
      "cell_type": "code",
      "source": [
        "device = \"cuda\" if torch.cuda.is_available else \"cpu\"\n",
        "device"
      ],
      "metadata": {
        "colab": {
          "base_uri": "https://localhost:8080/",
          "height": 35
        },
        "id": "7-PbisPH8vqz",
        "outputId": "8f15c8e5-c4de-45f6-ba51-fdec08837fb1"
      },
      "execution_count": 37,
      "outputs": [
        {
          "output_type": "execute_result",
          "data": {
            "text/plain": [
              "'cuda'"
            ],
            "application/vnd.google.colaboratory.intrinsic+json": {
              "type": "string"
            }
          },
          "metadata": {},
          "execution_count": 37
        }
      ]
    },
    {
      "cell_type": "code",
      "source": [
        "tensor_33 = torch.rand(6, 6)\n",
        "tensor_34 = torch.rand(5, 6).type(torch.float16)\n",
        "print(f\"defautl data type: {tensor_33.dtype}\")\n",
        "print(f\"default data type changed to: {tensor_34.dtype}\")\n",
        "tensor_35 = torch.rand([5, 6])\n",
        "print(f\"tensor on: {tensor_35.device} (default device)\")\n",
        "# tensor_36 = torch.rand([5, 6], device=\"cuda\") # only if cuda is available\n",
        "# print(f\"tensor on: {tensor_36.device} (set to the device)\")\n"
      ],
      "metadata": {
        "colab": {
          "base_uri": "https://localhost:8080/"
        },
        "id": "wRwqWeHZ6U3J",
        "outputId": "b12c279a-739c-4852-ac2e-422ae8817cc4"
      },
      "execution_count": 39,
      "outputs": [
        {
          "output_type": "stream",
          "name": "stdout",
          "text": [
            "defautl data type: torch.float32\n",
            "default data type changed to: torch.float16\n",
            "tensor on: cpu (default device)\n"
          ]
        }
      ]
    },
    {
      "cell_type": "markdown",
      "source": [
        "### manipulating tensors (tensor operations)"
      ],
      "metadata": {
        "id": "a8hgtGAq9t8c"
      }
    },
    {
      "cell_type": "code",
      "source": [
        "add_to_tensor = torch.tensor([[1, 2, 3],\n",
        "                              [2, 3, 4],\n",
        "                              [4, 3, 6]])\n",
        "added_10 = add_to_tensor + 10\n",
        "added_10"
      ],
      "metadata": {
        "colab": {
          "base_uri": "https://localhost:8080/"
        },
        "id": "eCTmdUZs9yUG",
        "outputId": "fcddd72c-538f-4bcd-e1e4-d9cd81404e96"
      },
      "execution_count": 41,
      "outputs": [
        {
          "output_type": "execute_result",
          "data": {
            "text/plain": [
              "tensor([[11, 12, 13],\n",
              "        [12, 13, 14],\n",
              "        [14, 13, 16]])"
            ]
          },
          "metadata": {},
          "execution_count": 41
        }
      ]
    },
    {
      "cell_type": "markdown",
      "source": [
        "### using built in function"
      ],
      "metadata": {
        "id": "F1WYGmqa-ll6"
      }
    },
    {
      "cell_type": "code",
      "source": [
        "mul_tensor = torch.mul(added_10, 4)\n",
        "print(f\"torch.mul function:\\n{mul_tensor}\")\n",
        "div_tensor = torch.div(mul_tensor, 2)\n",
        "print(f\"torch.div function:\\n{div_tensor}\")\n",
        "add_to_tensor = torch.add(mul_tensor, div_tensor)\n",
        "print(f\"adding 2 tensors using torch.add function:\\n{add_to_tensor}\")\n",
        "sub_tensor = torch.sub(div_tensor, mul_tensor)\n",
        "print(f\"subtracting one tensor from another:\\n{sub_tensor}\")"
      ],
      "metadata": {
        "colab": {
          "base_uri": "https://localhost:8080/"
        },
        "id": "gSiC_BR_-q5b",
        "outputId": "cd8096c9-9c8e-401b-e1c2-cd9a95e977ed"
      },
      "execution_count": 53,
      "outputs": [
        {
          "output_type": "stream",
          "name": "stdout",
          "text": [
            "torch.mul function:\n",
            "tensor([[44, 48, 52],\n",
            "        [48, 52, 56],\n",
            "        [56, 52, 64]])\n",
            "torch.div function:\n",
            "tensor([[22., 24., 26.],\n",
            "        [24., 26., 28.],\n",
            "        [28., 26., 32.]])\n",
            "adding 2 tensors using torch.add function:\n",
            "tensor([[66., 72., 78.],\n",
            "        [72., 78., 84.],\n",
            "        [84., 78., 96.]])\n",
            "subtracting one tensor from another:\n",
            "tensor([[-22., -24., -26.],\n",
            "        [-24., -26., -28.],\n",
            "        [-28., -26., -32.]])\n"
          ]
        }
      ]
    },
    {
      "cell_type": "markdown",
      "source": [
        "### matrix multiplication\n",
        "\n",
        "* element-wise multiplication -> multiply each element of the matrix by a number\n",
        "* matrix multiplication using dot product"
      ],
      "metadata": {
        "id": "_tAF9WOVBsqO"
      }
    },
    {
      "cell_type": "code",
      "source": [
        "matrix_43 = torch.tensor([[2, 3, 4],\n",
        "                          [4, 5, 6]])\n",
        "print(f\"matrix 43:\\n{matrix_43}\")\n",
        "print(f\"shape of matrix 43\\n{matrix_43.shape}\\n\")\n",
        "matrix_44 = torch.tensor([[[3, 4],\n",
        "                           [4, 5],\n",
        "                           [8, 3]]])\n",
        "print(f\"matrix 44:\\n{matrix_44}\")\n",
        "print(f\"shape of matrix 44:\\n{matrix_44.shape}\\n\")\n",
        "\n",
        "res_mat_mul = torch.matmul(matrix_43, matrix_44)\n",
        "print(f\"result matmul matrix 43 and matrix 44:\\n{res_mat_mul}\\nwith shape {res_mat_mul.shape}\\n\")\n",
        "res_mat_mul_1 = torch.matmul(matrix_43, matrix_44.squeeze())\n",
        "print(f\"result matmul matrix 43 and matrix 44 squeezed\\n{res_mat_mul_1}\\nwith shape {res_mat_mul_1.shape}\\n\")\n",
        "res_mat_mul_2 = torch.matmul(matrix_43, matrix_44.unsqueeze(0))\n",
        "print(f\"result matmul matrix 43 and matrix 44 unsqueezed\\n{res_mat_mul_2}\\nwith shape {res_mat_mul_2.shape}\")\n"
      ],
      "metadata": {
        "colab": {
          "base_uri": "https://localhost:8080/"
        },
        "id": "Hvj9aG5eFKUZ",
        "outputId": "eec20a23-802f-47c4-d83b-9e75fb259124"
      },
      "execution_count": 79,
      "outputs": [
        {
          "output_type": "stream",
          "name": "stdout",
          "text": [
            "matrix 43:\n",
            "tensor([[2, 3, 4],\n",
            "        [4, 5, 6]])\n",
            "shape of matrix 43\n",
            "torch.Size([2, 3])\n",
            "\n",
            "matrix 44:\n",
            "tensor([[[3, 4],\n",
            "         [4, 5],\n",
            "         [8, 3]]])\n",
            "shape of matrix 44:\n",
            "torch.Size([1, 3, 2])\n",
            "\n",
            "result matmul matrix 43 and matrix 44:\n",
            "tensor([[[50, 35],\n",
            "         [80, 59]]])\n",
            "with shape torch.Size([1, 2, 2])\n",
            "\n",
            "result matmul matrix 43 and matrix 44 squeezed\n",
            "tensor([[50, 35],\n",
            "        [80, 59]])\n",
            "with shape torch.Size([2, 2])\n",
            "\n",
            "result matmul matrix 43 and matrix 44 unsqueezed\n",
            "tensor([[[[50, 35],\n",
            "          [80, 59]]]])\n",
            "with shape torch.Size([1, 1, 2, 2])\n"
          ]
        }
      ]
    },
    {
      "cell_type": "code",
      "source": [
        "matrix_21 = torch.tensor([[2, 3],\n",
        "                          [2, 3]])\n",
        "matrix_45 = torch.tensor([[4, 5],\n",
        "                          [8, 2]])\n",
        "res_21_45 = torch.matmul(matrix_21, matrix_45)\n",
        "print(res_21_45)\n",
        "res_21_45_1 = matrix_21 @ matrix_45\n",
        "print(res_21_45_1)"
      ],
      "metadata": {
        "colab": {
          "base_uri": "https://localhost:8080/"
        },
        "id": "uTGc5HU3LK20",
        "outputId": "49fc96c6-12ef-4f6f-cc99-08a5747643f2"
      },
      "execution_count": 84,
      "outputs": [
        {
          "output_type": "stream",
          "name": "stdout",
          "text": [
            "tensor([[32, 16],\n",
            "        [32, 16]])\n",
            "tensor([[32, 16],\n",
            "        [32, 16]])\n"
          ]
        }
      ]
    },
    {
      "cell_type": "code",
      "source": [
        "# arange\n",
        "# max\n",
        "# min\n",
        "# mean\n",
        "# sum\n",
        "# argmax\n",
        "# reshape\n",
        "# view\n",
        "# stack -> hstack, vstack\n",
        "# permute\n",
        "# from_numpy / numpy"
      ],
      "metadata": {
        "id": "LiDNZm0fn3hY"
      },
      "execution_count": null,
      "outputs": []
    }
  ]
}