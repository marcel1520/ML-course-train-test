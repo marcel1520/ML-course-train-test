{
 "cells": [
  {
   "cell_type": "code",
   "execution_count": null,
   "id": "acf00337",
   "metadata": {},
   "outputs": [
    {
     "name": "stdout",
     "output_type": "stream",
     "text": [
      "downloading 03_pytorch_computer_vision_dl.ipynb\n"
     ]
    }
   ],
   "source": [
    "import requests\n",
    "from pathlib import Path\n",
    "\n",
    "# if invalid notebook download notebook by its raw content\n",
    "if Path(\"03_pytorch_computer_vision_dl.ipynb\").is_file():\n",
    "  print(\"03_pytorch_computer_vision_dl.ipynb already exists, skipping download\")\n",
    "else:\n",
    "  print(\"downloading 03_pytorch_computer_vision_dl.ipynb\")\n",
    "  request = requests.get(\"https://raw.githubusercontent.com/marcel1520/ML-course/refs/heads/main/03_pytorch_computer_vision.ipynb\")\n",
    "  with open(\"03_pytorch_computer_vision_dl.ipynb\", \"wb\") as f:\n",
    "    f.write(request.content)"
   ]
  },
  {
   "cell_type": "markdown",
   "id": "405f1a74",
   "metadata": {},
   "source": []
  }
 ],
 "metadata": {
  "kernelspec": {
   "display_name": "pytorch-course",
   "language": "python",
   "name": "python3"
  },
  "language_info": {
   "codemirror_mode": {
    "name": "ipython",
    "version": 3
   },
   "file_extension": ".py",
   "mimetype": "text/x-python",
   "name": "python",
   "nbconvert_exporter": "python",
   "pygments_lexer": "ipython3",
   "version": "3.11.13"
  }
 },
 "nbformat": 4,
 "nbformat_minor": 5
}
